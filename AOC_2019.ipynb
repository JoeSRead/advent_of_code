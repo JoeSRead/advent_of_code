{
 "cells": [
  {
   "cell_type": "markdown",
   "metadata": {},
   "source": [
    "## AOC 2019 Test"
   ]
  },
  {
   "cell_type": "code",
   "execution_count": 8,
   "metadata": {},
   "outputs": [
    {
     "data": {
      "text/plain": [
       "33583"
      ]
     },
     "execution_count": 8,
     "metadata": {},
     "output_type": "execute_result"
    }
   ],
   "source": [
    "100756//3 -2"
   ]
  },
  {
   "cell_type": "code",
   "execution_count": 9,
   "metadata": {
    "jupyter": {
     "source_hidden": true
    }
   },
   "outputs": [],
   "source": [
    "num_lst = [143843,\n",
    "144558,\n",
    "116244,\n",
    "117881,\n",
    "138945,\n",
    "97456,\n",
    "58650,\n",
    "117108,\n",
    "92832,\n",
    "65454,\n",
    "134030,\n",
    "96221,\n",
    "139052,\n",
    "66021,\n",
    "95159,\n",
    "60921,\n",
    "97715,\n",
    "55947,\n",
    "64516,\n",
    "112463,\n",
    "109063,\n",
    "117606,\n",
    "74592,\n",
    "53954,\n",
    "57131,\n",
    "109084,\n",
    "94829,\n",
    "146641,\n",
    "90803,\n",
    "82129,\n",
    "51563,\n",
    "135004,\n",
    "62815,\n",
    "51944,\n",
    "98078,\n",
    "87360,\n",
    "133867,\n",
    "130745,\n",
    "118620,\n",
    "67247,\n",
    "84032,\n",
    "76912,\n",
    "96189,\n",
    "146929,\n",
    "50217,\n",
    "129260,\n",
    "52994,\n",
    "148798,\n",
    "62244,\n",
    "83613,\n",
    "93746,\n",
    "93226,\n",
    "84804,\n",
    "70442,\n",
    "74736,\n",
    "96469,\n",
    "124597,\n",
    "128177,\n",
    "60771,\n",
    "92722,\n",
    "125505,\n",
    "58898,\n",
    "62380,\n",
    "107386,\n",
    "126861,\n",
    "50007,\n",
    "107730,\n",
    "130300,\n",
    "85507,\n",
    "147266,\n",
    "57945,\n",
    "88357,\n",
    "79129,\n",
    "147921,\n",
    "126996,\n",
    "95815,\n",
    "91783,\n",
    "125716,\n",
    "94350,\n",
    "131258,\n",
    "90897,\n",
    "107305,\n",
    "71579,\n",
    "104766,\n",
    "104400,\n",
    "148072,\n",
    "95196,\n",
    "104221,\n",
    "96059,\n",
    "137814,\n",
    "104159,\n",
    "51053,\n",
    "73143,\n",
    "137363,\n",
    "129416,\n",
    "123035,\n",
    "82901,\n",
    "67221,\n",
    "77263,\n",
    "73447]"
   ]
  },
  {
   "cell_type": "code",
   "execution_count": 10,
   "metadata": {},
   "outputs": [
    {
     "data": {
      "text/plain": [
       "3252897"
      ]
     },
     "execution_count": 10,
     "metadata": {},
     "output_type": "execute_result"
    }
   ],
   "source": [
    "sum([i//3 - 2 for i in num_lst ])"
   ]
  },
  {
   "cell_type": "code",
   "execution_count": 33,
   "metadata": {},
   "outputs": [],
   "source": [
    "super_summed = []\n",
    "for i in num_lst:\n",
    "    while i>5:\n",
    "        i = i//3-2\n",
    "        super_summed.append(i)"
   ]
  },
  {
   "cell_type": "code",
   "execution_count": 36,
   "metadata": {},
   "outputs": [
    {
     "data": {
      "text/plain": [
       "4876469"
      ]
     },
     "execution_count": 36,
     "metadata": {},
     "output_type": "execute_result"
    }
   ],
   "source": [
    "sum(super_summed)"
   ]
  },
  {
   "cell_type": "code",
   "execution_count": null,
   "metadata": {},
   "outputs": [],
   "source": []
  },
  {
   "cell_type": "code",
   "execution_count": null,
   "metadata": {},
   "outputs": [],
   "source": []
  },
  {
   "cell_type": "code",
   "execution_count": 61,
   "metadata": {},
   "outputs": [],
   "source": [
    "test1 = [1,1,1,4,99,5,6,0,99]"
   ]
  },
  {
   "cell_type": "code",
   "execution_count": 62,
   "metadata": {},
   "outputs": [
    {
     "name": "stdout",
     "output_type": "stream",
     "text": [
      "Done!\n",
      "[30, 1, 1, 4, 2, 5, 6, 0, 99]\n"
     ]
    }
   ],
   "source": [
    "for i in range(0, len(test1), 4):\n",
    "    \n",
    "    if test1[i] == 1:\n",
    "        test1[test1[i+3]] = test1[test1[i+1]] + test1[test1[i+2]]\n",
    "        continue\n",
    "        \n",
    "    if test1[i] == 2:\n",
    "        test1[test1[i+3]] = test1[test1[i+1]] * test1[test1[i+2]]\n",
    "        continue\n",
    "    \n",
    "    if test1[i] == 99:\n",
    "        print('Done!')\n",
    "        break\n",
    "print(test1)"
   ]
  },
  {
   "cell_type": "code",
   "execution_count": 63,
   "metadata": {},
   "outputs": [],
   "source": [
    "opcode = [1,12,2,3,1,1,2,3,1,3,4,3,1,5,0,3,2,1,10,19,1,19,5,23,2,23,6,27,1,27,5,31,2,6,31,35,1,5,35,39,2,39,9,43,1,43,5,47,1,10,47,51,1,51,6,55,1,55,10,59,1,59,6,63,2,13,63,67,1,9,67,71,2,6,71,75,1,5,75,79,1,9,79,83,2,6,83,87,1,5,87,91,2,6,91,95,2,95,9,99,1,99,6,103,1,103,13,107,2,13,107,111,2,111,10,115,1,115,6,119,1,6,119,123,2,6,123,127,1,127,5,131,2,131,6,135,1,135,2,139,1,139,9,0,99,2,14,0,0]"
   ]
  },
  {
   "cell_type": "code",
   "execution_count": 64,
   "metadata": {},
   "outputs": [
    {
     "name": "stdout",
     "output_type": "stream",
     "text": [
      "Done!\n",
      "[5866663, 12, 2, 2, 1, 1, 2, 3, 1, 3, 4, 3, 1, 5, 0, 3, 2, 1, 10, 48, 1, 19, 5, 49, 2, 23, 6, 98, 1, 27, 5, 99, 2, 6, 31, 198, 1, 5, 35, 199, 2, 39, 9, 597, 1, 43, 5, 598, 1, 10, 47, 602, 1, 51, 6, 604, 1, 55, 10, 608, 1, 59, 6, 610, 2, 13, 63, 3050, 1, 9, 67, 3053, 2, 6, 71, 6106, 1, 5, 75, 6107, 1, 9, 79, 6110, 2, 6, 83, 12220, 1, 5, 87, 12221, 2, 6, 91, 24442, 2, 95, 9, 73326, 1, 99, 6, 73328, 1, 103, 13, 73333, 2, 13, 107, 366665, 2, 111, 10, 1466660, 1, 115, 6, 1466662, 1, 6, 119, 1466664, 2, 6, 123, 2933328, 1, 127, 5, 2933329, 2, 131, 6, 5866658, 1, 135, 2, 5866660, 1, 139, 9, 0, 99, 2, 14, 0, 0]\n"
     ]
    }
   ],
   "source": [
    "for i in range(0, len(opcode), 4):\n",
    "    \n",
    "    if opcode[i] == 1:\n",
    "        opcode[opcode[i+3]] = opcode[opcode[i+1]] + opcode[opcode[i+2]]\n",
    "        continue\n",
    "        \n",
    "    if opcode[i] == 2:\n",
    "        opcode[opcode[i+3]] = opcode[opcode[i+1]] * opcode[opcode[i+2]]\n",
    "        continue\n",
    "    \n",
    "    if opcode[i] == 99:\n",
    "        print('Done!')\n",
    "        break\n",
    "print(opcode)"
   ]
  },
  {
   "cell_type": "code",
   "execution_count": null,
   "metadata": {},
   "outputs": [],
   "source": []
  }
 ],
 "metadata": {
  "kernelspec": {
   "display_name": "Python 3",
   "language": "python",
   "name": "python3"
  },
  "language_info": {
   "codemirror_mode": {
    "name": "ipython",
    "version": 3
   },
   "file_extension": ".py",
   "mimetype": "text/x-python",
   "name": "python",
   "nbconvert_exporter": "python",
   "pygments_lexer": "ipython3",
   "version": "3.7.6"
  }
 },
 "nbformat": 4,
 "nbformat_minor": 4
}
