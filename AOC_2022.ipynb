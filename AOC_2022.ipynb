{
 "cells": [
  {
   "cell_type": "code",
   "execution_count": 38,
   "id": "08331657-2020-4e6b-9c27-bd4b862a2ae4",
   "metadata": {},
   "outputs": [],
   "source": [
    "import numpy as np\n",
    "import timeit"
   ]
  },
  {
   "cell_type": "markdown",
   "id": "cf64577c-6884-41a4-8c30-b82136701c73",
   "metadata": {},
   "source": [
    "# Day 1"
   ]
  },
  {
   "cell_type": "code",
   "execution_count": 17,
   "id": "a046aa67-f2b7-4db7-9893-ccf9679f9063",
   "metadata": {
    "tags": []
   },
   "outputs": [
    {
     "data": {
      "text/plain": [
       "['62797', '', '1137', '6086', '6104', '1895', '7909', '1651', '4973', '6964']"
      ]
     },
     "execution_count": 17,
     "metadata": {},
     "output_type": "execute_result"
    }
   ],
   "source": [
    "with open('data/2022/d1.txt') as f:\n",
    "    lines = list(f.read().split('\\n'))\n",
    "lines[:10]"
   ]
  },
  {
   "cell_type": "code",
   "execution_count": 55,
   "id": "569f9703-cf57-474e-8438-953835e0af60",
   "metadata": {},
   "outputs": [
    {
     "name": "stdout",
     "output_type": "stream",
     "text": [
      "Star 1: 68442 and Star 2: 204837\n",
      "CPU times: user 2.09 ms, sys: 958 µs, total: 3.05 ms\n",
      "Wall time: 3.27 ms\n"
     ]
    }
   ],
   "source": [
    "%%time\n",
    "\n",
    "lofl = []\n",
    "sblst = []\n",
    "for elm in lines:\n",
    "    if elm != '':\n",
    "        sblst.append(int(elm))\n",
    "    elif elm == '':\n",
    "        lofl.append(sblst)\n",
    "        sblst = []\n",
    "    else:\n",
    "        lofl.append(sblst)\n",
    "        \n",
    "print(f\"Star 1: {max([sum(sb) for sb in lofl])} and Star 2: {sum(sorted([sum(sb) for sb in lofl])[-3:])}\")"
   ]
  },
  {
   "cell_type": "code",
   "execution_count": 57,
   "id": "a8eb9b96-fa7e-45cc-99a5-6dac2176e580",
   "metadata": {},
   "outputs": [
    {
     "name": "stdout",
     "output_type": "stream",
     "text": [
      "Star 1: 68442 and Star 2: 204837\n",
      "CPU times: user 2.16 ms, sys: 286 µs, total: 2.44 ms\n",
      "Wall time: 2.39 ms\n"
     ]
    }
   ],
   "source": [
    "%%time\n",
    "# Refactored but slower or equiv?\n",
    "\n",
    "lofl = []\n",
    "sm = []\n",
    "\n",
    "for elm in lines:\n",
    "    \n",
    "    if elm != '':\n",
    "        sm.append(int(elm))\n",
    "        \n",
    "    elif elm == '':\n",
    "        lofl.append(sum(sm))\n",
    "        sm = []\n",
    "        \n",
    "    else:\n",
    "        lofl.append(sblst)\n",
    "        \n",
    "lofl = sorted(lofl)\n",
    "        \n",
    "print(f\"Star 1: {max(lofl)} and Star 2: {sum(lofl[-3:])}\")"
   ]
  },
  {
   "cell_type": "code",
   "execution_count": null,
   "id": "2f3cc1ee-2c65-4ddf-af81-973d40de9d84",
   "metadata": {},
   "outputs": [],
   "source": []
  },
  {
   "cell_type": "markdown",
   "id": "2cf64fce-6f4c-4857-8138-1ce5a37ca5f7",
   "metadata": {},
   "source": [
    "# Day 2"
   ]
  },
  {
   "cell_type": "code",
   "execution_count": 60,
   "id": "a365907c-7a78-464b-8df0-62a9a1866af8",
   "metadata": {},
   "outputs": [],
   "source": [
    "# with open('data/2022/d2.txt') as f:\n",
    "#     lines = list(f.readlines())\n",
    "# lines[:10]"
   ]
  },
  {
   "cell_type": "code",
   "execution_count": null,
   "id": "62908052-a2ac-474f-a1d1-bc7718e75534",
   "metadata": {},
   "outputs": [],
   "source": []
  }
 ],
 "metadata": {
  "kernelspec": {
   "display_name": "Python 3 (ipykernel)",
   "language": "python",
   "name": "python3"
  },
  "language_info": {
   "codemirror_mode": {
    "name": "ipython",
    "version": 3
   },
   "file_extension": ".py",
   "mimetype": "text/x-python",
   "name": "python",
   "nbconvert_exporter": "python",
   "pygments_lexer": "ipython3",
   "version": "3.9.12"
  }
 },
 "nbformat": 4,
 "nbformat_minor": 5
}
