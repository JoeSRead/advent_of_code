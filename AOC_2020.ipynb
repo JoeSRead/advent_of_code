{
 "cells": [
  {
   "cell_type": "markdown",
   "metadata": {},
   "source": [
    "### Day 1 - part 1"
   ]
  },
  {
   "cell_type": "code",
   "execution_count": 425,
   "metadata": {},
   "outputs": [],
   "source": [
    "import pandas as pd\n",
    "import numpy as np\n",
    "import re"
   ]
  },
  {
   "cell_type": "code",
   "execution_count": 2,
   "metadata": {},
   "outputs": [],
   "source": [
    "test_lst = [1721, 979, 366, 299, 675, 1456]"
   ]
  },
  {
   "cell_type": "code",
   "execution_count": 3,
   "metadata": {},
   "outputs": [
    {
     "data": {
      "text/plain": [
       "[(514579, 1721, 299), (514579, 299, 1721)]"
      ]
     },
     "execution_count": 3,
     "metadata": {},
     "output_type": "execute_result"
    }
   ],
   "source": [
    "[(i*j, i,j) for i in test_lst for j in test_lst  if i+j == 2020]"
   ]
  },
  {
   "cell_type": "code",
   "execution_count": 4,
   "metadata": {
    "jupyter": {
     "source_hidden": true
    }
   },
   "outputs": [],
   "source": [
    "day_1_lst = [1211,\n",
    "1698,\n",
    "1787,\n",
    "1947,\n",
    "1888,\n",
    "444,\n",
    "1819,\n",
    "1890,\n",
    "1940,\n",
    "1884,\n",
    "1917,\n",
    "1814,\n",
    "1724,\n",
    "1561,\n",
    "1823,\n",
    "1266,\n",
    "1982,\n",
    "1826,\n",
    "1871,\n",
    "1692,\n",
    "1665,\n",
    "1081,\n",
    "1847,\n",
    "640,\n",
    "1861,\n",
    "1632,\n",
    "1916,\n",
    "1921,\n",
    "1450,\n",
    "1806,\n",
    "1950,\n",
    "1969,\n",
    "1757,\n",
    "1766,\n",
    "1799,\n",
    "422,\n",
    "1865,\n",
    "1934,\n",
    "1954,\n",
    "1640,\n",
    "1743,\n",
    "1812,\n",
    "1745,\n",
    "1574,\n",
    "1904,\n",
    "1510,\n",
    "1491,\n",
    "1977,\n",
    "1727,\n",
    "1979,\n",
    "1842,\n",
    "1784,\n",
    "1655,\n",
    "1991,\n",
    "1296,\n",
    "1849,\n",
    "1863,\n",
    "1886,\n",
    "1696,\n",
    "1716,\n",
    "1679,\n",
    "1848,\n",
    "1540,\n",
    "1780,\n",
    "1926,\n",
    "1986,\n",
    "1898,\n",
    "1448,\n",
    "315,\n",
    "1568,\n",
    "1869,\n",
    "1875,\n",
    "2010,\n",
    "1268,\n",
    "1892,\n",
    "1248,\n",
    "1746,\n",
    "1987,\n",
    "1963,\n",
    "20,\n",
    "1575,\n",
    "1827,\n",
    "1653,\n",
    "1851,\n",
    "1365,\n",
    "1599,\n",
    "1688,\n",
    "1943,\n",
    "1677,\n",
    "1320,\n",
    "154,\n",
    "1490,\n",
    "1737,\n",
    "1573,\n",
    "1908,\n",
    "1667,\n",
    "1151,\n",
    "1761,\n",
    "1587,\n",
    "1924,\n",
    "1941,\n",
    "1731,\n",
    "1669,\n",
    "1857,\n",
    "1723,\n",
    "1880,\n",
    "1970,\n",
    "1791,\n",
    "1928,\n",
    "1942,\n",
    "1816,\n",
    "1989,\n",
    "1832,\n",
    "1911,\n",
    "1711,\n",
    "1817,\n",
    "1893,\n",
    "896,\n",
    "1998,\n",
    "1720,\n",
    "317,\n",
    "1964,\n",
    "1379,\n",
    "1750,\n",
    "1971,\n",
    "1322,\n",
    "1992,\n",
    "1347,\n",
    "1608,\n",
    "1373,\n",
    "1668,\n",
    "1252,\n",
    "373,\n",
    "1968,\n",
    "1754,\n",
    "1709,\n",
    "1988,\n",
    "1946,\n",
    "1537,\n",
    "1758,\n",
    "1830,\n",
    "624,\n",
    "1694,\n",
    "1914,\n",
    "1867,\n",
    "1145,\n",
    "1973,\n",
    "1769,\n",
    "1773,\n",
    "1424,\n",
    "1777,\n",
    "1659,\n",
    "1789,\n",
    "1907,\n",
    "1201,\n",
    "1967,\n",
    "1682,\n",
    "1952,\n",
    "1978,\n",
    "1937,\n",
    "1974,\n",
    "1488,\n",
    "1896,\n",
    "1657,\n",
    "1420,\n",
    "1935,\n",
    "1778,\n",
    "1822,\n",
    "1703,\n",
    "2003,\n",
    "119,\n",
    "1149,\n",
    "1732,\n",
    "1878,\n",
    "1938,\n",
    "1918,\n",
    "1797,\n",
    "1836,\n",
    "1741,\n",
    "1579,\n",
    "1589,\n",
    "1999,\n",
    "1772,\n",
    "1853,\n",
    "1793,\n",
    "1768,\n",
    "1759,\n",
    "1216,\n",
    "1765,\n",
    "1944,\n",
    "1735,\n",
    "1580,\n",
    "1756,\n",
    "1308,\n",
    "1786,\n",
    "1962,\n",
    "1981,\n",
    "1156,\n",
    "1948,\n",
    "1894]"
   ]
  },
  {
   "cell_type": "code",
   "execution_count": 5,
   "metadata": {},
   "outputs": [
    {
     "data": {
      "text/plain": [
       "[(539851, 317, 1703), (539851, 1703, 317)]"
      ]
     },
     "execution_count": 5,
     "metadata": {},
     "output_type": "execute_result"
    }
   ],
   "source": [
    "[(i*j, i,j) for i in day_1_lst for j in day_1_lst  if i+j == 2020]"
   ]
  },
  {
   "cell_type": "code",
   "execution_count": 6,
   "metadata": {},
   "outputs": [],
   "source": [
    "# Copied from a friend, very nice linear time version \n",
    "\n",
    "def first_star(data):\n",
    "\n",
    "    num_dict = {}\n",
    "    for num in data:\n",
    "        val = 2020 - num\n",
    "        if num in num_dict:\n",
    "            print(num_dict[num] * num)\n",
    "        num_dict[val] = num"
   ]
  },
  {
   "cell_type": "code",
   "execution_count": 7,
   "metadata": {},
   "outputs": [
    {
     "name": "stdout",
     "output_type": "stream",
     "text": [
      "539851\n"
     ]
    }
   ],
   "source": [
    "first_star(day_1_lst)"
   ]
  },
  {
   "cell_type": "markdown",
   "metadata": {},
   "source": [
    "### Day 1 - part 2"
   ]
  },
  {
   "cell_type": "code",
   "execution_count": 8,
   "metadata": {},
   "outputs": [
    {
     "data": {
      "text/plain": [
       "[(212481360, 1081, 315, 624),\n",
       " (212481360, 1081, 624, 315),\n",
       " (212481360, 315, 1081, 624),\n",
       " (212481360, 315, 624, 1081),\n",
       " (212481360, 624, 1081, 315),\n",
       " (212481360, 624, 315, 1081)]"
      ]
     },
     "execution_count": 8,
     "metadata": {},
     "output_type": "execute_result"
    }
   ],
   "source": [
    "[(i*j*k, i,j, k) for i in day_1_lst for j in day_1_lst for k in day_1_lst  if i+j+k == 2020]"
   ]
  },
  {
   "cell_type": "code",
   "execution_count": null,
   "metadata": {},
   "outputs": [],
   "source": []
  },
  {
   "cell_type": "code",
   "execution_count": null,
   "metadata": {},
   "outputs": [],
   "source": []
  },
  {
   "cell_type": "markdown",
   "metadata": {},
   "source": [
    "### Day 2 - part 1"
   ]
  },
  {
   "cell_type": "code",
   "execution_count": 9,
   "metadata": {},
   "outputs": [],
   "source": [
    "test_lst = [\"1-3 a: abcde\",\n",
    "\"1-3 b: cdefg\",\n",
    "\"2-9 c: ccccccccc\"]"
   ]
  },
  {
   "cell_type": "code",
   "execution_count": 10,
   "metadata": {},
   "outputs": [
    {
     "data": {
      "text/plain": [
       "[('1-3 a', 'abcde'), ('1-3 b', 'cdefg'), ('2-9 c', 'ccccccccc')]"
      ]
     },
     "execution_count": 10,
     "metadata": {},
     "output_type": "execute_result"
    }
   ],
   "source": [
    "[(x.split(': ')[0], x.split(': ')[1])  for x in test_lst]"
   ]
  },
  {
   "cell_type": "code",
   "execution_count": 11,
   "metadata": {},
   "outputs": [],
   "source": [
    "# Open and create a list of rules and passwords\n",
    "\n",
    "text2 = []\n",
    "with open('data/day_2.txt', 'r') as file:\n",
    "    for x in file.readlines():\n",
    "        text2.append(x.split('\\n')[0])"
   ]
  },
  {
   "cell_type": "code",
   "execution_count": 12,
   "metadata": {},
   "outputs": [
    {
     "data": {
      "text/plain": [
       "1000"
      ]
     },
     "execution_count": 12,
     "metadata": {},
     "output_type": "execute_result"
    }
   ],
   "source": [
    "# Check the list is the correct length\n",
    "\n",
    "len(text2)"
   ]
  },
  {
   "cell_type": "code",
   "execution_count": 13,
   "metadata": {},
   "outputs": [
    {
     "data": {
      "text/plain": [
       "580"
      ]
     },
     "execution_count": 13,
     "metadata": {},
     "output_type": "execute_result"
    }
   ],
   "source": [
    "count = 0\n",
    "for x in text2:\n",
    "    rule = x.split(': ')[0]\n",
    "    \n",
    "    bound_lwr = int(rule.split(' ')[0].split('-')[0])\n",
    "    bound_upr = int(rule.split(' ')[0].split('-')[1])\n",
    "    char = rule[-1]\n",
    "    \n",
    "    pwrd = x.split(': ')[1]\n",
    "    \n",
    "    if bound_lwr <= pwrd.count(char) <= bound_upr:\n",
    "        count += 1\n",
    "count"
   ]
  },
  {
   "cell_type": "markdown",
   "metadata": {},
   "source": [
    "### Day 2 - part 2"
   ]
  },
  {
   "cell_type": "code",
   "execution_count": 14,
   "metadata": {},
   "outputs": [
    {
     "data": {
      "text/plain": [
       "611"
      ]
     },
     "execution_count": 14,
     "metadata": {},
     "output_type": "execute_result"
    }
   ],
   "source": [
    "count = 0\n",
    "for x in text2:\n",
    "    rule = x.split(': ')[0]\n",
    "    \n",
    "    bound_lwr = int(rule.split(' ')[0].split('-')[0])-1\n",
    "    bound_upr = int(rule.split(' ')[0].split('-')[1])-1\n",
    "    char = rule[-1]\n",
    "    \n",
    "    pwrd = x.split(': ')[1]\n",
    "    \n",
    "    if pwrd[bound_lwr] == char and pwrd[bound_upr] != char:\n",
    "        count += 1\n",
    "   \n",
    "    elif pwrd[bound_upr] == char and pwrd[bound_lwr] != char:\n",
    "        count += 1\n",
    "    \n",
    "count"
   ]
  },
  {
   "cell_type": "code",
   "execution_count": null,
   "metadata": {},
   "outputs": [],
   "source": []
  },
  {
   "cell_type": "markdown",
   "metadata": {},
   "source": [
    "### Day 3 - part 1"
   ]
  },
  {
   "cell_type": "code",
   "execution_count": 15,
   "metadata": {},
   "outputs": [],
   "source": [
    "text3 = []\n",
    "with open('data/day_3.txt', 'r') as file:\n",
    "    for x in file.readlines():\n",
    "        text3.append(x.split('\\n')[0])"
   ]
  },
  {
   "cell_type": "code",
   "execution_count": 16,
   "metadata": {},
   "outputs": [
    {
     "data": {
      "text/plain": [
       "31"
      ]
     },
     "execution_count": 16,
     "metadata": {},
     "output_type": "execute_result"
    }
   ],
   "source": [
    "# 31 wide\n",
    "len(text3[0])"
   ]
  },
  {
   "cell_type": "code",
   "execution_count": 17,
   "metadata": {},
   "outputs": [
    {
     "data": {
      "text/plain": [
       "323"
      ]
     },
     "execution_count": 17,
     "metadata": {},
     "output_type": "execute_result"
    }
   ],
   "source": [
    "# 323 long\n",
    "len(text3)"
   ]
  },
  {
   "cell_type": "code",
   "execution_count": 18,
   "metadata": {},
   "outputs": [
    {
     "data": {
      "text/plain": [
       "32"
      ]
     },
     "execution_count": 18,
     "metadata": {},
     "output_type": "execute_result"
    }
   ],
   "source": [
    "# To go down 323 we go across 32 copies\n",
    "int((3*323)/31 +1)"
   ]
  },
  {
   "cell_type": "code",
   "execution_count": 19,
   "metadata": {},
   "outputs": [],
   "source": [
    "wide3 = [x*32 for x in text3]"
   ]
  },
  {
   "cell_type": "code",
   "execution_count": 20,
   "metadata": {},
   "outputs": [
    {
     "data": {
      "text/plain": [
       "992"
      ]
     },
     "execution_count": 20,
     "metadata": {},
     "output_type": "execute_result"
    }
   ],
   "source": [
    "len(wide3[0])"
   ]
  },
  {
   "cell_type": "code",
   "execution_count": 21,
   "metadata": {},
   "outputs": [
    {
     "data": {
      "text/plain": [
       "'#'"
      ]
     },
     "execution_count": 21,
     "metadata": {},
     "output_type": "execute_result"
    }
   ],
   "source": [
    "wide3[0][7]"
   ]
  },
  {
   "cell_type": "code",
   "execution_count": 22,
   "metadata": {},
   "outputs": [],
   "source": [
    "count = 0\n",
    "for i in range(len(wide3)):\n",
    "    if wide3[i][i*3] == '#':\n",
    "        count += 1"
   ]
  },
  {
   "cell_type": "code",
   "execution_count": 23,
   "metadata": {},
   "outputs": [
    {
     "data": {
      "text/plain": [
       "234"
      ]
     },
     "execution_count": 23,
     "metadata": {},
     "output_type": "execute_result"
    }
   ],
   "source": [
    "count"
   ]
  },
  {
   "cell_type": "code",
   "execution_count": 24,
   "metadata": {
    "jupyter": {
     "source_hidden": true
    }
   },
   "outputs": [],
   "source": [
    "test =\"\"\".......#..#....#...#...#......#\n",
    "..##..#...##.###.#..#.....#.#..\n",
    "#..#.#....#......#..#.........#\n",
    ".#..##...#........#....#..#..#.\n",
    "#.#.#....###...#........#.....#\n",
    ".#...#.#.##.#.##...#.#.........\n",
    "####......#.......###.##.#.....\n",
    "..#...........#...#.#.#........\n",
    ".#.......#....###.####..#......\n",
    "...##........#....##.......##..\n",
    ".###......##.#......##....#.#.#\n",
    "........#.#......##...#......#.\n",
    "#....##.#..#...#.......#.......\n",
    ".#..##........##.........#....#\n",
    ".#..#..#...#....#.#......#.#...\n",
    "..#.#......##.#.......#....##..\n",
    "......##......#.#..##.#..#...#.\n",
    ".....##.......#.#....#.#.......\n",
    "........#.....#.....#..###.#...\n",
    "#........#..#.....#...#.#.#..#.\n",
    ".#..#.....#...#........#.....#.\n",
    ".#.#.....#.....#...#...........\n",
    ".....#.#..#..#...#..#..#..##..#\n",
    "##.#...#....#..#.##..#.....#.#.\n",
    "#.......####......#..#.#....#..\n",
    "......#.#...####.........#.#..#\n",
    ".#.........#..#.#...#..........\n",
    "...#####.#....#.#..#......#.#.#\n",
    "##....#.###....##...##..#.....#\n",
    "...........####.##.#....##.##..\n",
    "#.#.#..........#.#..##.#.######\n",
    "##...#..#...........###..#....#\n",
    ".#.#.#...##..........##.#...#..\n",
    "...#.#........#..##...#....#...\n",
    "......#..#...#..##....#.......#\n",
    ".#..#.......#..#......##....##.\n",
    ".......#.......#........#..##..\n",
    "...#...#...#.##......#.##.#....\n",
    ".........#.........#.#.#.##....\n",
    "..#...................#....#..#\n",
    ".........#..#.....#.#...#....#.\n",
    "#.#.#...#........#..###.#......\n",
    "#.#.#.####......##...#...#....#\n",
    "#...........##..#.#.#....#..#..\n",
    "........#..#.#...........##.#.#\n",
    ".#.........#...........#..#....\n",
    "#............##.#..#....##...##\n",
    ".#....##..#.#....#.......#..#..\n",
    "..#.#...#.#......####.......#..\n",
    "...#.#.......###......#.....#..\n",
    "#......#.......#.#...#.#..##...\n",
    "...#.....#...##.#.....#.#......\n",
    "#.#.#............#..#......#..#\n",
    "....#...#...##.##.##...##.#....\n",
    "..##........#..#........#...##.\n",
    ".......#..#...#.........#.....#\n",
    "...........#.#......#...#......\n",
    "...##..##..##..###..#..#..#..#.\n",
    "#..##.......##..#....#....#.#..\n",
    "#.#.##.#..##.....#....#.#......\n",
    "....#..##......#.#..#....#....#\n",
    ".#.#.........##...#......##.##.\n",
    "##...........#..#.....#.###....\n",
    ".#.###........#...#....##..#...\n",
    "......##.....#.................\n",
    ".#.##..#.#.......#......#.#.#..\n",
    ".#...#....#.##..........##.##..\n",
    "#...##......####.#....#....#...\n",
    ".#...#.##.#.#.....#...#........\n",
    ".#................#.##.#.###...\n",
    "...#.#..#.#.....##.....##....#.\n",
    "..##.#..#..##.....#....#...#.##\n",
    "........###.##..#..###.....#..#\n",
    "..##.....#.......#.#...##......\n",
    "#.#..###...##.###.##.#..#...#..\n",
    "#..#..#.#...#....#...##.....#.#\n",
    "#..................#........#..\n",
    "#.....#.......#.##....##....#..\n",
    "...#.............#.....#...#...\n",
    "...#...#.##..##.....#........#.\n",
    ".......#........##....###..##..\n",
    ".#....#....#.#..#......#....#.#\n",
    "..........#..#.#.....##...#.##.\n",
    ".#...##.#...........#.#.......#\n",
    "..#.##.....#.###.#.............\n",
    "..#....###..........#.#.#......\n",
    "#.....#.####..#.#......#..#.#.#\n",
    "...#........#..#...............\n",
    ".###.#.##.....#.#...........#..\n",
    "..#....#..#....#..##....#......\n",
    "......#..#.....#.#.##.......#.#\n",
    "###..#...#.#..#....#..##.###..#\n",
    ".#....##.###........##...##.#.#\n",
    "........##..##.#....##..#....#.\n",
    "...#..#....#.#....#...#...##...\n",
    "#.....#......#.##........#....#\n",
    "....#....###.##...#.#.##....#..\n",
    "......#.##..#.#..........#...#.\n",
    "...........#...#....##...#....#\n",
    "......#.#.........#....#.#.#...\n",
    ".###..........#.###.##....#...#\n",
    "...##.......#......#....#....#.\n",
    "#..#...#.#..####...#......#..#.\n",
    "....##..#.#.........#..........\n",
    ".##.###.##....##.####....#...#.\n",
    "..##.......#........#...#..#...\n",
    "....#####..........###....#....\n",
    ".#.#..#.#.#....#..#............\n",
    "........#.....#....#.......##..\n",
    "...........##....##..##.....##.\n",
    "..###........#.#.#..#....##...#\n",
    ".....#...........##......#..#..\n",
    "...##........#.##.#......##..#.\n",
    "##..#....#............##..#..#.\n",
    ".#.....#...##.##..............#\n",
    "#..##........#...#...#......##.\n",
    "......##.....#.......####.##..#\n",
    "...#.#....#...#..#.............\n",
    "..#...#..##.###..#..#.......##.\n",
    "##....###.......#...#..#.......\n",
    "#..#.....###.....#.#.........#.\n",
    "#.#....#.............#...#.....\n",
    "..#.#.##..........#.....##.#...\n",
    ".....##......#..#..#.....#..#..\n",
    "##.#..#..#.##......###....#..#.\n",
    "...#............##...#..##.....\n",
    ".#..#....#.........#......#.##.\n",
    ".##.##...#..............#..#.##\n",
    "...#....#...###...#...#....#..#\n",
    "..#...#..####..#....#.#...##..#\n",
    "..............##.##.......##...\n",
    "..##.#..##...........#.#.#...#.\n",
    "..................##.####.###..\n",
    ".#...........#.......#......#..\n",
    ".#.#.#...#....#.........##...##\n",
    "....#..........#.#....#.#.....#\n",
    "..........#.#..........#.#.....\n",
    "...........#.....#.#......#....\n",
    "........#..#.#.#.#.............\n",
    "...###...##...##..####.##......\n",
    ".#..#......###.....#...#.....#.\n",
    ".........##............#.#.....\n",
    "#.#..#.#.#....###.#.#..#..#..##\n",
    "..........#...#.##.#..#..#....#\n",
    "#..#.......##....#..##........#\n",
    "##.#...#....##.............#...\n",
    "....#........#......##..#..#.##\n",
    ".................#.#.#.#.#.....\n",
    "...........#.#.....#.......#...\n",
    "#.......#.......#............#.\n",
    "....#...........#.#.##.....#..#\n",
    "#...#.....#....#..##...#.......\n",
    "..#.....#.....#.##.##....#.....\n",
    ".#.#..#...#..#..##.....##..#...\n",
    ".#.#....#.........####.........\n",
    "#...#..####.....#...#..##......\n",
    "..#...##.#.....#...#.....##....\n",
    ".#...#.....#.#.#......#.......#\n",
    "..#.....##.#..#.#...##.........\n",
    "##.#...#..#....#....#.##.##...#\n",
    ".#..#....#..##.#.......#..#....\n",
    "...##.#......#...###.......#...\n",
    "...#..#.........##.####........\n",
    "#.#..#..##...........#..#......\n",
    ".#...#.#......#.#..........#...\n",
    "...###...#.......#.....#.#...##\n",
    "..#....#.#.##..........##...#..\n",
    ".....###.........#.....#..##..#\n",
    ".......##.....#.#.....#.#..##..\n",
    ".#.#.###..##.......##...#......\n",
    "......#.....#................##\n",
    ".#......##..##.#.#...#...#...##\n",
    ".#...#......#.......#.#........\n",
    ".#..........###...#..#...#.....\n",
    ".........##.....#.#..#..#.#...#\n",
    "#...#...#.........#..#..#....#.\n",
    "###.......#.#.....#....##......\n",
    ".#..#......#..#...........#..#.\n",
    "..##....##..##...#......#......\n",
    ".#........#....#...#....#.....#\n",
    ".#.......#...#...#..##.#.#..#..\n",
    "#...#........#.##.....#.....#..\n",
    "#..##.....#..........#...#...##\n",
    "............#...............#..\n",
    ".#.##...#.....#.#..#..#..#.....\n",
    ".#.#.#...#........#....#...##..\n",
    "##......#.....#.###.#...#.#..#.\n",
    ".........##..#..#.#...#...#...#\n",
    "#...#.#....#..#..#.....#.......\n",
    ".......#.###...#.............#.\n",
    "..#.....#.#.#..###.#....#.....#\n",
    "....#...#.#....#.#..........#..\n",
    "..#......#.###.#.#..#.....#...#\n",
    "#............#..##...##......#.\n",
    "#...........#..#....#.###..###.\n",
    ".#.##.#.#.......#.............#\n",
    "..............#................\n",
    "..#.#.....#.....#...#......#...\n",
    ".#.#.#..#..#.#...........##....\n",
    ".....##.#......#..#.##....#....\n",
    ".......##..#.#.#..#............\n",
    "..#.....#.....#.###..#.....#.#.\n",
    "......##.....#..##.#...#.....#.\n",
    "...#...#....#..#..#........#...\n",
    "..#.##..#....#.........#.#..#..\n",
    "#....#.....###.....#......#....\n",
    "##.....#..#..##.........#.##.##\n",
    ".#.#....#.#..........#.........\n",
    ".##.#...#..#.......#.##...#....\n",
    "...#...#.....#....#...#.#..#...\n",
    ".....#....#.....#.....#.#......\n",
    "...........#.#.......#.......#.\n",
    ".........##.###.##........#....\n",
    "#..##.....#...#.#..............\n",
    ".#...#....##........#.#..#....#\n",
    "..#...#........#...#..#.##.#..#\n",
    "........#...#.....##.#.#....#.#\n",
    "#..#.......###.#....#.#.#......\n",
    ".......#...##....#...#..##..#..\n",
    ".....##........#.#.#..#....##..\n",
    ".#....#..#.#...........#......#\n",
    "...##....#.##.....##.......#...\n",
    ".##..#..#....#.#....#..#....##.\n",
    "..#....#.....###.......#..##..#\n",
    "....#.......#....##..#....#..##\n",
    "....#......##..#....#.#...#.#..\n",
    ".##.#......##..................\n",
    "##.#....#........#..#..#...##.#\n",
    ".......#..#.#...##.....#.#.....\n",
    "..##.#...........#.#.#..#.#.#..\n",
    ".....#....#......#..#.......#..\n",
    "#.#...#.####..##.......#..##...\n",
    "...#....#.....#.##.#..#.##..#..\n",
    ".#.......#......##........##.#.\n",
    ".......#.#...#..#...#..##.#....\n",
    ".#....#........#.#.....##..#..#\n",
    "#..#.....#..#.............#...#\n",
    "#...#....#..#...###..#...#.#...\n",
    ".#..#.....#..........#..##.####\n",
    "#.#.#.#.##.#.#.....##.#........\n",
    "...#....##....#...#..##.......#\n",
    "..##.##.#.#........#..........#\n",
    "..###........###..#..........#.\n",
    "...#......#..##.#........#..#..\n",
    "#.#.#..#........#..#..........#\n",
    "...#........#..##.#...#.###....\n",
    "##......#.####.#....#......#...\n",
    ".#..#......#................#..\n",
    "#.#........#.#.....##.....##...\n",
    "#...............#..#.......#.#.\n",
    ".##..#...........##..#..#.#....\n",
    "#......#.#.......#.#.#.##..#.##\n",
    ".....##.#..###.............##..\n",
    "....##.........#..#...#........\n",
    ".....#.....#.#.#..#.#..........\n",
    "#.........#....##.#.##.....#..#\n",
    ".#.........#......#.#.##.#.#...\n",
    "##.........#.....#..#.#..#.##.#\n",
    "....#......##...#.....#..#..###\n",
    "..#..............#...#..####...\n",
    "#....#...##.#.......#...#..#...\n",
    "#.......###.#.#.......#.......#\n",
    "...##....#.#...........#...###.\n",
    "...........#..#.#.....#..##..#.\n",
    "..#.........#..###..#.....#...#\n",
    "..#.#.....#.#.#...#.#.#......#.\n",
    "........#.....#.#......##....##\n",
    "##.#.#...#.#........#.....#...#\n",
    "........#....#...............#.\n",
    "##.###......####...#####..#....\n",
    "...##...#..#....#........#...#.\n",
    "...###.#..................##.#.\n",
    "##.#.......###.......#...#.#...\n",
    "....#..#.#...#...#....#.#.#..##\n",
    "....#...........#..#...........\n",
    "#..#.#..#...#...#..#...........\n",
    "...#...#.#....#..#....#........\n",
    "#....#.......#.##........#..#..\n",
    ".....#...#..#................#.\n",
    "#......#.......#..........##..#\n",
    ".#....#.#......#.#...#....##..#\n",
    "...#.##...#......#.#...##...##.\n",
    "..#...#..##...#...#....#.......\n",
    ".....#....#.#.#..........#.#...\n",
    "...#...#..#....#..#.#..........\n",
    "......#.#..........##.......#..\n",
    ".#...##.#.#...#..##..#...#.....\n",
    "..#..#.........#........#.#.#..\n",
    "#.#..##..#.....##......#.....#.\n",
    "#..#.....#.#....#...#.#....#.#.\n",
    "......#........##.#..#...#.....\n",
    "...#.##.#.#......#.#..##...#..#\n",
    "....#..###..#..#.....###....##.\n",
    ".....#...#.#.....#..........#.#\n",
    ".#...##..##.....#..#...#.#.#...\n",
    ".##.#......##...##..#...#.....#\n",
    ".#.##....#...#.##.#.#...#.#...#\n",
    "....#.#...#....###.#.....#.....\n",
    "#.....####................#..#.\n",
    "....#.....#...#.#.......##.#...\n",
    ".#...##.#...#..#...........#.#.\n",
    "..#####..#.#...#...##........#.\n",
    "...#...##........#...#.#....###\n",
    "........#.#.#..#.....#.......#.\n",
    "...#...#..##............##.....\n",
    "#.#..###....###.#...#.#...##.##\n",
    "..#.##...#......#..#.........##\n",
    ".##..#..#.....#..#.........#.#.\n",
    ".#..#.#....#.##...#..#.##....##\n",
    "..#...#.#...##.#.#...#...#....#\n",
    "#..........#.......##..##....#.\n",
    "#...###.#......#....#.........#\n",
    "#.....#...##.......##....##....\n",
    ".##.#..#.##......#.##....#..#..\n",
    "............#.#....##.#..#....#\n",
    ".#.........##.##...#....#.....#\n",
    "##....##..#..#....##...#.....##\n",
    "...#.....#...........#.....##..\n",
    "......#...#.........#.......#..\n",
    "............#...##.#.....#.#.#.\n",
    ".#........##..........#.....#.#\n",
    ".###.........#.....#.##...#....\n",
    ".##..#...##...#..#..#.##.......\"\"\".split(\"\\n\")"
   ]
  },
  {
   "cell_type": "markdown",
   "metadata": {},
   "source": [
    "### Day 3 - part 2"
   ]
  },
  {
   "cell_type": "code",
   "execution_count": 25,
   "metadata": {},
   "outputs": [],
   "source": [
    "def tree_counter(r=1, d=1):\n",
    "    count = 0\n",
    "    wide = [x*int((r*323)/31 +1) for x in text3]\n",
    "    for i in range(int(len(wide)/d)):\n",
    "        if wide[i*d][i*r] == '#':\n",
    "            count += 1\n",
    "    return count"
   ]
  },
  {
   "cell_type": "code",
   "execution_count": 26,
   "metadata": {},
   "outputs": [
    {
     "data": {
      "text/plain": [
       "48"
      ]
     },
     "execution_count": 26,
     "metadata": {},
     "output_type": "execute_result"
    }
   ],
   "source": [
    "tree_counter(d=2)"
   ]
  },
  {
   "cell_type": "code",
   "execution_count": 27,
   "metadata": {},
   "outputs": [
    {
     "data": {
      "text/plain": [
       "5813773056"
      ]
     },
     "execution_count": 27,
     "metadata": {},
     "output_type": "execute_result"
    }
   ],
   "source": [
    "tree_counter()*tree_counter(r=3)*tree_counter(r=5)*tree_counter(r=7)*tree_counter(d=2)"
   ]
  },
  {
   "cell_type": "markdown",
   "metadata": {},
   "source": [
    "### Day 3 - part 1"
   ]
  },
  {
   "cell_type": "markdown",
   "metadata": {},
   "source": [
    "This is the most horrible hacky code that I have written to date!\n",
    "Death by comprehension"
   ]
  },
  {
   "cell_type": "code",
   "execution_count": 28,
   "metadata": {},
   "outputs": [],
   "source": [
    "text4 = []\n",
    "with open('data/day_4.txt', 'r') as file:\n",
    "    for x in file.readlines():\n",
    "        text4.append(x.split('\\n')[0])"
   ]
  },
  {
   "cell_type": "code",
   "execution_count": 29,
   "metadata": {},
   "outputs": [
    {
     "data": {
      "text/plain": [
       "True"
      ]
     },
     "execution_count": 29,
     "metadata": {},
     "output_type": "execute_result"
    }
   ],
   "source": [
    "text4[1] == ''"
   ]
  },
  {
   "cell_type": "code",
   "execution_count": 30,
   "metadata": {},
   "outputs": [],
   "source": [
    "count_lst = []\n",
    "for row in text4:\n",
    "    count = 0\n",
    "    for field in ['byr', 'iyr', 'eyr', 'hgt', 'hcl', 'ecl', 'pid']:\n",
    "        if field in row:\n",
    "            count += 1\n",
    "    count_lst.append(count)\n",
    "    if row == '':\n",
    "        count_lst.append('pass')"
   ]
  },
  {
   "cell_type": "code",
   "execution_count": 31,
   "metadata": {},
   "outputs": [],
   "source": [
    "Lsub = []\n",
    "L2 = []\n",
    "for e in count_lst:\n",
    "    if e == 'pass':\n",
    "        if Lsub: \n",
    "            L2.append(Lsub)\n",
    "        Lsub = [e]\n",
    "    else:\n",
    "        Lsub.append(e)\n",
    "L2.append(Lsub)"
   ]
  },
  {
   "cell_type": "code",
   "execution_count": 32,
   "metadata": {},
   "outputs": [
    {
     "data": {
      "text/plain": [
       "[4, 1, 2, 0]"
      ]
     },
     "execution_count": 32,
     "metadata": {},
     "output_type": "execute_result"
    }
   ],
   "source": [
    "test = ['pass', 4, 1, 2, 0]\n",
    "test.remove('pass')\n",
    "test"
   ]
  },
  {
   "cell_type": "code",
   "execution_count": 33,
   "metadata": {},
   "outputs": [],
   "source": [
    "new_lst = [el[1:] for el in L2[1:]]\n",
    "new_lst.append(L2[0])"
   ]
  },
  {
   "cell_type": "code",
   "execution_count": 34,
   "metadata": {},
   "outputs": [],
   "source": [
    "summed = [sum(x) for x in new_lst]"
   ]
  },
  {
   "cell_type": "code",
   "execution_count": 35,
   "metadata": {},
   "outputs": [
    {
     "data": {
      "text/plain": [
       "250"
      ]
     },
     "execution_count": 35,
     "metadata": {},
     "output_type": "execute_result"
    }
   ],
   "source": [
    "summed.count(7)"
   ]
  },
  {
   "cell_type": "markdown",
   "metadata": {},
   "source": [
    "### Day4 - part 2"
   ]
  },
  {
   "cell_type": "code",
   "execution_count": 36,
   "metadata": {},
   "outputs": [
    {
     "data": {
      "text/plain": [
       "['eyr:2024 pid:662406624 hcl:#cfa07d byr:1947 iyr:2015 ecl:amb hgt:150cm',\n",
       " '',\n",
       " 'iyr:2013 byr:1997 hgt:182cm hcl:#ceb3a1',\n",
       " 'eyr:2027']"
      ]
     },
     "execution_count": 36,
     "metadata": {},
     "output_type": "execute_result"
    }
   ],
   "source": [
    "text4[:4]"
   ]
  },
  {
   "cell_type": "code",
   "execution_count": 37,
   "metadata": {},
   "outputs": [],
   "source": [
    "Lsub = []\n",
    "L2 = []\n",
    "for e in text4:\n",
    "    if e == '':\n",
    "        if Lsub: \n",
    "            L2.append(Lsub)\n",
    "        Lsub = [e]\n",
    "    else:\n",
    "        Lsub.append(e)\n",
    "L2.append(Lsub)"
   ]
  },
  {
   "cell_type": "code",
   "execution_count": 38,
   "metadata": {},
   "outputs": [],
   "source": [
    "field_lst = L2[0] + [x[1:] for x in L2[1:]]"
   ]
  },
  {
   "cell_type": "code",
   "execution_count": 39,
   "metadata": {},
   "outputs": [],
   "source": [
    "tst1 = ['iyr:2013 byr:1997 hgt:182cm hcl:#ceb3a1','eyr:2027','ecl:gry cid:102 pid:018128535']"
   ]
  },
  {
   "cell_type": "code",
   "execution_count": 40,
   "metadata": {},
   "outputs": [
    {
     "data": {
      "text/plain": [
       "['iyr:2013',\n",
       " 'byr:1997',\n",
       " 'hgt:182cm',\n",
       " 'hcl:#ceb3a1',\n",
       " 'eyr:2027',\n",
       " 'ecl:gry',\n",
       " 'cid:102',\n",
       " 'pid:018128535']"
      ]
     },
     "execution_count": 40,
     "metadata": {},
     "output_type": "execute_result"
    }
   ],
   "source": [
    "[s for t in [x.split(' ') for x in tst1] for s in t]"
   ]
  },
  {
   "cell_type": "code",
   "execution_count": 41,
   "metadata": {},
   "outputs": [
    {
     "data": {
      "text/plain": [
       "['eyr:2024',\n",
       " 'pid:662406624',\n",
       " 'hcl:#cfa07d',\n",
       " 'byr:1947',\n",
       " 'iyr:2015',\n",
       " 'ecl:amb',\n",
       " 'hgt:150cm']"
      ]
     },
     "execution_count": 41,
     "metadata": {},
     "output_type": "execute_result"
    }
   ],
   "source": [
    "field_lst[0].split(' ')"
   ]
  },
  {
   "cell_type": "code",
   "execution_count": 42,
   "metadata": {},
   "outputs": [],
   "source": [
    "split_list = [field_lst[0].split(' ')] + [[s for t in [x.split(' ') for x in sub_lst] for s in t] for sub_lst in field_lst[1:]]"
   ]
  },
  {
   "cell_type": "code",
   "execution_count": 43,
   "metadata": {},
   "outputs": [
    {
     "data": {
      "text/plain": [
       "282"
      ]
     },
     "execution_count": 43,
     "metadata": {},
     "output_type": "execute_result"
    }
   ],
   "source": [
    "len(split_list)"
   ]
  },
  {
   "cell_type": "code",
   "execution_count": 44,
   "metadata": {},
   "outputs": [],
   "source": [
    "dct_lst = [{x[:3]:x[4:] for x in sub_list} for sub_list in split_list]"
   ]
  },
  {
   "cell_type": "code",
   "execution_count": 45,
   "metadata": {},
   "outputs": [
    {
     "data": {
      "text/plain": [
       "[{'eyr': '2024',\n",
       "  'pid': '662406624',\n",
       "  'hcl': '#cfa07d',\n",
       "  'byr': '1947',\n",
       "  'iyr': '2015',\n",
       "  'ecl': 'amb',\n",
       "  'hgt': '150cm'},\n",
       " {'iyr': '2013',\n",
       "  'byr': '1997',\n",
       "  'hgt': '182cm',\n",
       "  'hcl': '#ceb3a1',\n",
       "  'eyr': '2027',\n",
       "  'ecl': 'gry',\n",
       "  'cid': '102',\n",
       "  'pid': '018128535'}]"
      ]
     },
     "execution_count": 45,
     "metadata": {},
     "output_type": "execute_result"
    }
   ],
   "source": [
    "dct_lst[:2]"
   ]
  },
  {
   "cell_type": "code",
   "execution_count": 46,
   "metadata": {},
   "outputs": [
    {
     "name": "stdout",
     "output_type": "stream",
     "text": [
      "7\n"
     ]
    }
   ],
   "source": [
    "sub_count = 0\n",
    "\n",
    "pattern = re.compile(\"[a-f0-9]+\")\n",
    "for key in dct_lst[0]:\n",
    "    if key == 'byr':\n",
    "        \n",
    "        if (len(dct_lst[0][key]) == 4) and (1920 <= int(dct_lst[0][key]) <= 2002):\n",
    "            sub_count +=1\n",
    "            \n",
    "    if key == 'iyr':\n",
    "        \n",
    "        if (len(dct_lst[0][key]) == 4) and (2010 <= int(dct_lst[0][key]) <= 2020):\n",
    "            sub_count +=1\n",
    "            \n",
    "    if key == 'eyr':\n",
    "        \n",
    "        if (len(dct_lst[0][key]) == 4) and (2020 <= int(dct_lst[0][key]) <= 2030):\n",
    "            sub_count +=1\n",
    "            \n",
    "    if key == 'hgt':\n",
    "        \n",
    "        if (dct_lst[0][key][-2:] == 'cm') and (150 <= int(dct_lst[0][key][:-2]) <= 193):\n",
    "            sub_count +=1\n",
    "            \n",
    "        elif (dct_lst[0][key][-2:] == 'in') and (59 <= int(dct_lst[0][key][:-2]) <= 76):\n",
    "            sub_count +=1\n",
    "\n",
    "    if key == 'hcl':\n",
    "        \n",
    "        if (dct_lst[0][key][0] == '#') and pattern.fullmatch(dct_lst[0][key][1:]):\n",
    "            sub_count +=1\n",
    "            \n",
    "    if key == 'ecl':\n",
    "        \n",
    "        if (len(dct_lst[0][key]) == 3) and (dct_lst[0][key] in [\"amb\", \"blu\", \"brn\", \"gry\", \"grn\", \"hzl\", \"oth\"]):\n",
    "            sub_count +=1\n",
    "            \n",
    "    if key == 'pid':\n",
    "        if len(dct_lst[0][key]) == 9:\n",
    "            sub_count+=1\n",
    "      \n",
    "    \n",
    "print(sub_count)    "
   ]
  },
  {
   "cell_type": "code",
   "execution_count": 47,
   "metadata": {},
   "outputs": [
    {
     "data": {
      "text/plain": [
       "{'eyr': '2024',\n",
       " 'pid': '662406624',\n",
       " 'hcl': '#cfa07d',\n",
       " 'byr': '1947',\n",
       " 'iyr': '2015',\n",
       " 'ecl': 'amb',\n",
       " 'hgt': '150cm'}"
      ]
     },
     "execution_count": 47,
     "metadata": {},
     "output_type": "execute_result"
    }
   ],
   "source": [
    "dct_lst[0]"
   ]
  },
  {
   "cell_type": "code",
   "execution_count": 48,
   "metadata": {},
   "outputs": [
    {
     "data": {
      "text/plain": [
       "158"
      ]
     },
     "execution_count": 48,
     "metadata": {},
     "output_type": "execute_result"
    }
   ],
   "source": [
    "count = 0   \n",
    "for psw in dct_lst:\n",
    "    sub_count = 0\n",
    "    pattern = re.compile(\"[a-f0-9]+\")\n",
    "    for key in psw:\n",
    "        if key == 'byr':\n",
    "\n",
    "            if (len(psw[key]) == 4) and (1920 <= int(psw[key]) <= 2002):\n",
    "                sub_count +=1\n",
    "\n",
    "        if key == 'iyr':\n",
    "\n",
    "            if (len(psw[key]) == 4) and (2010 <= int(psw[key]) <= 2020):\n",
    "                sub_count +=1\n",
    "\n",
    "        if key == 'eyr':\n",
    "\n",
    "            if (len(psw[key]) == 4) and (2020 <= int(psw[key]) <= 2030):\n",
    "                sub_count +=1\n",
    "\n",
    "        if key == 'hgt':\n",
    "\n",
    "            if (psw[key][-2:] == 'cm') and (150 <= int(psw[key][:-2]) <= 193):\n",
    "                sub_count +=1\n",
    "\n",
    "            elif (psw[key][-2:] == 'in') and (59 <= int(psw[key][:-2]) <= 76):\n",
    "                sub_count +=1\n",
    "\n",
    "        if key == 'hcl':\n",
    "\n",
    "            if (psw[key][0] == '#') and pattern.fullmatch(psw[key][1:]):\n",
    "                sub_count +=1\n",
    "\n",
    "        if key == 'ecl':\n",
    "\n",
    "            if (len(psw[key]) == 3) and (psw[key] in [\"amb\", \"blu\", \"brn\", \"gry\", \"grn\", \"hzl\", \"oth\"]):\n",
    "                sub_count +=1\n",
    "\n",
    "        if key == 'pid':\n",
    "            if len(psw[key]) == 9:\n",
    "                sub_count+=1\n",
    "\n",
    "    if sub_count == 7:\n",
    "        count += 1\n",
    "count"
   ]
  },
  {
   "cell_type": "markdown",
   "metadata": {},
   "source": [
    "### Day 5 - part 1"
   ]
  },
  {
   "cell_type": "code",
   "execution_count": 49,
   "metadata": {},
   "outputs": [],
   "source": [
    "def splitter(code, lw, up):\n",
    "    delta = int((up-lw)/2) + 1 \n",
    "    if code == 'F' or code == 'L':\n",
    "        up -= delta\n",
    "    elif code == 'B' or code == 'R':\n",
    "        lw += delta\n",
    "    return lw, up"
   ]
  },
  {
   "cell_type": "code",
   "execution_count": 50,
   "metadata": {},
   "outputs": [
    {
     "data": {
      "text/plain": [
       "(32, 63)"
      ]
     },
     "execution_count": 50,
     "metadata": {},
     "output_type": "execute_result"
    }
   ],
   "source": [
    "splitter('B', 0, 63)"
   ]
  },
  {
   "cell_type": "code",
   "execution_count": 51,
   "metadata": {},
   "outputs": [
    {
     "name": "stdout",
     "output_type": "stream",
     "text": [
      "44 44\n",
      "5 5\n"
     ]
    },
    {
     "data": {
      "text/plain": [
       "357"
      ]
     },
     "execution_count": 51,
     "metadata": {},
     "output_type": "execute_result"
    }
   ],
   "source": [
    "lw, up = 0, 127\n",
    "for cd in \"FBFBBFF\":\n",
    "    lw, up = splitter(cd, lw, up)\n",
    "print(lw,up)\n",
    "r, l = 0,7\n",
    "for cd in \"RLR\":\n",
    "    r, l = splitter(cd, r, l)\n",
    "print(r,l)\n",
    "lw*8 + r"
   ]
  },
  {
   "cell_type": "code",
   "execution_count": 52,
   "metadata": {},
   "outputs": [
    {
     "data": {
      "text/plain": [
       "'RLR'"
      ]
     },
     "execution_count": 52,
     "metadata": {},
     "output_type": "execute_result"
    }
   ],
   "source": [
    "'FBFBBFFRLR'[-3:]"
   ]
  },
  {
   "cell_type": "code",
   "execution_count": 53,
   "metadata": {},
   "outputs": [],
   "source": [
    "def seat_ID(code):\n",
    "    \n",
    "    lw, up = 0, 127\n",
    "    for cd in code[:-3]:\n",
    "        lw, up = splitter(cd, lw, up)\n",
    "    \n",
    "    r,l = 0,7\n",
    "    for cd in code[-3:]:\n",
    "        r, l = splitter(cd, r, l)\n",
    "        \n",
    "    return lw*8 + r"
   ]
  },
  {
   "cell_type": "code",
   "execution_count": 54,
   "metadata": {},
   "outputs": [
    {
     "data": {
      "text/plain": [
       "357"
      ]
     },
     "execution_count": 54,
     "metadata": {},
     "output_type": "execute_result"
    }
   ],
   "source": [
    "seat_ID('FBFBBFFRLR')"
   ]
  },
  {
   "cell_type": "code",
   "execution_count": 55,
   "metadata": {},
   "outputs": [],
   "source": [
    "text5 = []\n",
    "with open('data/day_5.txt', 'r') as file:\n",
    "    for x in file.readlines():\n",
    "        text5.append(x.split('\\n')[0])"
   ]
  },
  {
   "cell_type": "code",
   "execution_count": 56,
   "metadata": {},
   "outputs": [
    {
     "data": {
      "text/plain": [
       "828"
      ]
     },
     "execution_count": 56,
     "metadata": {},
     "output_type": "execute_result"
    }
   ],
   "source": [
    "id_lst = []\n",
    "for cde in text5:\n",
    "    id_lst.append(seat_ID(cde))\n",
    "max(id_lst)"
   ]
  },
  {
   "cell_type": "markdown",
   "metadata": {},
   "source": [
    "### Day 5 - part 2"
   ]
  },
  {
   "cell_type": "code",
   "execution_count": 57,
   "metadata": {},
   "outputs": [],
   "source": [
    "id_lst.sort()"
   ]
  },
  {
   "cell_type": "code",
   "execution_count": 58,
   "metadata": {},
   "outputs": [
    {
     "data": {
      "text/plain": [
       "565"
      ]
     },
     "execution_count": 58,
     "metadata": {},
     "output_type": "execute_result"
    }
   ],
   "source": [
    "# One higher than the place in our list with a skip of 2\n",
    "id_lst[[id_lst[i] - id_lst[i+1] for i in range(len(id_lst)-1)].index(-2)] + 1"
   ]
  },
  {
   "cell_type": "code",
   "execution_count": 59,
   "metadata": {},
   "outputs": [
    {
     "data": {
      "text/plain": [
       "[563, 564, 566]"
      ]
     },
     "execution_count": 59,
     "metadata": {},
     "output_type": "execute_result"
    }
   ],
   "source": [
    "id_lst[540:543]"
   ]
  },
  {
   "cell_type": "markdown",
   "metadata": {},
   "source": [
    "### Day 6 - part 1"
   ]
  },
  {
   "cell_type": "code",
   "execution_count": 60,
   "metadata": {},
   "outputs": [],
   "source": [
    "text6 = []\n",
    "with open('data/day_6.txt', 'r') as file:\n",
    "    for x in file.readlines():\n",
    "        text6.append(x.split('\\n')[0])\n",
    "\n",
    "Lsub = []\n",
    "L6 = []\n",
    "for e in text6:\n",
    "    if e == '':\n",
    "        if Lsub: \n",
    "            L6.append(Lsub)\n",
    "        Lsub = [e]\n",
    "    else:\n",
    "        Lsub.append(e)\n",
    "L6.append(Lsub)"
   ]
  },
  {
   "cell_type": "code",
   "execution_count": 61,
   "metadata": {},
   "outputs": [],
   "source": [
    "list_6 = [L6[0]] + [x[1:] for x in L6[1:]]"
   ]
  },
  {
   "cell_type": "code",
   "execution_count": 62,
   "metadata": {},
   "outputs": [
    {
     "data": {
      "text/plain": [
       "[['w', 's', 'q', 's'], ['klfrwivqhc', 'w', 'wgyze', 'anw']]"
      ]
     },
     "execution_count": 62,
     "metadata": {},
     "output_type": "execute_result"
    }
   ],
   "source": [
    "list_6[:2]"
   ]
  },
  {
   "cell_type": "code",
   "execution_count": 63,
   "metadata": {},
   "outputs": [
    {
     "data": {
      "text/plain": [
       "3"
      ]
     },
     "execution_count": 63,
     "metadata": {},
     "output_type": "execute_result"
    }
   ],
   "source": [
    "len(set(list_6[0]))"
   ]
  },
  {
   "cell_type": "code",
   "execution_count": 64,
   "metadata": {},
   "outputs": [],
   "source": [
    "group_sum = 0\n",
    "for group in list_6:\n",
    "    sub_l = []\n",
    "    for el in group:\n",
    "        sub_l.extend([char for char in el])\n",
    "\n",
    "    group_sum += len(set(sub_l))"
   ]
  },
  {
   "cell_type": "code",
   "execution_count": 65,
   "metadata": {},
   "outputs": [
    {
     "data": {
      "text/plain": [
       "6703"
      ]
     },
     "execution_count": 65,
     "metadata": {},
     "output_type": "execute_result"
    }
   ],
   "source": [
    "group_sum"
   ]
  },
  {
   "cell_type": "markdown",
   "metadata": {},
   "source": [
    "### Day 6 - part 2"
   ]
  },
  {
   "cell_type": "code",
   "execution_count": 66,
   "metadata": {},
   "outputs": [
    {
     "data": {
      "text/plain": [
       "[['w', 's', 'q', 's'],\n",
       " ['klfrwivqhc', 'w', 'wgyze', 'anw'],\n",
       " ['khfraeogtbdscw', 'rdofujgnm', 'ydfrgo', 'dgjoqmrf', 'yrfdgzpon']]"
      ]
     },
     "execution_count": 66,
     "metadata": {},
     "output_type": "execute_result"
    }
   ],
   "source": [
    "list_6[:3]"
   ]
  },
  {
   "cell_type": "code",
   "execution_count": 67,
   "metadata": {},
   "outputs": [],
   "source": [
    "tst_lst = [['abc'],['a','b','c'],['ab','ac'], ['a','a','a','a'], ['b']]\n"
   ]
  },
  {
   "cell_type": "code",
   "execution_count": 68,
   "metadata": {},
   "outputs": [],
   "source": [
    "new_group_sum = 0\n",
    "for group in list_6:\n",
    "\n",
    "    sub_l = []\n",
    "    for el in group:\n",
    "        sub_l.extend([char for char in el])\n",
    "        \n",
    "    char_count = [sub_l.count(char) for char in set(sub_l)]\n",
    "    \n",
    "    if max(char_count) == len(group):\n",
    "\n",
    "        new_group_sum += len([x for x in char_count if x == max(char_count)])\n"
   ]
  },
  {
   "cell_type": "code",
   "execution_count": 69,
   "metadata": {},
   "outputs": [
    {
     "data": {
      "text/plain": [
       "3430"
      ]
     },
     "execution_count": 69,
     "metadata": {},
     "output_type": "execute_result"
    }
   ],
   "source": [
    "new_group_sum"
   ]
  },
  {
   "cell_type": "markdown",
   "metadata": {},
   "source": [
    "### Day 7 - part 1"
   ]
  },
  {
   "cell_type": "code",
   "execution_count": 263,
   "metadata": {},
   "outputs": [],
   "source": [
    "text7 = []\n",
    "with open('data/day_7.txt', 'r') as file:\n",
    "    for x in file.readlines():\n",
    "        text7.append(x.split('\\n')[0])"
   ]
  },
  {
   "cell_type": "code",
   "execution_count": 218,
   "metadata": {},
   "outputs": [],
   "source": [
    "dct7 = {rule.split('contain')[0][:-2]: [x[2:] for x in rule.split('contain')[1][1:-1].split(', ')] for rule in text7}"
   ]
  },
  {
   "cell_type": "code",
   "execution_count": 134,
   "metadata": {},
   "outputs": [],
   "source": [
    "# dct7 = ({key:val for key,val in dct7.items() if val != [' other bags']})"
   ]
  },
  {
   "cell_type": "code",
   "execution_count": 221,
   "metadata": {},
   "outputs": [],
   "source": [
    "tst_dct = {\"light red bag\": [\"bright white bag\", \"muted yellow bags\"],\n",
    "\"dark orange bag\": [\"bright white bag\", \"muted yellow bags\"],\n",
    "\"bright white bag\": [\"shiny gold bag\"],\n",
    "\"muted yellow bag\": [\"shiny gold bags\", \"faded blue bags\"],\n",
    "\"shiny gold bag\": [\"dark olive bag\", \"vibrant plum bags\"],\n",
    "\"dark olive bag\": [\"faded blue bags\", \"dotted black bags\"],\n",
    "\"vibrant plum bag\": [\"faded blue bags\", \"dotted black bags\"],\n",
    "\"faded blue bag\": [\" other bags\"],\n",
    "\"dotted black bag\": [\" other bags\"]}"
   ]
  },
  {
   "cell_type": "code",
   "execution_count": 222,
   "metadata": {},
   "outputs": [
    {
     "data": {
      "text/plain": [
       "{'light red bag': ['bright white bag', 'muted yellow bags'],\n",
       " 'dark orange bag': ['bright white bag', 'muted yellow bags'],\n",
       " 'bright white bag': ['shiny gold bag'],\n",
       " 'muted yellow bag': ['shiny gold bags', 'faded blue bags'],\n",
       " 'shiny gold bag': ['dark olive bag', 'vibrant plum bags'],\n",
       " 'dark olive bag': ['faded blue bags', 'dotted black bags'],\n",
       " 'vibrant plum bag': ['faded blue bags', 'dotted black bags'],\n",
       " 'faded blue bag': [' other bags'],\n",
       " 'dotted black bag': [' other bags']}"
      ]
     },
     "execution_count": 222,
     "metadata": {},
     "output_type": "execute_result"
    }
   ],
   "source": [
    "tst_dct"
   ]
  },
  {
   "cell_type": "code",
   "execution_count": 152,
   "metadata": {},
   "outputs": [
    {
     "name": "stdout",
     "output_type": "stream",
     "text": [
      "['shiny gold bag']\n",
      "['shiny gold bags', 'faded blue bags']\n",
      "['shiny gold bag']\n",
      "['shiny gold bags', 'faded blue bags']\n",
      "['dark olive bag', 'vibrant plum bags']\n",
      "['dark olive bag', 'vibrant plum bags']\n",
      "[' other bags']\n",
      "['faded blue bags', 'dotted black bags']\n",
      "['faded blue bags', 'dotted black bags']\n",
      "[' other bags']\n",
      "[' other bags']\n",
      "[' other bags']\n",
      "[' other bags']\n"
     ]
    }
   ],
   "source": [
    "for key,val in tst_dct.items():\n",
    "    for el in tst_dct[key]: \n",
    "        if el[-1] != 's':\n",
    "            print(tst_dct[el])\n",
    "            \n",
    "        elif el == ' other bags':\n",
    "            pass\n",
    "        \n",
    "        else:\n",
    "            print(tst_dct[el[:-1]])"
   ]
  },
  {
   "cell_type": "code",
   "execution_count": 155,
   "metadata": {},
   "outputs": [
    {
     "name": "stdout",
     "output_type": "stream",
     "text": [
      "yes\n"
     ]
    }
   ],
   "source": [
    "if [s for s in ['shiny gold bags', 'faded blue bags'] if 'shiny gold bag' in s ]:\n",
    "    print('yes')"
   ]
  },
  {
   "cell_type": "code",
   "execution_count": 164,
   "metadata": {},
   "outputs": [],
   "source": [
    "count = 0\n",
    "\n",
    "\n",
    "for key,val in tst_dct.items():\n",
    "    for el in tst_dct[key]: \n",
    "        if el[-1] != 's':\n",
    "            if [s for s in tst_dct[el] if 'shiny gold bag' in s ]:\n",
    "                count +=1 \n",
    "                \n",
    "        elif el == ' other bags':\n",
    "            pass\n",
    "        \n",
    "        else:\n",
    "            if [s for s in tst_dct[el[:-1]] if 'shiny gold bag' in s ]:\n",
    "                count +=1 "
   ]
  },
  {
   "cell_type": "code",
   "execution_count": 165,
   "metadata": {},
   "outputs": [
    {
     "data": {
      "text/plain": [
       "4"
      ]
     },
     "execution_count": 165,
     "metadata": {},
     "output_type": "execute_result"
    }
   ],
   "source": [
    "count"
   ]
  },
  {
   "cell_type": "code",
   "execution_count": 167,
   "metadata": {},
   "outputs": [],
   "source": [
    "count = 0"
   ]
  },
  {
   "cell_type": "code",
   "execution_count": 188,
   "metadata": {},
   "outputs": [],
   "source": [
    "key_lst = list(dct7.keys())"
   ]
  },
  {
   "cell_type": "code",
   "execution_count": 190,
   "metadata": {},
   "outputs": [],
   "source": [
    "# for key in key_lst:\n",
    "#     for el in dct7[key]: \n",
    "#         if el[-1] != 's':\n",
    "#             if [s for s in dct7[el] if 'shiny gold bag' in s ]:\n",
    "#                 count +=1 \n",
    "#                 key_lst.remove(key)\n",
    "#         elif el == ' other bags':\n",
    "#             pass\n",
    "        \n",
    "#         else:\n",
    "#             if [s for s in dct7[el[:-1]] if 'shiny gold bag' in s ]:\n",
    "#                 count +=1 \n",
    "#                 key_lst.remove(key)\n",
    "                         \n",
    "# count"
   ]
  },
  {
   "cell_type": "code",
   "execution_count": 220,
   "metadata": {},
   "outputs": [
    {
     "data": {
      "text/plain": [
       "8"
      ]
     },
     "execution_count": 220,
     "metadata": {},
     "output_type": "execute_result"
    }
   ],
   "source": [
    "count = 0\n",
    "key_lv1 = []\n",
    "for key, value in dct7.items():\n",
    "    if [s for s in value if 'shiny gold bag' in s ]:\n",
    "        key_lv1.append(key)\n",
    "count += len(key_lv1)\n",
    "count"
   ]
  },
  {
   "cell_type": "code",
   "execution_count": 210,
   "metadata": {},
   "outputs": [
    {
     "data": {
      "text/plain": [
       "['faded aqua bag',\n",
       " 'light lime bag',\n",
       " 'pale orange bag',\n",
       " 'dark lime bag',\n",
       " 'drab fuchsia bag',\n",
       " 'dotted blue bag',\n",
       " 'posh gold bag',\n",
       " 'dim fuchsia bag']"
      ]
     },
     "execution_count": 210,
     "metadata": {},
     "output_type": "execute_result"
    }
   ],
   "source": [
    "key_lv1"
   ]
  },
  {
   "cell_type": "code",
   "execution_count": 262,
   "metadata": {},
   "outputs": [
    {
     "data": {
      "text/plain": [
       "355"
      ]
     },
     "execution_count": 262,
     "metadata": {},
     "output_type": "execute_result"
    }
   ],
   "source": [
    "count = []\n",
    "lv0 = ['shiny gold bag']\n",
    "key_lv1 = [1]\n",
    "\n",
    "while len(key_lv1) >0:\n",
    "    key_lv1 = []\n",
    "    for bag in lv0:\n",
    "        for key, value in dct7.items():\n",
    "            if [s for s in value if bag in s ]:\n",
    "                key_lv1.append(key)\n",
    "    key_lv1 = set(key_lv1)\n",
    "    count.extend(key_lv1)\n",
    "    lv0 = key_lv1\n",
    "    \n",
    "len(set(count))"
   ]
  },
  {
   "cell_type": "markdown",
   "metadata": {},
   "source": [
    "### Day 7 - part 2"
   ]
  },
  {
   "cell_type": "code",
   "execution_count": 547,
   "metadata": {},
   "outputs": [
    {
     "data": {
      "text/plain": [
       "'vibrant purple'"
      ]
     },
     "execution_count": 547,
     "metadata": {},
     "output_type": "execute_result"
    }
   ],
   "source": [
    "' '.join('vibrant purple bag'.split(' ')[:2])"
   ]
  },
  {
   "cell_type": "code",
   "execution_count": 574,
   "metadata": {},
   "outputs": [],
   "source": [
    "dct_other = ({key[:-4]:0 for key,val in dct7.items() if val == [' other bags']})"
   ]
  },
  {
   "cell_type": "code",
   "execution_count": 575,
   "metadata": {},
   "outputs": [
    {
     "data": {
      "text/plain": [
       "{'light gold': 0,\n",
       " 'striped violet': 0,\n",
       " 'striped green': 0,\n",
       " 'muted gray': 0,\n",
       " 'clear magenta': 0,\n",
       " 'pale cyan': 0,\n",
       " 'mirrored teal': 0,\n",
       " 'mirrored turquoise': 0,\n",
       " 'clear bronze': 0,\n",
       " 'dark silver': 0}"
      ]
     },
     "execution_count": 575,
     "metadata": {},
     "output_type": "execute_result"
    }
   ],
   "source": [
    "dct_other"
   ]
  },
  {
   "cell_type": "code",
   "execution_count": 579,
   "metadata": {},
   "outputs": [
    {
     "data": {
      "text/plain": [
       "True"
      ]
     },
     "execution_count": 579,
     "metadata": {},
     "output_type": "execute_result"
    }
   ],
   "source": [
    "dct_other['light gold'] is 0"
   ]
  },
  {
   "cell_type": "code",
   "execution_count": 553,
   "metadata": {},
   "outputs": [
    {
     "data": {
      "text/plain": [
       "{'dark brown': 5, 'dotted coral': 2, 'mirrored turquoise': 5}"
      ]
     },
     "execution_count": 553,
     "metadata": {},
     "output_type": "execute_result"
    }
   ],
   "source": [
    "{' '.join(x[2:].split(' ')[:2]):int(x[0]) for x in text7[0].split('contain ')[1].split(', ')}"
   ]
  },
  {
   "cell_type": "code",
   "execution_count": 580,
   "metadata": {},
   "outputs": [],
   "source": [
    "dct_count = {rule.split(' bags contain')[0]: {' '.join(x[2:].split(' ')[:2]):int(x[0]) for x in rule.split('contain ')[1].split(', ')} for rule in text7 if not 'no other bags' in rule}"
   ]
  },
  {
   "cell_type": "code",
   "execution_count": 581,
   "metadata": {},
   "outputs": [],
   "source": [
    "dct_count.update(dct_other)"
   ]
  },
  {
   "cell_type": "code",
   "execution_count": 582,
   "metadata": {},
   "outputs": [
    {
     "data": {
      "text/plain": [
       "594"
      ]
     },
     "execution_count": 582,
     "metadata": {},
     "output_type": "execute_result"
    }
   ],
   "source": [
    "len(dct_count)"
   ]
  },
  {
   "cell_type": "code",
   "execution_count": 586,
   "metadata": {},
   "outputs": [
    {
     "data": {
      "text/plain": [
       "{'clear magenta': 4,\n",
       " 'mirrored turquoise': 3,\n",
       " 'plaid maroon': 2,\n",
       " 'bright crimson': 5}"
      ]
     },
     "execution_count": 586,
     "metadata": {},
     "output_type": "execute_result"
    }
   ],
   "source": [
    "dct_count['shiny gold']"
   ]
  },
  {
   "cell_type": "code",
   "execution_count": 588,
   "metadata": {},
   "outputs": [],
   "source": [
    "bags = dct_count"
   ]
  },
  {
   "cell_type": "code",
   "execution_count": 587,
   "metadata": {},
   "outputs": [],
   "source": [
    "def solve(color):\n",
    "    root = bags[color]\n",
    "    if root is 0:\n",
    "        return 0\n",
    "    else:\n",
    "        return sum([root[key]*solve(key) + root[key] for key in root])"
   ]
  },
  {
   "cell_type": "code",
   "execution_count": 590,
   "metadata": {},
   "outputs": [
    {
     "data": {
      "text/plain": [
       "5312"
      ]
     },
     "execution_count": 590,
     "metadata": {},
     "output_type": "execute_result"
    }
   ],
   "source": [
    "solve('shiny gold')"
   ]
  },
  {
   "cell_type": "code",
   "execution_count": null,
   "metadata": {},
   "outputs": [],
   "source": []
  },
  {
   "cell_type": "code",
   "execution_count": null,
   "metadata": {},
   "outputs": [],
   "source": []
  }
 ],
 "metadata": {
  "kernelspec": {
   "display_name": "Python 3",
   "language": "python",
   "name": "python3"
  },
  "language_info": {
   "codemirror_mode": {
    "name": "ipython",
    "version": 3
   },
   "file_extension": ".py",
   "mimetype": "text/x-python",
   "name": "python",
   "nbconvert_exporter": "python",
   "pygments_lexer": "ipython3",
   "version": "3.7.6"
  }
 },
 "nbformat": 4,
 "nbformat_minor": 4
}
