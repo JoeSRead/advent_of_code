{
 "cells": [
  {
   "cell_type": "markdown",
   "metadata": {},
   "source": [
    "### Day 1 - part 1"
   ]
  },
  {
   "cell_type": "code",
   "execution_count": 1,
   "metadata": {},
   "outputs": [],
   "source": [
    "import pandas as pd\n",
    "import numpy as np\n",
    "import re"
   ]
  },
  {
   "cell_type": "code",
   "execution_count": 2,
   "metadata": {},
   "outputs": [],
   "source": [
    "test_lst = [1721, 979, 366, 299, 675, 1456]"
   ]
  },
  {
   "cell_type": "code",
   "execution_count": 3,
   "metadata": {},
   "outputs": [
    {
     "data": {
      "text/plain": [
       "[(514579, 1721, 299), (514579, 299, 1721)]"
      ]
     },
     "execution_count": 3,
     "metadata": {},
     "output_type": "execute_result"
    }
   ],
   "source": [
    "[(i*j, i,j) for i in test_lst for j in test_lst  if i+j == 2020]"
   ]
  },
  {
   "cell_type": "code",
   "execution_count": 4,
   "metadata": {
    "jupyter": {
     "source_hidden": true
    }
   },
   "outputs": [],
   "source": [
    "day_1_lst = [1211,\n",
    "1698,\n",
    "1787,\n",
    "1947,\n",
    "1888,\n",
    "444,\n",
    "1819,\n",
    "1890,\n",
    "1940,\n",
    "1884,\n",
    "1917,\n",
    "1814,\n",
    "1724,\n",
    "1561,\n",
    "1823,\n",
    "1266,\n",
    "1982,\n",
    "1826,\n",
    "1871,\n",
    "1692,\n",
    "1665,\n",
    "1081,\n",
    "1847,\n",
    "640,\n",
    "1861,\n",
    "1632,\n",
    "1916,\n",
    "1921,\n",
    "1450,\n",
    "1806,\n",
    "1950,\n",
    "1969,\n",
    "1757,\n",
    "1766,\n",
    "1799,\n",
    "422,\n",
    "1865,\n",
    "1934,\n",
    "1954,\n",
    "1640,\n",
    "1743,\n",
    "1812,\n",
    "1745,\n",
    "1574,\n",
    "1904,\n",
    "1510,\n",
    "1491,\n",
    "1977,\n",
    "1727,\n",
    "1979,\n",
    "1842,\n",
    "1784,\n",
    "1655,\n",
    "1991,\n",
    "1296,\n",
    "1849,\n",
    "1863,\n",
    "1886,\n",
    "1696,\n",
    "1716,\n",
    "1679,\n",
    "1848,\n",
    "1540,\n",
    "1780,\n",
    "1926,\n",
    "1986,\n",
    "1898,\n",
    "1448,\n",
    "315,\n",
    "1568,\n",
    "1869,\n",
    "1875,\n",
    "2010,\n",
    "1268,\n",
    "1892,\n",
    "1248,\n",
    "1746,\n",
    "1987,\n",
    "1963,\n",
    "20,\n",
    "1575,\n",
    "1827,\n",
    "1653,\n",
    "1851,\n",
    "1365,\n",
    "1599,\n",
    "1688,\n",
    "1943,\n",
    "1677,\n",
    "1320,\n",
    "154,\n",
    "1490,\n",
    "1737,\n",
    "1573,\n",
    "1908,\n",
    "1667,\n",
    "1151,\n",
    "1761,\n",
    "1587,\n",
    "1924,\n",
    "1941,\n",
    "1731,\n",
    "1669,\n",
    "1857,\n",
    "1723,\n",
    "1880,\n",
    "1970,\n",
    "1791,\n",
    "1928,\n",
    "1942,\n",
    "1816,\n",
    "1989,\n",
    "1832,\n",
    "1911,\n",
    "1711,\n",
    "1817,\n",
    "1893,\n",
    "896,\n",
    "1998,\n",
    "1720,\n",
    "317,\n",
    "1964,\n",
    "1379,\n",
    "1750,\n",
    "1971,\n",
    "1322,\n",
    "1992,\n",
    "1347,\n",
    "1608,\n",
    "1373,\n",
    "1668,\n",
    "1252,\n",
    "373,\n",
    "1968,\n",
    "1754,\n",
    "1709,\n",
    "1988,\n",
    "1946,\n",
    "1537,\n",
    "1758,\n",
    "1830,\n",
    "624,\n",
    "1694,\n",
    "1914,\n",
    "1867,\n",
    "1145,\n",
    "1973,\n",
    "1769,\n",
    "1773,\n",
    "1424,\n",
    "1777,\n",
    "1659,\n",
    "1789,\n",
    "1907,\n",
    "1201,\n",
    "1967,\n",
    "1682,\n",
    "1952,\n",
    "1978,\n",
    "1937,\n",
    "1974,\n",
    "1488,\n",
    "1896,\n",
    "1657,\n",
    "1420,\n",
    "1935,\n",
    "1778,\n",
    "1822,\n",
    "1703,\n",
    "2003,\n",
    "119,\n",
    "1149,\n",
    "1732,\n",
    "1878,\n",
    "1938,\n",
    "1918,\n",
    "1797,\n",
    "1836,\n",
    "1741,\n",
    "1579,\n",
    "1589,\n",
    "1999,\n",
    "1772,\n",
    "1853,\n",
    "1793,\n",
    "1768,\n",
    "1759,\n",
    "1216,\n",
    "1765,\n",
    "1944,\n",
    "1735,\n",
    "1580,\n",
    "1756,\n",
    "1308,\n",
    "1786,\n",
    "1962,\n",
    "1981,\n",
    "1156,\n",
    "1948,\n",
    "1894]"
   ]
  },
  {
   "cell_type": "code",
   "execution_count": 5,
   "metadata": {},
   "outputs": [
    {
     "data": {
      "text/plain": [
       "[(539851, 317, 1703), (539851, 1703, 317)]"
      ]
     },
     "execution_count": 5,
     "metadata": {},
     "output_type": "execute_result"
    }
   ],
   "source": [
    "[(i*j, i,j) for i in day_1_lst for j in day_1_lst  if i+j == 2020]"
   ]
  },
  {
   "cell_type": "code",
   "execution_count": 6,
   "metadata": {},
   "outputs": [],
   "source": [
    "# Copied from a friend, very nice linear time version \n",
    "\n",
    "def first_star(data):\n",
    "\n",
    "    num_dict = {}\n",
    "    for num in data:\n",
    "        val = 2020 - num\n",
    "        if num in num_dict:\n",
    "            print(num_dict[num] * num)\n",
    "        num_dict[val] = num"
   ]
  },
  {
   "cell_type": "code",
   "execution_count": 7,
   "metadata": {},
   "outputs": [
    {
     "name": "stdout",
     "output_type": "stream",
     "text": [
      "539851\n"
     ]
    }
   ],
   "source": [
    "first_star(day_1_lst)"
   ]
  },
  {
   "cell_type": "markdown",
   "metadata": {},
   "source": [
    "### Day 1 - part 2"
   ]
  },
  {
   "cell_type": "code",
   "execution_count": 8,
   "metadata": {},
   "outputs": [
    {
     "data": {
      "text/plain": [
       "[(212481360, 1081, 315, 624),\n",
       " (212481360, 1081, 624, 315),\n",
       " (212481360, 315, 1081, 624),\n",
       " (212481360, 315, 624, 1081),\n",
       " (212481360, 624, 1081, 315),\n",
       " (212481360, 624, 315, 1081)]"
      ]
     },
     "execution_count": 8,
     "metadata": {},
     "output_type": "execute_result"
    }
   ],
   "source": [
    "[(i*j*k, i,j, k) for i in day_1_lst for j in day_1_lst for k in day_1_lst  if i+j+k == 2020]"
   ]
  },
  {
   "cell_type": "code",
   "execution_count": null,
   "metadata": {},
   "outputs": [],
   "source": []
  },
  {
   "cell_type": "code",
   "execution_count": null,
   "metadata": {},
   "outputs": [],
   "source": []
  },
  {
   "cell_type": "markdown",
   "metadata": {},
   "source": [
    "### Day 2 - part 1"
   ]
  },
  {
   "cell_type": "code",
   "execution_count": 9,
   "metadata": {},
   "outputs": [],
   "source": [
    "test_lst = [\"1-3 a: abcde\",\n",
    "\"1-3 b: cdefg\",\n",
    "\"2-9 c: ccccccccc\"]"
   ]
  },
  {
   "cell_type": "code",
   "execution_count": 10,
   "metadata": {},
   "outputs": [
    {
     "data": {
      "text/plain": [
       "[('1-3 a', 'abcde'), ('1-3 b', 'cdefg'), ('2-9 c', 'ccccccccc')]"
      ]
     },
     "execution_count": 10,
     "metadata": {},
     "output_type": "execute_result"
    }
   ],
   "source": [
    "[(x.split(': ')[0], x.split(': ')[1])  for x in test_lst]"
   ]
  },
  {
   "cell_type": "code",
   "execution_count": 11,
   "metadata": {},
   "outputs": [],
   "source": [
    "# Open and create a list of rules and passwords\n",
    "\n",
    "text2 = []\n",
    "with open('data/day_2.txt', 'r') as file:\n",
    "    for x in file.readlines():\n",
    "        text2.append(x.split('\\n')[0])"
   ]
  },
  {
   "cell_type": "code",
   "execution_count": 12,
   "metadata": {},
   "outputs": [
    {
     "data": {
      "text/plain": [
       "1000"
      ]
     },
     "execution_count": 12,
     "metadata": {},
     "output_type": "execute_result"
    }
   ],
   "source": [
    "# Check the list is the correct length\n",
    "\n",
    "len(text2)"
   ]
  },
  {
   "cell_type": "code",
   "execution_count": 13,
   "metadata": {},
   "outputs": [
    {
     "data": {
      "text/plain": [
       "580"
      ]
     },
     "execution_count": 13,
     "metadata": {},
     "output_type": "execute_result"
    }
   ],
   "source": [
    "count = 0\n",
    "for x in text2:\n",
    "    rule = x.split(': ')[0]\n",
    "    \n",
    "    bound_lwr = int(rule.split(' ')[0].split('-')[0])\n",
    "    bound_upr = int(rule.split(' ')[0].split('-')[1])\n",
    "    char = rule[-1]\n",
    "    \n",
    "    pwrd = x.split(': ')[1]\n",
    "    \n",
    "    if bound_lwr <= pwrd.count(char) <= bound_upr:\n",
    "        count += 1\n",
    "count"
   ]
  },
  {
   "cell_type": "markdown",
   "metadata": {},
   "source": [
    "### Day 2 - part 2"
   ]
  },
  {
   "cell_type": "code",
   "execution_count": 14,
   "metadata": {},
   "outputs": [
    {
     "data": {
      "text/plain": [
       "611"
      ]
     },
     "execution_count": 14,
     "metadata": {},
     "output_type": "execute_result"
    }
   ],
   "source": [
    "count = 0\n",
    "for x in text2:\n",
    "    rule = x.split(': ')[0]\n",
    "    \n",
    "    bound_lwr = int(rule.split(' ')[0].split('-')[0])-1\n",
    "    bound_upr = int(rule.split(' ')[0].split('-')[1])-1\n",
    "    char = rule[-1]\n",
    "    \n",
    "    pwrd = x.split(': ')[1]\n",
    "    \n",
    "    if pwrd[bound_lwr] == char and pwrd[bound_upr] != char:\n",
    "        count += 1\n",
    "   \n",
    "    elif pwrd[bound_upr] == char and pwrd[bound_lwr] != char:\n",
    "        count += 1\n",
    "    \n",
    "count"
   ]
  },
  {
   "cell_type": "code",
   "execution_count": null,
   "metadata": {},
   "outputs": [],
   "source": []
  },
  {
   "cell_type": "markdown",
   "metadata": {},
   "source": [
    "### Day 3 - part 1"
   ]
  },
  {
   "cell_type": "code",
   "execution_count": 15,
   "metadata": {},
   "outputs": [],
   "source": [
    "text3 = []\n",
    "with open('data/day_3.txt', 'r') as file:\n",
    "    for x in file.readlines():\n",
    "        text3.append(x.split('\\n')[0])"
   ]
  },
  {
   "cell_type": "code",
   "execution_count": 16,
   "metadata": {},
   "outputs": [
    {
     "data": {
      "text/plain": [
       "31"
      ]
     },
     "execution_count": 16,
     "metadata": {},
     "output_type": "execute_result"
    }
   ],
   "source": [
    "# 31 wide\n",
    "len(text3[0])"
   ]
  },
  {
   "cell_type": "code",
   "execution_count": 17,
   "metadata": {},
   "outputs": [
    {
     "data": {
      "text/plain": [
       "323"
      ]
     },
     "execution_count": 17,
     "metadata": {},
     "output_type": "execute_result"
    }
   ],
   "source": [
    "# 323 long\n",
    "len(text3)"
   ]
  },
  {
   "cell_type": "code",
   "execution_count": 18,
   "metadata": {},
   "outputs": [
    {
     "data": {
      "text/plain": [
       "32"
      ]
     },
     "execution_count": 18,
     "metadata": {},
     "output_type": "execute_result"
    }
   ],
   "source": [
    "# To go down 323 we go across 32 copies\n",
    "int((3*323)/31 +1)"
   ]
  },
  {
   "cell_type": "code",
   "execution_count": 19,
   "metadata": {},
   "outputs": [],
   "source": [
    "wide3 = [x*32 for x in text3]"
   ]
  },
  {
   "cell_type": "code",
   "execution_count": 20,
   "metadata": {},
   "outputs": [
    {
     "data": {
      "text/plain": [
       "992"
      ]
     },
     "execution_count": 20,
     "metadata": {},
     "output_type": "execute_result"
    }
   ],
   "source": [
    "len(wide3[0])"
   ]
  },
  {
   "cell_type": "code",
   "execution_count": 21,
   "metadata": {},
   "outputs": [
    {
     "data": {
      "text/plain": [
       "'#'"
      ]
     },
     "execution_count": 21,
     "metadata": {},
     "output_type": "execute_result"
    }
   ],
   "source": [
    "wide3[0][7]"
   ]
  },
  {
   "cell_type": "code",
   "execution_count": 22,
   "metadata": {},
   "outputs": [],
   "source": [
    "count = 0\n",
    "for i in range(len(wide3)):\n",
    "    if wide3[i][i*3] == '#':\n",
    "        count += 1"
   ]
  },
  {
   "cell_type": "code",
   "execution_count": 23,
   "metadata": {},
   "outputs": [
    {
     "data": {
      "text/plain": [
       "234"
      ]
     },
     "execution_count": 23,
     "metadata": {},
     "output_type": "execute_result"
    }
   ],
   "source": [
    "count"
   ]
  },
  {
   "cell_type": "code",
   "execution_count": 24,
   "metadata": {
    "jupyter": {
     "source_hidden": true
    }
   },
   "outputs": [],
   "source": [
    "test =\"\"\".......#..#....#...#...#......#\n",
    "..##..#...##.###.#..#.....#.#..\n",
    "#..#.#....#......#..#.........#\n",
    ".#..##...#........#....#..#..#.\n",
    "#.#.#....###...#........#.....#\n",
    ".#...#.#.##.#.##...#.#.........\n",
    "####......#.......###.##.#.....\n",
    "..#...........#...#.#.#........\n",
    ".#.......#....###.####..#......\n",
    "...##........#....##.......##..\n",
    ".###......##.#......##....#.#.#\n",
    "........#.#......##...#......#.\n",
    "#....##.#..#...#.......#.......\n",
    ".#..##........##.........#....#\n",
    ".#..#..#...#....#.#......#.#...\n",
    "..#.#......##.#.......#....##..\n",
    "......##......#.#..##.#..#...#.\n",
    ".....##.......#.#....#.#.......\n",
    "........#.....#.....#..###.#...\n",
    "#........#..#.....#...#.#.#..#.\n",
    ".#..#.....#...#........#.....#.\n",
    ".#.#.....#.....#...#...........\n",
    ".....#.#..#..#...#..#..#..##..#\n",
    "##.#...#....#..#.##..#.....#.#.\n",
    "#.......####......#..#.#....#..\n",
    "......#.#...####.........#.#..#\n",
    ".#.........#..#.#...#..........\n",
    "...#####.#....#.#..#......#.#.#\n",
    "##....#.###....##...##..#.....#\n",
    "...........####.##.#....##.##..\n",
    "#.#.#..........#.#..##.#.######\n",
    "##...#..#...........###..#....#\n",
    ".#.#.#...##..........##.#...#..\n",
    "...#.#........#..##...#....#...\n",
    "......#..#...#..##....#.......#\n",
    ".#..#.......#..#......##....##.\n",
    ".......#.......#........#..##..\n",
    "...#...#...#.##......#.##.#....\n",
    ".........#.........#.#.#.##....\n",
    "..#...................#....#..#\n",
    ".........#..#.....#.#...#....#.\n",
    "#.#.#...#........#..###.#......\n",
    "#.#.#.####......##...#...#....#\n",
    "#...........##..#.#.#....#..#..\n",
    "........#..#.#...........##.#.#\n",
    ".#.........#...........#..#....\n",
    "#............##.#..#....##...##\n",
    ".#....##..#.#....#.......#..#..\n",
    "..#.#...#.#......####.......#..\n",
    "...#.#.......###......#.....#..\n",
    "#......#.......#.#...#.#..##...\n",
    "...#.....#...##.#.....#.#......\n",
    "#.#.#............#..#......#..#\n",
    "....#...#...##.##.##...##.#....\n",
    "..##........#..#........#...##.\n",
    ".......#..#...#.........#.....#\n",
    "...........#.#......#...#......\n",
    "...##..##..##..###..#..#..#..#.\n",
    "#..##.......##..#....#....#.#..\n",
    "#.#.##.#..##.....#....#.#......\n",
    "....#..##......#.#..#....#....#\n",
    ".#.#.........##...#......##.##.\n",
    "##...........#..#.....#.###....\n",
    ".#.###........#...#....##..#...\n",
    "......##.....#.................\n",
    ".#.##..#.#.......#......#.#.#..\n",
    ".#...#....#.##..........##.##..\n",
    "#...##......####.#....#....#...\n",
    ".#...#.##.#.#.....#...#........\n",
    ".#................#.##.#.###...\n",
    "...#.#..#.#.....##.....##....#.\n",
    "..##.#..#..##.....#....#...#.##\n",
    "........###.##..#..###.....#..#\n",
    "..##.....#.......#.#...##......\n",
    "#.#..###...##.###.##.#..#...#..\n",
    "#..#..#.#...#....#...##.....#.#\n",
    "#..................#........#..\n",
    "#.....#.......#.##....##....#..\n",
    "...#.............#.....#...#...\n",
    "...#...#.##..##.....#........#.\n",
    ".......#........##....###..##..\n",
    ".#....#....#.#..#......#....#.#\n",
    "..........#..#.#.....##...#.##.\n",
    ".#...##.#...........#.#.......#\n",
    "..#.##.....#.###.#.............\n",
    "..#....###..........#.#.#......\n",
    "#.....#.####..#.#......#..#.#.#\n",
    "...#........#..#...............\n",
    ".###.#.##.....#.#...........#..\n",
    "..#....#..#....#..##....#......\n",
    "......#..#.....#.#.##.......#.#\n",
    "###..#...#.#..#....#..##.###..#\n",
    ".#....##.###........##...##.#.#\n",
    "........##..##.#....##..#....#.\n",
    "...#..#....#.#....#...#...##...\n",
    "#.....#......#.##........#....#\n",
    "....#....###.##...#.#.##....#..\n",
    "......#.##..#.#..........#...#.\n",
    "...........#...#....##...#....#\n",
    "......#.#.........#....#.#.#...\n",
    ".###..........#.###.##....#...#\n",
    "...##.......#......#....#....#.\n",
    "#..#...#.#..####...#......#..#.\n",
    "....##..#.#.........#..........\n",
    ".##.###.##....##.####....#...#.\n",
    "..##.......#........#...#..#...\n",
    "....#####..........###....#....\n",
    ".#.#..#.#.#....#..#............\n",
    "........#.....#....#.......##..\n",
    "...........##....##..##.....##.\n",
    "..###........#.#.#..#....##...#\n",
    ".....#...........##......#..#..\n",
    "...##........#.##.#......##..#.\n",
    "##..#....#............##..#..#.\n",
    ".#.....#...##.##..............#\n",
    "#..##........#...#...#......##.\n",
    "......##.....#.......####.##..#\n",
    "...#.#....#...#..#.............\n",
    "..#...#..##.###..#..#.......##.\n",
    "##....###.......#...#..#.......\n",
    "#..#.....###.....#.#.........#.\n",
    "#.#....#.............#...#.....\n",
    "..#.#.##..........#.....##.#...\n",
    ".....##......#..#..#.....#..#..\n",
    "##.#..#..#.##......###....#..#.\n",
    "...#............##...#..##.....\n",
    ".#..#....#.........#......#.##.\n",
    ".##.##...#..............#..#.##\n",
    "...#....#...###...#...#....#..#\n",
    "..#...#..####..#....#.#...##..#\n",
    "..............##.##.......##...\n",
    "..##.#..##...........#.#.#...#.\n",
    "..................##.####.###..\n",
    ".#...........#.......#......#..\n",
    ".#.#.#...#....#.........##...##\n",
    "....#..........#.#....#.#.....#\n",
    "..........#.#..........#.#.....\n",
    "...........#.....#.#......#....\n",
    "........#..#.#.#.#.............\n",
    "...###...##...##..####.##......\n",
    ".#..#......###.....#...#.....#.\n",
    ".........##............#.#.....\n",
    "#.#..#.#.#....###.#.#..#..#..##\n",
    "..........#...#.##.#..#..#....#\n",
    "#..#.......##....#..##........#\n",
    "##.#...#....##.............#...\n",
    "....#........#......##..#..#.##\n",
    ".................#.#.#.#.#.....\n",
    "...........#.#.....#.......#...\n",
    "#.......#.......#............#.\n",
    "....#...........#.#.##.....#..#\n",
    "#...#.....#....#..##...#.......\n",
    "..#.....#.....#.##.##....#.....\n",
    ".#.#..#...#..#..##.....##..#...\n",
    ".#.#....#.........####.........\n",
    "#...#..####.....#...#..##......\n",
    "..#...##.#.....#...#.....##....\n",
    ".#...#.....#.#.#......#.......#\n",
    "..#.....##.#..#.#...##.........\n",
    "##.#...#..#....#....#.##.##...#\n",
    ".#..#....#..##.#.......#..#....\n",
    "...##.#......#...###.......#...\n",
    "...#..#.........##.####........\n",
    "#.#..#..##...........#..#......\n",
    ".#...#.#......#.#..........#...\n",
    "...###...#.......#.....#.#...##\n",
    "..#....#.#.##..........##...#..\n",
    ".....###.........#.....#..##..#\n",
    ".......##.....#.#.....#.#..##..\n",
    ".#.#.###..##.......##...#......\n",
    "......#.....#................##\n",
    ".#......##..##.#.#...#...#...##\n",
    ".#...#......#.......#.#........\n",
    ".#..........###...#..#...#.....\n",
    ".........##.....#.#..#..#.#...#\n",
    "#...#...#.........#..#..#....#.\n",
    "###.......#.#.....#....##......\n",
    ".#..#......#..#...........#..#.\n",
    "..##....##..##...#......#......\n",
    ".#........#....#...#....#.....#\n",
    ".#.......#...#...#..##.#.#..#..\n",
    "#...#........#.##.....#.....#..\n",
    "#..##.....#..........#...#...##\n",
    "............#...............#..\n",
    ".#.##...#.....#.#..#..#..#.....\n",
    ".#.#.#...#........#....#...##..\n",
    "##......#.....#.###.#...#.#..#.\n",
    ".........##..#..#.#...#...#...#\n",
    "#...#.#....#..#..#.....#.......\n",
    ".......#.###...#.............#.\n",
    "..#.....#.#.#..###.#....#.....#\n",
    "....#...#.#....#.#..........#..\n",
    "..#......#.###.#.#..#.....#...#\n",
    "#............#..##...##......#.\n",
    "#...........#..#....#.###..###.\n",
    ".#.##.#.#.......#.............#\n",
    "..............#................\n",
    "..#.#.....#.....#...#......#...\n",
    ".#.#.#..#..#.#...........##....\n",
    ".....##.#......#..#.##....#....\n",
    ".......##..#.#.#..#............\n",
    "..#.....#.....#.###..#.....#.#.\n",
    "......##.....#..##.#...#.....#.\n",
    "...#...#....#..#..#........#...\n",
    "..#.##..#....#.........#.#..#..\n",
    "#....#.....###.....#......#....\n",
    "##.....#..#..##.........#.##.##\n",
    ".#.#....#.#..........#.........\n",
    ".##.#...#..#.......#.##...#....\n",
    "...#...#.....#....#...#.#..#...\n",
    ".....#....#.....#.....#.#......\n",
    "...........#.#.......#.......#.\n",
    ".........##.###.##........#....\n",
    "#..##.....#...#.#..............\n",
    ".#...#....##........#.#..#....#\n",
    "..#...#........#...#..#.##.#..#\n",
    "........#...#.....##.#.#....#.#\n",
    "#..#.......###.#....#.#.#......\n",
    ".......#...##....#...#..##..#..\n",
    ".....##........#.#.#..#....##..\n",
    ".#....#..#.#...........#......#\n",
    "...##....#.##.....##.......#...\n",
    ".##..#..#....#.#....#..#....##.\n",
    "..#....#.....###.......#..##..#\n",
    "....#.......#....##..#....#..##\n",
    "....#......##..#....#.#...#.#..\n",
    ".##.#......##..................\n",
    "##.#....#........#..#..#...##.#\n",
    ".......#..#.#...##.....#.#.....\n",
    "..##.#...........#.#.#..#.#.#..\n",
    ".....#....#......#..#.......#..\n",
    "#.#...#.####..##.......#..##...\n",
    "...#....#.....#.##.#..#.##..#..\n",
    ".#.......#......##........##.#.\n",
    ".......#.#...#..#...#..##.#....\n",
    ".#....#........#.#.....##..#..#\n",
    "#..#.....#..#.............#...#\n",
    "#...#....#..#...###..#...#.#...\n",
    ".#..#.....#..........#..##.####\n",
    "#.#.#.#.##.#.#.....##.#........\n",
    "...#....##....#...#..##.......#\n",
    "..##.##.#.#........#..........#\n",
    "..###........###..#..........#.\n",
    "...#......#..##.#........#..#..\n",
    "#.#.#..#........#..#..........#\n",
    "...#........#..##.#...#.###....\n",
    "##......#.####.#....#......#...\n",
    ".#..#......#................#..\n",
    "#.#........#.#.....##.....##...\n",
    "#...............#..#.......#.#.\n",
    ".##..#...........##..#..#.#....\n",
    "#......#.#.......#.#.#.##..#.##\n",
    ".....##.#..###.............##..\n",
    "....##.........#..#...#........\n",
    ".....#.....#.#.#..#.#..........\n",
    "#.........#....##.#.##.....#..#\n",
    ".#.........#......#.#.##.#.#...\n",
    "##.........#.....#..#.#..#.##.#\n",
    "....#......##...#.....#..#..###\n",
    "..#..............#...#..####...\n",
    "#....#...##.#.......#...#..#...\n",
    "#.......###.#.#.......#.......#\n",
    "...##....#.#...........#...###.\n",
    "...........#..#.#.....#..##..#.\n",
    "..#.........#..###..#.....#...#\n",
    "..#.#.....#.#.#...#.#.#......#.\n",
    "........#.....#.#......##....##\n",
    "##.#.#...#.#........#.....#...#\n",
    "........#....#...............#.\n",
    "##.###......####...#####..#....\n",
    "...##...#..#....#........#...#.\n",
    "...###.#..................##.#.\n",
    "##.#.......###.......#...#.#...\n",
    "....#..#.#...#...#....#.#.#..##\n",
    "....#...........#..#...........\n",
    "#..#.#..#...#...#..#...........\n",
    "...#...#.#....#..#....#........\n",
    "#....#.......#.##........#..#..\n",
    ".....#...#..#................#.\n",
    "#......#.......#..........##..#\n",
    ".#....#.#......#.#...#....##..#\n",
    "...#.##...#......#.#...##...##.\n",
    "..#...#..##...#...#....#.......\n",
    ".....#....#.#.#..........#.#...\n",
    "...#...#..#....#..#.#..........\n",
    "......#.#..........##.......#..\n",
    ".#...##.#.#...#..##..#...#.....\n",
    "..#..#.........#........#.#.#..\n",
    "#.#..##..#.....##......#.....#.\n",
    "#..#.....#.#....#...#.#....#.#.\n",
    "......#........##.#..#...#.....\n",
    "...#.##.#.#......#.#..##...#..#\n",
    "....#..###..#..#.....###....##.\n",
    ".....#...#.#.....#..........#.#\n",
    ".#...##..##.....#..#...#.#.#...\n",
    ".##.#......##...##..#...#.....#\n",
    ".#.##....#...#.##.#.#...#.#...#\n",
    "....#.#...#....###.#.....#.....\n",
    "#.....####................#..#.\n",
    "....#.....#...#.#.......##.#...\n",
    ".#...##.#...#..#...........#.#.\n",
    "..#####..#.#...#...##........#.\n",
    "...#...##........#...#.#....###\n",
    "........#.#.#..#.....#.......#.\n",
    "...#...#..##............##.....\n",
    "#.#..###....###.#...#.#...##.##\n",
    "..#.##...#......#..#.........##\n",
    ".##..#..#.....#..#.........#.#.\n",
    ".#..#.#....#.##...#..#.##....##\n",
    "..#...#.#...##.#.#...#...#....#\n",
    "#..........#.......##..##....#.\n",
    "#...###.#......#....#.........#\n",
    "#.....#...##.......##....##....\n",
    ".##.#..#.##......#.##....#..#..\n",
    "............#.#....##.#..#....#\n",
    ".#.........##.##...#....#.....#\n",
    "##....##..#..#....##...#.....##\n",
    "...#.....#...........#.....##..\n",
    "......#...#.........#.......#..\n",
    "............#...##.#.....#.#.#.\n",
    ".#........##..........#.....#.#\n",
    ".###.........#.....#.##...#....\n",
    ".##..#...##...#..#..#.##.......\"\"\".split(\"\\n\")"
   ]
  },
  {
   "cell_type": "markdown",
   "metadata": {},
   "source": [
    "### Day 3 - part 2"
   ]
  },
  {
   "cell_type": "code",
   "execution_count": 25,
   "metadata": {},
   "outputs": [],
   "source": [
    "def tree_counter(r=1, d=1):\n",
    "    count = 0\n",
    "    wide = [x*int((r*323)/31 +1) for x in text3]\n",
    "    for i in range(int(len(wide)/d)):\n",
    "        if wide[i*d][i*r] == '#':\n",
    "            count += 1\n",
    "    return count"
   ]
  },
  {
   "cell_type": "code",
   "execution_count": 26,
   "metadata": {},
   "outputs": [
    {
     "data": {
      "text/plain": [
       "48"
      ]
     },
     "execution_count": 26,
     "metadata": {},
     "output_type": "execute_result"
    }
   ],
   "source": [
    "tree_counter(d=2)"
   ]
  },
  {
   "cell_type": "code",
   "execution_count": 27,
   "metadata": {},
   "outputs": [
    {
     "data": {
      "text/plain": [
       "5813773056"
      ]
     },
     "execution_count": 27,
     "metadata": {},
     "output_type": "execute_result"
    }
   ],
   "source": [
    "tree_counter()*tree_counter(r=3)*tree_counter(r=5)*tree_counter(r=7)*tree_counter(d=2)"
   ]
  },
  {
   "cell_type": "markdown",
   "metadata": {},
   "source": [
    "### Day 3 - part 1"
   ]
  },
  {
   "cell_type": "markdown",
   "metadata": {},
   "source": [
    "This is the most horrible hacky code that I have written to date!\n",
    "Death by comprehension"
   ]
  },
  {
   "cell_type": "code",
   "execution_count": 28,
   "metadata": {},
   "outputs": [],
   "source": [
    "text4 = []\n",
    "with open('data/day_4.txt', 'r') as file:\n",
    "    for x in file.readlines():\n",
    "        text4.append(x.split('\\n')[0])"
   ]
  },
  {
   "cell_type": "code",
   "execution_count": 29,
   "metadata": {},
   "outputs": [
    {
     "data": {
      "text/plain": [
       "True"
      ]
     },
     "execution_count": 29,
     "metadata": {},
     "output_type": "execute_result"
    }
   ],
   "source": [
    "text4[1] == ''"
   ]
  },
  {
   "cell_type": "code",
   "execution_count": 30,
   "metadata": {},
   "outputs": [],
   "source": [
    "count_lst = []\n",
    "for row in text4:\n",
    "    count = 0\n",
    "    for field in ['byr', 'iyr', 'eyr', 'hgt', 'hcl', 'ecl', 'pid']:\n",
    "        if field in row:\n",
    "            count += 1\n",
    "    count_lst.append(count)\n",
    "    if row == '':\n",
    "        count_lst.append('pass')"
   ]
  },
  {
   "cell_type": "code",
   "execution_count": 31,
   "metadata": {},
   "outputs": [],
   "source": [
    "Lsub = []\n",
    "L2 = []\n",
    "for e in count_lst:\n",
    "    if e == 'pass':\n",
    "        if Lsub: \n",
    "            L2.append(Lsub)\n",
    "        Lsub = [e]\n",
    "    else:\n",
    "        Lsub.append(e)\n",
    "L2.append(Lsub)"
   ]
  },
  {
   "cell_type": "code",
   "execution_count": 32,
   "metadata": {},
   "outputs": [
    {
     "data": {
      "text/plain": [
       "[4, 1, 2, 0]"
      ]
     },
     "execution_count": 32,
     "metadata": {},
     "output_type": "execute_result"
    }
   ],
   "source": [
    "test = ['pass', 4, 1, 2, 0]\n",
    "test.remove('pass')\n",
    "test"
   ]
  },
  {
   "cell_type": "code",
   "execution_count": 33,
   "metadata": {},
   "outputs": [],
   "source": [
    "new_lst = [el[1:] for el in L2[1:]]\n",
    "new_lst.append(L2[0])"
   ]
  },
  {
   "cell_type": "code",
   "execution_count": 34,
   "metadata": {},
   "outputs": [],
   "source": [
    "summed = [sum(x) for x in new_lst]"
   ]
  },
  {
   "cell_type": "code",
   "execution_count": 35,
   "metadata": {},
   "outputs": [
    {
     "data": {
      "text/plain": [
       "250"
      ]
     },
     "execution_count": 35,
     "metadata": {},
     "output_type": "execute_result"
    }
   ],
   "source": [
    "summed.count(7)"
   ]
  },
  {
   "cell_type": "markdown",
   "metadata": {},
   "source": [
    "### Day4 - part 2"
   ]
  },
  {
   "cell_type": "code",
   "execution_count": 36,
   "metadata": {},
   "outputs": [
    {
     "data": {
      "text/plain": [
       "['eyr:2024 pid:662406624 hcl:#cfa07d byr:1947 iyr:2015 ecl:amb hgt:150cm',\n",
       " '',\n",
       " 'iyr:2013 byr:1997 hgt:182cm hcl:#ceb3a1',\n",
       " 'eyr:2027']"
      ]
     },
     "execution_count": 36,
     "metadata": {},
     "output_type": "execute_result"
    }
   ],
   "source": [
    "text4[:4]"
   ]
  },
  {
   "cell_type": "code",
   "execution_count": 37,
   "metadata": {},
   "outputs": [],
   "source": [
    "Lsub = []\n",
    "L2 = []\n",
    "for e in text4:\n",
    "    if e == '':\n",
    "        if Lsub: \n",
    "            L2.append(Lsub)\n",
    "        Lsub = [e]\n",
    "    else:\n",
    "        Lsub.append(e)\n",
    "L2.append(Lsub)"
   ]
  },
  {
   "cell_type": "code",
   "execution_count": 38,
   "metadata": {},
   "outputs": [],
   "source": [
    "field_lst = L2[0] + [x[1:] for x in L2[1:]]"
   ]
  },
  {
   "cell_type": "code",
   "execution_count": 39,
   "metadata": {},
   "outputs": [],
   "source": [
    "tst1 = ['iyr:2013 byr:1997 hgt:182cm hcl:#ceb3a1','eyr:2027','ecl:gry cid:102 pid:018128535']"
   ]
  },
  {
   "cell_type": "code",
   "execution_count": 40,
   "metadata": {},
   "outputs": [
    {
     "data": {
      "text/plain": [
       "['iyr:2013',\n",
       " 'byr:1997',\n",
       " 'hgt:182cm',\n",
       " 'hcl:#ceb3a1',\n",
       " 'eyr:2027',\n",
       " 'ecl:gry',\n",
       " 'cid:102',\n",
       " 'pid:018128535']"
      ]
     },
     "execution_count": 40,
     "metadata": {},
     "output_type": "execute_result"
    }
   ],
   "source": [
    "[s for t in [x.split(' ') for x in tst1] for s in t]"
   ]
  },
  {
   "cell_type": "code",
   "execution_count": 41,
   "metadata": {},
   "outputs": [
    {
     "data": {
      "text/plain": [
       "['eyr:2024',\n",
       " 'pid:662406624',\n",
       " 'hcl:#cfa07d',\n",
       " 'byr:1947',\n",
       " 'iyr:2015',\n",
       " 'ecl:amb',\n",
       " 'hgt:150cm']"
      ]
     },
     "execution_count": 41,
     "metadata": {},
     "output_type": "execute_result"
    }
   ],
   "source": [
    "field_lst[0].split(' ')"
   ]
  },
  {
   "cell_type": "code",
   "execution_count": 42,
   "metadata": {},
   "outputs": [],
   "source": [
    "split_list = [field_lst[0].split(' ')] + [[s for t in [x.split(' ') for x in sub_lst] for s in t] for sub_lst in field_lst[1:]]"
   ]
  },
  {
   "cell_type": "code",
   "execution_count": 43,
   "metadata": {},
   "outputs": [
    {
     "data": {
      "text/plain": [
       "282"
      ]
     },
     "execution_count": 43,
     "metadata": {},
     "output_type": "execute_result"
    }
   ],
   "source": [
    "len(split_list)"
   ]
  },
  {
   "cell_type": "code",
   "execution_count": 44,
   "metadata": {},
   "outputs": [],
   "source": [
    "dct_lst = [{x[:3]:x[4:] for x in sub_list} for sub_list in split_list]"
   ]
  },
  {
   "cell_type": "code",
   "execution_count": 45,
   "metadata": {},
   "outputs": [
    {
     "data": {
      "text/plain": [
       "[{'eyr': '2024',\n",
       "  'pid': '662406624',\n",
       "  'hcl': '#cfa07d',\n",
       "  'byr': '1947',\n",
       "  'iyr': '2015',\n",
       "  'ecl': 'amb',\n",
       "  'hgt': '150cm'},\n",
       " {'iyr': '2013',\n",
       "  'byr': '1997',\n",
       "  'hgt': '182cm',\n",
       "  'hcl': '#ceb3a1',\n",
       "  'eyr': '2027',\n",
       "  'ecl': 'gry',\n",
       "  'cid': '102',\n",
       "  'pid': '018128535'}]"
      ]
     },
     "execution_count": 45,
     "metadata": {},
     "output_type": "execute_result"
    }
   ],
   "source": [
    "dct_lst[:2]"
   ]
  },
  {
   "cell_type": "code",
   "execution_count": 46,
   "metadata": {},
   "outputs": [
    {
     "name": "stdout",
     "output_type": "stream",
     "text": [
      "7\n"
     ]
    }
   ],
   "source": [
    "sub_count = 0\n",
    "\n",
    "pattern = re.compile(\"[a-f0-9]+\")\n",
    "for key in dct_lst[0]:\n",
    "    if key == 'byr':\n",
    "        \n",
    "        if (len(dct_lst[0][key]) == 4) and (1920 <= int(dct_lst[0][key]) <= 2002):\n",
    "            sub_count +=1\n",
    "            \n",
    "    if key == 'iyr':\n",
    "        \n",
    "        if (len(dct_lst[0][key]) == 4) and (2010 <= int(dct_lst[0][key]) <= 2020):\n",
    "            sub_count +=1\n",
    "            \n",
    "    if key == 'eyr':\n",
    "        \n",
    "        if (len(dct_lst[0][key]) == 4) and (2020 <= int(dct_lst[0][key]) <= 2030):\n",
    "            sub_count +=1\n",
    "            \n",
    "    if key == 'hgt':\n",
    "        \n",
    "        if (dct_lst[0][key][-2:] == 'cm') and (150 <= int(dct_lst[0][key][:-2]) <= 193):\n",
    "            sub_count +=1\n",
    "            \n",
    "        elif (dct_lst[0][key][-2:] == 'in') and (59 <= int(dct_lst[0][key][:-2]) <= 76):\n",
    "            sub_count +=1\n",
    "\n",
    "    if key == 'hcl':\n",
    "        \n",
    "        if (dct_lst[0][key][0] == '#') and pattern.fullmatch(dct_lst[0][key][1:]):\n",
    "            sub_count +=1\n",
    "            \n",
    "    if key == 'ecl':\n",
    "        \n",
    "        if (len(dct_lst[0][key]) == 3) and (dct_lst[0][key] in [\"amb\", \"blu\", \"brn\", \"gry\", \"grn\", \"hzl\", \"oth\"]):\n",
    "            sub_count +=1\n",
    "            \n",
    "    if key == 'pid':\n",
    "        if len(dct_lst[0][key]) == 9:\n",
    "            sub_count+=1\n",
    "      \n",
    "    \n",
    "print(sub_count)    "
   ]
  },
  {
   "cell_type": "code",
   "execution_count": 47,
   "metadata": {},
   "outputs": [
    {
     "data": {
      "text/plain": [
       "{'eyr': '2024',\n",
       " 'pid': '662406624',\n",
       " 'hcl': '#cfa07d',\n",
       " 'byr': '1947',\n",
       " 'iyr': '2015',\n",
       " 'ecl': 'amb',\n",
       " 'hgt': '150cm'}"
      ]
     },
     "execution_count": 47,
     "metadata": {},
     "output_type": "execute_result"
    }
   ],
   "source": [
    "dct_lst[0]"
   ]
  },
  {
   "cell_type": "code",
   "execution_count": 48,
   "metadata": {},
   "outputs": [
    {
     "data": {
      "text/plain": [
       "158"
      ]
     },
     "execution_count": 48,
     "metadata": {},
     "output_type": "execute_result"
    }
   ],
   "source": [
    "count = 0   \n",
    "for psw in dct_lst:\n",
    "    sub_count = 0\n",
    "    pattern = re.compile(\"[a-f0-9]+\")\n",
    "    for key in psw:\n",
    "        if key == 'byr':\n",
    "\n",
    "            if (len(psw[key]) == 4) and (1920 <= int(psw[key]) <= 2002):\n",
    "                sub_count +=1\n",
    "\n",
    "        if key == 'iyr':\n",
    "\n",
    "            if (len(psw[key]) == 4) and (2010 <= int(psw[key]) <= 2020):\n",
    "                sub_count +=1\n",
    "\n",
    "        if key == 'eyr':\n",
    "\n",
    "            if (len(psw[key]) == 4) and (2020 <= int(psw[key]) <= 2030):\n",
    "                sub_count +=1\n",
    "\n",
    "        if key == 'hgt':\n",
    "\n",
    "            if (psw[key][-2:] == 'cm') and (150 <= int(psw[key][:-2]) <= 193):\n",
    "                sub_count +=1\n",
    "\n",
    "            elif (psw[key][-2:] == 'in') and (59 <= int(psw[key][:-2]) <= 76):\n",
    "                sub_count +=1\n",
    "\n",
    "        if key == 'hcl':\n",
    "\n",
    "            if (psw[key][0] == '#') and pattern.fullmatch(psw[key][1:]):\n",
    "                sub_count +=1\n",
    "\n",
    "        if key == 'ecl':\n",
    "\n",
    "            if (len(psw[key]) == 3) and (psw[key] in [\"amb\", \"blu\", \"brn\", \"gry\", \"grn\", \"hzl\", \"oth\"]):\n",
    "                sub_count +=1\n",
    "\n",
    "        if key == 'pid':\n",
    "            if len(psw[key]) == 9:\n",
    "                sub_count+=1\n",
    "\n",
    "    if sub_count == 7:\n",
    "        count += 1\n",
    "count"
   ]
  },
  {
   "cell_type": "markdown",
   "metadata": {},
   "source": [
    "### Day 5 - part 1"
   ]
  },
  {
   "cell_type": "code",
   "execution_count": 49,
   "metadata": {},
   "outputs": [],
   "source": [
    "def splitter(code, lw, up):\n",
    "    delta = int((up-lw)/2) + 1 \n",
    "    if code == 'F' or code == 'L':\n",
    "        up -= delta\n",
    "    elif code == 'B' or code == 'R':\n",
    "        lw += delta\n",
    "    return lw, up"
   ]
  },
  {
   "cell_type": "code",
   "execution_count": 50,
   "metadata": {},
   "outputs": [
    {
     "data": {
      "text/plain": [
       "(32, 63)"
      ]
     },
     "execution_count": 50,
     "metadata": {},
     "output_type": "execute_result"
    }
   ],
   "source": [
    "splitter('B', 0, 63)"
   ]
  },
  {
   "cell_type": "code",
   "execution_count": 51,
   "metadata": {},
   "outputs": [
    {
     "name": "stdout",
     "output_type": "stream",
     "text": [
      "44 44\n",
      "5 5\n"
     ]
    },
    {
     "data": {
      "text/plain": [
       "357"
      ]
     },
     "execution_count": 51,
     "metadata": {},
     "output_type": "execute_result"
    }
   ],
   "source": [
    "lw, up = 0, 127\n",
    "for cd in \"FBFBBFF\":\n",
    "    lw, up = splitter(cd, lw, up)\n",
    "print(lw,up)\n",
    "r, l = 0,7\n",
    "for cd in \"RLR\":\n",
    "    r, l = splitter(cd, r, l)\n",
    "print(r,l)\n",
    "lw*8 + r"
   ]
  },
  {
   "cell_type": "code",
   "execution_count": 52,
   "metadata": {},
   "outputs": [
    {
     "data": {
      "text/plain": [
       "'RLR'"
      ]
     },
     "execution_count": 52,
     "metadata": {},
     "output_type": "execute_result"
    }
   ],
   "source": [
    "'FBFBBFFRLR'[-3:]"
   ]
  },
  {
   "cell_type": "code",
   "execution_count": 53,
   "metadata": {},
   "outputs": [],
   "source": [
    "def seat_ID(code):\n",
    "    \n",
    "    lw, up = 0, 127\n",
    "    for cd in code[:-3]:\n",
    "        lw, up = splitter(cd, lw, up)\n",
    "    \n",
    "    r,l = 0,7\n",
    "    for cd in code[-3:]:\n",
    "        r, l = splitter(cd, r, l)\n",
    "        \n",
    "    return lw*8 + r"
   ]
  },
  {
   "cell_type": "code",
   "execution_count": 54,
   "metadata": {},
   "outputs": [
    {
     "data": {
      "text/plain": [
       "357"
      ]
     },
     "execution_count": 54,
     "metadata": {},
     "output_type": "execute_result"
    }
   ],
   "source": [
    "seat_ID('FBFBBFFRLR')"
   ]
  },
  {
   "cell_type": "code",
   "execution_count": 55,
   "metadata": {},
   "outputs": [],
   "source": [
    "text5 = []\n",
    "with open('data/day_5.txt', 'r') as file:\n",
    "    for x in file.readlines():\n",
    "        text5.append(x.split('\\n')[0])"
   ]
  },
  {
   "cell_type": "code",
   "execution_count": 56,
   "metadata": {},
   "outputs": [
    {
     "data": {
      "text/plain": [
       "828"
      ]
     },
     "execution_count": 56,
     "metadata": {},
     "output_type": "execute_result"
    }
   ],
   "source": [
    "id_lst = []\n",
    "for cde in text5:\n",
    "    id_lst.append(seat_ID(cde))\n",
    "max(id_lst)"
   ]
  },
  {
   "cell_type": "markdown",
   "metadata": {},
   "source": [
    "### Day 5 - part 2"
   ]
  },
  {
   "cell_type": "code",
   "execution_count": 57,
   "metadata": {},
   "outputs": [],
   "source": [
    "id_lst.sort()"
   ]
  },
  {
   "cell_type": "code",
   "execution_count": 58,
   "metadata": {},
   "outputs": [
    {
     "data": {
      "text/plain": [
       "565"
      ]
     },
     "execution_count": 58,
     "metadata": {},
     "output_type": "execute_result"
    }
   ],
   "source": [
    "# One higher than the place in our list with a skip of 2\n",
    "id_lst[[id_lst[i] - id_lst[i+1] for i in range(len(id_lst)-1)].index(-2)] + 1"
   ]
  },
  {
   "cell_type": "code",
   "execution_count": 59,
   "metadata": {},
   "outputs": [
    {
     "data": {
      "text/plain": [
       "[563, 564, 566]"
      ]
     },
     "execution_count": 59,
     "metadata": {},
     "output_type": "execute_result"
    }
   ],
   "source": [
    "id_lst[540:543]"
   ]
  },
  {
   "cell_type": "markdown",
   "metadata": {},
   "source": [
    "### Day 6 - part 1"
   ]
  },
  {
   "cell_type": "code",
   "execution_count": 60,
   "metadata": {},
   "outputs": [],
   "source": [
    "text6 = []\n",
    "with open('data/day_6.txt', 'r') as file:\n",
    "    for x in file.readlines():\n",
    "        text6.append(x.split('\\n')[0])\n",
    "\n",
    "Lsub = []\n",
    "L6 = []\n",
    "for e in text6:\n",
    "    if e == '':\n",
    "        if Lsub: \n",
    "            L6.append(Lsub)\n",
    "        Lsub = [e]\n",
    "    else:\n",
    "        Lsub.append(e)\n",
    "L6.append(Lsub)"
   ]
  },
  {
   "cell_type": "code",
   "execution_count": 61,
   "metadata": {},
   "outputs": [],
   "source": [
    "list_6 = [L6[0]] + [x[1:] for x in L6[1:]]"
   ]
  },
  {
   "cell_type": "code",
   "execution_count": 62,
   "metadata": {},
   "outputs": [
    {
     "data": {
      "text/plain": [
       "[['w', 's', 'q', 's'], ['klfrwivqhc', 'w', 'wgyze', 'anw']]"
      ]
     },
     "execution_count": 62,
     "metadata": {},
     "output_type": "execute_result"
    }
   ],
   "source": [
    "list_6[:2]"
   ]
  },
  {
   "cell_type": "code",
   "execution_count": 63,
   "metadata": {},
   "outputs": [
    {
     "data": {
      "text/plain": [
       "3"
      ]
     },
     "execution_count": 63,
     "metadata": {},
     "output_type": "execute_result"
    }
   ],
   "source": [
    "len(set(list_6[0]))"
   ]
  },
  {
   "cell_type": "code",
   "execution_count": 64,
   "metadata": {},
   "outputs": [],
   "source": [
    "group_sum = 0\n",
    "for group in list_6:\n",
    "    sub_l = []\n",
    "    for el in group:\n",
    "        sub_l.extend([char for char in el])\n",
    "\n",
    "    group_sum += len(set(sub_l))"
   ]
  },
  {
   "cell_type": "code",
   "execution_count": 65,
   "metadata": {},
   "outputs": [
    {
     "data": {
      "text/plain": [
       "6703"
      ]
     },
     "execution_count": 65,
     "metadata": {},
     "output_type": "execute_result"
    }
   ],
   "source": [
    "group_sum"
   ]
  },
  {
   "cell_type": "markdown",
   "metadata": {},
   "source": [
    "### Day 6 - part 2"
   ]
  },
  {
   "cell_type": "code",
   "execution_count": 66,
   "metadata": {},
   "outputs": [
    {
     "data": {
      "text/plain": [
       "[['w', 's', 'q', 's'],\n",
       " ['klfrwivqhc', 'w', 'wgyze', 'anw'],\n",
       " ['khfraeogtbdscw', 'rdofujgnm', 'ydfrgo', 'dgjoqmrf', 'yrfdgzpon']]"
      ]
     },
     "execution_count": 66,
     "metadata": {},
     "output_type": "execute_result"
    }
   ],
   "source": [
    "list_6[:3]"
   ]
  },
  {
   "cell_type": "code",
   "execution_count": 67,
   "metadata": {},
   "outputs": [],
   "source": [
    "tst_lst = [['abc'],['a','b','c'],['ab','ac'], ['a','a','a','a'], ['b']]\n"
   ]
  },
  {
   "cell_type": "code",
   "execution_count": 68,
   "metadata": {},
   "outputs": [],
   "source": [
    "new_group_sum = 0\n",
    "for group in list_6:\n",
    "\n",
    "    sub_l = []\n",
    "    for el in group:\n",
    "        sub_l.extend([char for char in el])\n",
    "        \n",
    "    char_count = [sub_l.count(char) for char in set(sub_l)]\n",
    "    \n",
    "    if max(char_count) == len(group):\n",
    "\n",
    "        new_group_sum += len([x for x in char_count if x == max(char_count)])\n"
   ]
  },
  {
   "cell_type": "code",
   "execution_count": 69,
   "metadata": {},
   "outputs": [
    {
     "data": {
      "text/plain": [
       "3430"
      ]
     },
     "execution_count": 69,
     "metadata": {},
     "output_type": "execute_result"
    }
   ],
   "source": [
    "new_group_sum"
   ]
  },
  {
   "cell_type": "markdown",
   "metadata": {},
   "source": [
    "### Day 7 - part 1"
   ]
  },
  {
   "cell_type": "code",
   "execution_count": 70,
   "metadata": {},
   "outputs": [],
   "source": [
    "text7 = []\n",
    "with open('data/day_7.txt', 'r') as file:\n",
    "    for x in file.readlines():\n",
    "        text7.append(x.split('\\n')[0])"
   ]
  },
  {
   "cell_type": "code",
   "execution_count": 71,
   "metadata": {},
   "outputs": [],
   "source": [
    "dct7 = {rule.split('contain')[0][:-2]: [x[2:] for x in rule.split('contain')[1][1:-1].split(', ')] for rule in text7}"
   ]
  },
  {
   "cell_type": "code",
   "execution_count": 72,
   "metadata": {},
   "outputs": [],
   "source": [
    "# dct7 = ({key:val for key,val in dct7.items() if val != [' other bags']})"
   ]
  },
  {
   "cell_type": "code",
   "execution_count": 73,
   "metadata": {},
   "outputs": [],
   "source": [
    "tst_dct = {\"light red bag\": [\"bright white bag\", \"muted yellow bags\"],\n",
    "\"dark orange bag\": [\"bright white bag\", \"muted yellow bags\"],\n",
    "\"bright white bag\": [\"shiny gold bag\"],\n",
    "\"muted yellow bag\": [\"shiny gold bags\", \"faded blue bags\"],\n",
    "\"shiny gold bag\": [\"dark olive bag\", \"vibrant plum bags\"],\n",
    "\"dark olive bag\": [\"faded blue bags\", \"dotted black bags\"],\n",
    "\"vibrant plum bag\": [\"faded blue bags\", \"dotted black bags\"],\n",
    "\"faded blue bag\": [\" other bags\"],\n",
    "\"dotted black bag\": [\" other bags\"]}"
   ]
  },
  {
   "cell_type": "code",
   "execution_count": 74,
   "metadata": {},
   "outputs": [
    {
     "data": {
      "text/plain": [
       "{'light red bag': ['bright white bag', 'muted yellow bags'],\n",
       " 'dark orange bag': ['bright white bag', 'muted yellow bags'],\n",
       " 'bright white bag': ['shiny gold bag'],\n",
       " 'muted yellow bag': ['shiny gold bags', 'faded blue bags'],\n",
       " 'shiny gold bag': ['dark olive bag', 'vibrant plum bags'],\n",
       " 'dark olive bag': ['faded blue bags', 'dotted black bags'],\n",
       " 'vibrant plum bag': ['faded blue bags', 'dotted black bags'],\n",
       " 'faded blue bag': [' other bags'],\n",
       " 'dotted black bag': [' other bags']}"
      ]
     },
     "execution_count": 74,
     "metadata": {},
     "output_type": "execute_result"
    }
   ],
   "source": [
    "tst_dct"
   ]
  },
  {
   "cell_type": "code",
   "execution_count": 75,
   "metadata": {},
   "outputs": [
    {
     "name": "stdout",
     "output_type": "stream",
     "text": [
      "['shiny gold bag']\n",
      "['shiny gold bags', 'faded blue bags']\n",
      "['shiny gold bag']\n",
      "['shiny gold bags', 'faded blue bags']\n",
      "['dark olive bag', 'vibrant plum bags']\n",
      "['dark olive bag', 'vibrant plum bags']\n",
      "[' other bags']\n",
      "['faded blue bags', 'dotted black bags']\n",
      "['faded blue bags', 'dotted black bags']\n",
      "[' other bags']\n",
      "[' other bags']\n",
      "[' other bags']\n",
      "[' other bags']\n"
     ]
    }
   ],
   "source": [
    "for key,val in tst_dct.items():\n",
    "    for el in tst_dct[key]: \n",
    "        if el[-1] != 's':\n",
    "            print(tst_dct[el])\n",
    "            \n",
    "        elif el == ' other bags':\n",
    "            pass\n",
    "        \n",
    "        else:\n",
    "            print(tst_dct[el[:-1]])"
   ]
  },
  {
   "cell_type": "code",
   "execution_count": 76,
   "metadata": {},
   "outputs": [
    {
     "name": "stdout",
     "output_type": "stream",
     "text": [
      "yes\n"
     ]
    }
   ],
   "source": [
    "if [s for s in ['shiny gold bags', 'faded blue bags'] if 'shiny gold bag' in s ]:\n",
    "    print('yes')"
   ]
  },
  {
   "cell_type": "code",
   "execution_count": 77,
   "metadata": {},
   "outputs": [],
   "source": [
    "count = 0\n",
    "\n",
    "\n",
    "for key,val in tst_dct.items():\n",
    "    for el in tst_dct[key]: \n",
    "        if el[-1] != 's':\n",
    "            if [s for s in tst_dct[el] if 'shiny gold bag' in s ]:\n",
    "                count +=1 \n",
    "                \n",
    "        elif el == ' other bags':\n",
    "            pass\n",
    "        \n",
    "        else:\n",
    "            if [s for s in tst_dct[el[:-1]] if 'shiny gold bag' in s ]:\n",
    "                count +=1 "
   ]
  },
  {
   "cell_type": "code",
   "execution_count": 78,
   "metadata": {},
   "outputs": [
    {
     "data": {
      "text/plain": [
       "4"
      ]
     },
     "execution_count": 78,
     "metadata": {},
     "output_type": "execute_result"
    }
   ],
   "source": [
    "count"
   ]
  },
  {
   "cell_type": "code",
   "execution_count": 79,
   "metadata": {},
   "outputs": [],
   "source": [
    "count = 0"
   ]
  },
  {
   "cell_type": "code",
   "execution_count": 80,
   "metadata": {},
   "outputs": [],
   "source": [
    "key_lst = list(dct7.keys())"
   ]
  },
  {
   "cell_type": "code",
   "execution_count": 81,
   "metadata": {},
   "outputs": [],
   "source": [
    "# for key in key_lst:\n",
    "#     for el in dct7[key]: \n",
    "#         if el[-1] != 's':\n",
    "#             if [s for s in dct7[el] if 'shiny gold bag' in s ]:\n",
    "#                 count +=1 \n",
    "#                 key_lst.remove(key)\n",
    "#         elif el == ' other bags':\n",
    "#             pass\n",
    "        \n",
    "#         else:\n",
    "#             if [s for s in dct7[el[:-1]] if 'shiny gold bag' in s ]:\n",
    "#                 count +=1 \n",
    "#                 key_lst.remove(key)\n",
    "                         \n",
    "# count"
   ]
  },
  {
   "cell_type": "code",
   "execution_count": 82,
   "metadata": {},
   "outputs": [
    {
     "data": {
      "text/plain": [
       "8"
      ]
     },
     "execution_count": 82,
     "metadata": {},
     "output_type": "execute_result"
    }
   ],
   "source": [
    "count = 0\n",
    "key_lv1 = []\n",
    "for key, value in dct7.items():\n",
    "    if [s for s in value if 'shiny gold bag' in s ]:\n",
    "        key_lv1.append(key)\n",
    "count += len(key_lv1)\n",
    "count"
   ]
  },
  {
   "cell_type": "code",
   "execution_count": 83,
   "metadata": {},
   "outputs": [
    {
     "data": {
      "text/plain": [
       "['faded aqua bag',\n",
       " 'light lime bag',\n",
       " 'pale orange bag',\n",
       " 'dark lime bag',\n",
       " 'drab fuchsia bag',\n",
       " 'dotted blue bag',\n",
       " 'posh gold bag',\n",
       " 'dim fuchsia bag']"
      ]
     },
     "execution_count": 83,
     "metadata": {},
     "output_type": "execute_result"
    }
   ],
   "source": [
    "key_lv1"
   ]
  },
  {
   "cell_type": "code",
   "execution_count": 84,
   "metadata": {},
   "outputs": [
    {
     "data": {
      "text/plain": [
       "355"
      ]
     },
     "execution_count": 84,
     "metadata": {},
     "output_type": "execute_result"
    }
   ],
   "source": [
    "count = []\n",
    "lv0 = ['shiny gold bag']\n",
    "key_lv1 = [1]\n",
    "\n",
    "while len(key_lv1) >0:\n",
    "    key_lv1 = []\n",
    "    for bag in lv0:\n",
    "        for key, value in dct7.items():\n",
    "            if [s for s in value if bag in s ]:\n",
    "                key_lv1.append(key)\n",
    "    key_lv1 = set(key_lv1)\n",
    "    count.extend(key_lv1)\n",
    "    lv0 = key_lv1\n",
    "    \n",
    "len(set(count))"
   ]
  },
  {
   "cell_type": "markdown",
   "metadata": {},
   "source": [
    "### Day 7 - part 2"
   ]
  },
  {
   "cell_type": "code",
   "execution_count": 85,
   "metadata": {},
   "outputs": [
    {
     "data": {
      "text/plain": [
       "'vibrant purple'"
      ]
     },
     "execution_count": 85,
     "metadata": {},
     "output_type": "execute_result"
    }
   ],
   "source": [
    "' '.join('vibrant purple bag'.split(' ')[:2])"
   ]
  },
  {
   "cell_type": "code",
   "execution_count": 86,
   "metadata": {},
   "outputs": [],
   "source": [
    "dct_other = ({key[:-4]:0 for key,val in dct7.items() if val == [' other bags']})"
   ]
  },
  {
   "cell_type": "code",
   "execution_count": 87,
   "metadata": {},
   "outputs": [
    {
     "data": {
      "text/plain": [
       "{'light gold': 0,\n",
       " 'striped violet': 0,\n",
       " 'striped green': 0,\n",
       " 'muted gray': 0,\n",
       " 'clear magenta': 0,\n",
       " 'pale cyan': 0,\n",
       " 'mirrored teal': 0,\n",
       " 'mirrored turquoise': 0,\n",
       " 'clear bronze': 0,\n",
       " 'dark silver': 0}"
      ]
     },
     "execution_count": 87,
     "metadata": {},
     "output_type": "execute_result"
    }
   ],
   "source": [
    "dct_other"
   ]
  },
  {
   "cell_type": "code",
   "execution_count": 88,
   "metadata": {},
   "outputs": [
    {
     "data": {
      "text/plain": [
       "True"
      ]
     },
     "execution_count": 88,
     "metadata": {},
     "output_type": "execute_result"
    }
   ],
   "source": [
    "dct_other['light gold'] is 0"
   ]
  },
  {
   "cell_type": "code",
   "execution_count": 89,
   "metadata": {},
   "outputs": [
    {
     "data": {
      "text/plain": [
       "{'dark brown': 5, 'dotted coral': 2, 'mirrored turquoise': 5}"
      ]
     },
     "execution_count": 89,
     "metadata": {},
     "output_type": "execute_result"
    }
   ],
   "source": [
    "{' '.join(x[2:].split(' ')[:2]):int(x[0]) for x in text7[0].split('contain ')[1].split(', ')}"
   ]
  },
  {
   "cell_type": "code",
   "execution_count": 90,
   "metadata": {},
   "outputs": [],
   "source": [
    "dct_count = {rule.split(' bags contain')[0]: {' '.join(x[2:].split(' ')[:2]):int(x[0]) for x in rule.split('contain ')[1].split(', ')} for rule in text7 if not 'no other bags' in rule}"
   ]
  },
  {
   "cell_type": "code",
   "execution_count": 91,
   "metadata": {},
   "outputs": [],
   "source": [
    "dct_count.update(dct_other)"
   ]
  },
  {
   "cell_type": "code",
   "execution_count": 92,
   "metadata": {},
   "outputs": [
    {
     "data": {
      "text/plain": [
       "594"
      ]
     },
     "execution_count": 92,
     "metadata": {},
     "output_type": "execute_result"
    }
   ],
   "source": [
    "len(dct_count)"
   ]
  },
  {
   "cell_type": "code",
   "execution_count": 93,
   "metadata": {},
   "outputs": [
    {
     "data": {
      "text/plain": [
       "{'clear magenta': 4,\n",
       " 'mirrored turquoise': 3,\n",
       " 'plaid maroon': 2,\n",
       " 'bright crimson': 5}"
      ]
     },
     "execution_count": 93,
     "metadata": {},
     "output_type": "execute_result"
    }
   ],
   "source": [
    "dct_count['shiny gold']"
   ]
  },
  {
   "cell_type": "code",
   "execution_count": 94,
   "metadata": {},
   "outputs": [],
   "source": [
    "bags = dct_count"
   ]
  },
  {
   "cell_type": "code",
   "execution_count": 95,
   "metadata": {},
   "outputs": [],
   "source": [
    "def solve(color):\n",
    "    root = bags[color]\n",
    "    if root is 0:\n",
    "        return 0\n",
    "    else:\n",
    "        return sum([root[key]*solve(key) + root[key] for key in root])"
   ]
  },
  {
   "cell_type": "code",
   "execution_count": 96,
   "metadata": {},
   "outputs": [
    {
     "data": {
      "text/plain": [
       "5312"
      ]
     },
     "execution_count": 96,
     "metadata": {},
     "output_type": "execute_result"
    }
   ],
   "source": [
    "solve('shiny gold')"
   ]
  },
  {
   "cell_type": "code",
   "execution_count": null,
   "metadata": {},
   "outputs": [],
   "source": []
  },
  {
   "cell_type": "markdown",
   "metadata": {},
   "source": [
    "### Day 8 - part 1"
   ]
  },
  {
   "cell_type": "code",
   "execution_count": 97,
   "metadata": {},
   "outputs": [],
   "source": [
    "text8 = []\n",
    "with open('data/day_8.txt', 'r') as file:\n",
    "    for x in file.readlines():\n",
    "        text8.append(x.split('\\n')[0].split(' '))"
   ]
  },
  {
   "cell_type": "code",
   "execution_count": 98,
   "metadata": {},
   "outputs": [],
   "source": [
    "text8 = [(x[0], int(x[1])) for x in text8]"
   ]
  },
  {
   "cell_type": "code",
   "execution_count": 99,
   "metadata": {},
   "outputs": [
    {
     "data": {
      "text/plain": [
       "('jmp', 1)"
      ]
     },
     "execution_count": 99,
     "metadata": {},
     "output_type": "execute_result"
    }
   ],
   "source": [
    "text8[-1]"
   ]
  },
  {
   "cell_type": "code",
   "execution_count": 100,
   "metadata": {},
   "outputs": [],
   "source": [
    "from collections import Counter"
   ]
  },
  {
   "cell_type": "code",
   "execution_count": 101,
   "metadata": {},
   "outputs": [
    {
     "data": {
      "text/plain": [
       "21"
      ]
     },
     "execution_count": 101,
     "metadata": {},
     "output_type": "execute_result"
    }
   ],
   "source": [
    "Counter(text8).most_common(1)[0][1]"
   ]
  },
  {
   "cell_type": "code",
   "execution_count": 102,
   "metadata": {},
   "outputs": [],
   "source": [
    "accumulator = 0"
   ]
  },
  {
   "cell_type": "code",
   "execution_count": 103,
   "metadata": {},
   "outputs": [],
   "source": [
    "def operator(rule_lst, location, accumulator = 0, loc_lst = []):\n",
    "#     print(\"acc\", accumulator)\n",
    "#     print(\"loc_count\", loc_lst)\n",
    "#     print(\"\\n\")\n",
    "    \n",
    "#     if loc_lst.count(location) >1:\n",
    "#         print(accumulator)\n",
    "#         return accumulator\n",
    "\n",
    "    acc_pre = accumulator\n",
    "    \n",
    "    if rule_lst[location][0] == 'acc':\n",
    "        \n",
    "        accumulator += rule_lst[location][1]\n",
    "        if location in loc_lst:\n",
    "            print(\"acc\", acc_pre)\n",
    "            return accumulator\n",
    "        else:  \n",
    "            loc_lst.append(location)\n",
    "        operator(rule_lst, location+1, accumulator, loc_lst)\n",
    "    \n",
    "    if rule_lst[location][0] == 'jmp':\n",
    "        \n",
    "        if location in loc_lst:\n",
    "            print(\"acc\", acc_pre)\n",
    "            return accumulator\n",
    "        else:  \n",
    "            loc_lst.append(location)\n",
    "            \n",
    "        operator(rule_lst, location + rule_lst[location][1], accumulator, loc_lst)\n",
    "        \n",
    "    if rule_lst[location][0] == 'nop':\n",
    "        \n",
    "        if location in loc_lst:\n",
    "            print(\"acc\", acc_pre)\n",
    "            return accumulator\n",
    "        else:  \n",
    "            loc_lst.append(location)\n",
    "            \n",
    "        operator(rule_lst, location+1, accumulator, loc_lst)"
   ]
  },
  {
   "cell_type": "code",
   "execution_count": 104,
   "metadata": {},
   "outputs": [
    {
     "name": "stdout",
     "output_type": "stream",
     "text": [
      "acc 1487\n"
     ]
    }
   ],
   "source": [
    "operator(text8, 0)"
   ]
  },
  {
   "cell_type": "markdown",
   "metadata": {},
   "source": [
    "### Day 8 - part 2"
   ]
  },
  {
   "cell_type": "code",
   "execution_count": 105,
   "metadata": {},
   "outputs": [],
   "source": [
    "test8 = [(\"nop\", 0),\n",
    "(\"acc\", 1),\n",
    "(\"jmp\", 4),\n",
    "(\"acc\", 3),\n",
    "(\"jmp\", -3),\n",
    "(\"acc\", -99),\n",
    "(\"acc\", 1),\n",
    "('jmp', -4),\n",
    "(\"acc\", 6)]"
   ]
  },
  {
   "cell_type": "code",
   "execution_count": 106,
   "metadata": {},
   "outputs": [
    {
     "data": {
      "text/plain": [
       "[('nop', 0),\n",
       " ('acc', 1),\n",
       " ('jmp', 4),\n",
       " ('acc', 3),\n",
       " ('jmp', -3),\n",
       " ('acc', -99),\n",
       " ('acc', 1),\n",
       " ('jmp', -4),\n",
       " ('acc', 6)]"
      ]
     },
     "execution_count": 106,
     "metadata": {},
     "output_type": "execute_result"
    }
   ],
   "source": [
    "test8"
   ]
  },
  {
   "cell_type": "code",
   "execution_count": 107,
   "metadata": {},
   "outputs": [
    {
     "data": {
      "text/plain": [
       "[('nop', 0),\n",
       " ('acc', 1),\n",
       " ('jmp', 4),\n",
       " ('acc', 3),\n",
       " ('test', -3),\n",
       " ('acc', -99),\n",
       " ('acc', 1),\n",
       " ('jmp', -4),\n",
       " ('acc', 6)]"
      ]
     },
     "execution_count": 107,
     "metadata": {},
     "output_type": "execute_result"
    }
   ],
   "source": [
    "new_test = list(test8)\n",
    "new_test[4] = ('test', test8[4][1])\n",
    "new_test"
   ]
  },
  {
   "cell_type": "code",
   "execution_count": 108,
   "metadata": {},
   "outputs": [],
   "source": [
    "\n",
    "for i in range(len(test8)):\n",
    "    \n",
    "    if test8[i][0] == 'jmp':\n",
    "        \n",
    "        new = list(test8)\n",
    "        new[i] = ('nop', test8[i][1])\n",
    "\n",
    "        \n",
    "    \n",
    "    elif test8[i][0] == 'nop':\n",
    "        \n",
    "        if test8[i][1] == 0:\n",
    "            pass\n",
    "        \n",
    "        else:\n",
    "            new = list(test8)\n",
    "            new[i] = ('jmp', test8[i][1])\n",
    "            "
   ]
  },
  {
   "cell_type": "code",
   "execution_count": 109,
   "metadata": {},
   "outputs": [
    {
     "data": {
      "text/plain": [
       "[('nop', 0),\n",
       " ('acc', 1),\n",
       " ('jmp', 4),\n",
       " ('acc', 3),\n",
       " ('jmp', -3),\n",
       " ('acc', -99),\n",
       " ('acc', 1),\n",
       " ('nop', -4),\n",
       " ('acc', 6)]"
      ]
     },
     "execution_count": 109,
     "metadata": {},
     "output_type": "execute_result"
    }
   ],
   "source": [
    "new"
   ]
  },
  {
   "cell_type": "markdown",
   "metadata": {},
   "source": [
    "Need to count up to the length of the rule set"
   ]
  },
  {
   "cell_type": "code",
   "execution_count": 110,
   "metadata": {},
   "outputs": [],
   "source": [
    "def operator_two(rule_lst, location, accumulator = 0, counter = 1):\n",
    "    \n",
    "    max_depth = len(rule_lst)\n",
    "    \n",
    "    if location+1 > max_depth:\n",
    "        print(accumulator)\n",
    "        return \n",
    "    \n",
    "    \n",
    "    if rule_lst[location][0] == 'acc':\n",
    "        \n",
    "        accumulator += rule_lst[location][1]\n",
    "        counter += 1\n",
    "        \n",
    "        if counter > max_depth :\n",
    "#             print(\"too deep!\")\n",
    "            return \n",
    "\n",
    "        operator_two(rule_lst, location+1, accumulator, counter)\n",
    "    \n",
    "    if rule_lst[location][0] == 'jmp':\n",
    "        \n",
    "        counter += 1\n",
    "        \n",
    "        if counter > max_depth:\n",
    "#             print(\"too deep!\")\n",
    "            return \n",
    "\n",
    "            \n",
    "        operator_two(rule_lst, location + rule_lst[location][1], accumulator, counter)\n",
    "        \n",
    "    if rule_lst[location][0] == 'nop':\n",
    "        \n",
    "        counter += 1\n",
    "        \n",
    "        if counter > max_depth:\n",
    "#             print(\"too deep!\")\n",
    "            return \n",
    "\n",
    "            \n",
    "        operator_two(rule_lst, location+1, accumulator, counter)"
   ]
  },
  {
   "cell_type": "code",
   "execution_count": 111,
   "metadata": {},
   "outputs": [
    {
     "name": "stdout",
     "output_type": "stream",
     "text": [
      "8\n"
     ]
    }
   ],
   "source": [
    "operator_two(new, 0)"
   ]
  },
  {
   "cell_type": "code",
   "execution_count": 112,
   "metadata": {},
   "outputs": [
    {
     "name": "stdout",
     "output_type": "stream",
     "text": [
      "8\n"
     ]
    }
   ],
   "source": [
    "for i in range(len(test8)):\n",
    "    \n",
    "    if test8[i][0] == 'jmp':\n",
    "        \n",
    "        new = list(test8)\n",
    "        new[i] = ('nop', test8[i][1])\n",
    "        operator_two(new,0)\n",
    "        \n",
    "    \n",
    "    elif test8[i][0] == 'nop':\n",
    "        \n",
    "        if test8[i][1] == 0:\n",
    "            pass\n",
    "        \n",
    "        else:\n",
    "            new = list(test8)\n",
    "            new[i] = ('jmp', test8[i][1])\n",
    "            operator_two(new, 0)"
   ]
  },
  {
   "cell_type": "code",
   "execution_count": 113,
   "metadata": {},
   "outputs": [
    {
     "name": "stdout",
     "output_type": "stream",
     "text": [
      "1607\n"
     ]
    }
   ],
   "source": [
    "for i in range(len(text8)):\n",
    "    \n",
    "    if text8[i][0] == 'jmp':\n",
    "        \n",
    "        new = list(text8)\n",
    "        new[i] = ('nop', text8[i][1])\n",
    "        operator_two(new,0)\n",
    "        \n",
    "    \n",
    "    elif text8[i][0] == 'nop':\n",
    "        \n",
    "        if text8[i][1] == 0:\n",
    "            pass\n",
    "        \n",
    "        else:\n",
    "            new = list(text8)\n",
    "            new[i] = ('jmp', text8[i][1])\n",
    "            operator_two(new, 0)"
   ]
  },
  {
   "cell_type": "markdown",
   "metadata": {},
   "source": [
    "### Day 9 - part 1"
   ]
  },
  {
   "cell_type": "code",
   "execution_count": 114,
   "metadata": {},
   "outputs": [],
   "source": [
    "text9 = []\n",
    "with open('data/day_9.txt', 'r') as file:\n",
    "    for x in file.readlines():\n",
    "        text9.append(int(x.split('\\n')[0].split(' ')[0]))"
   ]
  },
  {
   "cell_type": "code",
   "execution_count": 115,
   "metadata": {},
   "outputs": [
    {
     "data": {
      "text/plain": [
       "60251067993757"
      ]
     },
     "execution_count": 115,
     "metadata": {},
     "output_type": "execute_result"
    }
   ],
   "source": [
    "text9[-1]"
   ]
  },
  {
   "cell_type": "code",
   "execution_count": 116,
   "metadata": {},
   "outputs": [
    {
     "data": {
      "text/plain": [
       "True"
      ]
     },
     "execution_count": 116,
     "metadata": {},
     "output_type": "execute_result"
    }
   ],
   "source": [
    "82 in set([x+y for x in text9[:25] for y in text9[:25] if x!=y])"
   ]
  },
  {
   "cell_type": "code",
   "execution_count": 117,
   "metadata": {},
   "outputs": [
    {
     "name": "stdout",
     "output_type": "stream",
     "text": [
      "69316178\n"
     ]
    }
   ],
   "source": [
    "for i in range(25, len(text9)):\n",
    "    if text9[i] not in set([x+y for x in text9[i-25:i] for y in text9[i-25:i] if x!=y]):\n",
    "        print(text9[i])"
   ]
  },
  {
   "cell_type": "markdown",
   "metadata": {},
   "source": [
    "### Day 9 - part 2"
   ]
  },
  {
   "cell_type": "code",
   "execution_count": 118,
   "metadata": {},
   "outputs": [],
   "source": [
    "target = 69316178"
   ]
  },
  {
   "cell_type": "code",
   "execution_count": 119,
   "metadata": {},
   "outputs": [],
   "source": [
    "test = [35, 20, 15, 25, 47, 40, 62, 55, 65, 95, 102, 117, 150, 182, 127, 219, 299, 277, 309, 576]"
   ]
  },
  {
   "cell_type": "code",
   "execution_count": 120,
   "metadata": {},
   "outputs": [],
   "source": [
    "test_tar = 127"
   ]
  },
  {
   "cell_type": "code",
   "execution_count": 121,
   "metadata": {},
   "outputs": [],
   "source": [
    "setln =2"
   ]
  },
  {
   "cell_type": "code",
   "execution_count": 122,
   "metadata": {},
   "outputs": [
    {
     "data": {
      "text/plain": [
       "[[35, 20],\n",
       " [20, 15],\n",
       " [15, 25],\n",
       " [25, 47],\n",
       " [47, 40],\n",
       " [40, 62],\n",
       " [62, 55],\n",
       " [55, 65],\n",
       " [65, 95],\n",
       " [95, 102],\n",
       " [102, 117],\n",
       " [117, 150],\n",
       " [150, 182],\n",
       " [182, 127],\n",
       " [127, 219],\n",
       " [219, 299],\n",
       " [299, 277],\n",
       " [277, 309],\n",
       " [309, 576],\n",
       " [576]]"
      ]
     },
     "execution_count": 122,
     "metadata": {},
     "output_type": "execute_result"
    }
   ],
   "source": [
    "[test[i:i+setln] for i in range(len(test))]"
   ]
  },
  {
   "cell_type": "code",
   "execution_count": 123,
   "metadata": {},
   "outputs": [
    {
     "name": "stdout",
     "output_type": "stream",
     "text": [
      "[3205921, 2845855, 2834836, 3083482, 3881565, 3840097, 4254961, 3652975, 3613632, 6516690, 4237730, 6045330, 3830685, 3832810, 4303716, 4114745, 5221148]\n"
     ]
    }
   ],
   "source": [
    "contig_set = []\n",
    "set_len = 1\n",
    "\n",
    "while sum(contig_set) != target:\n",
    "    set_len +=1\n",
    "    sub_set = [text9[i:i+set_len] for i in range(len(text9))]\n",
    "    \n",
    "    for st in sub_set:\n",
    "        if sum(st) == target:\n",
    "            print(st)\n",
    "            contig_set = st"
   ]
  },
  {
   "cell_type": "code",
   "execution_count": 124,
   "metadata": {},
   "outputs": [
    {
     "data": {
      "text/plain": [
       "9351526"
      ]
     },
     "execution_count": 124,
     "metadata": {},
     "output_type": "execute_result"
    }
   ],
   "source": [
    "min(contig_set) + max(contig_set)"
   ]
  },
  {
   "cell_type": "code",
   "execution_count": null,
   "metadata": {},
   "outputs": [],
   "source": []
  },
  {
   "cell_type": "markdown",
   "metadata": {},
   "source": [
    "### Day 10 - part 1"
   ]
  },
  {
   "cell_type": "code",
   "execution_count": 125,
   "metadata": {},
   "outputs": [],
   "source": [
    "text10 = []\n",
    "with open('data/day_10.txt', 'r') as file:\n",
    "    for x in file.readlines():\n",
    "        text10.append(int(x.split('\\n')[0].split(' ')[0]))"
   ]
  },
  {
   "cell_type": "code",
   "execution_count": 126,
   "metadata": {},
   "outputs": [],
   "source": [
    "text10.sort()"
   ]
  },
  {
   "cell_type": "code",
   "execution_count": 127,
   "metadata": {},
   "outputs": [
    {
     "data": {
      "text/plain": [
       "Counter({1: 72, 3: 30})"
      ]
     },
     "execution_count": 127,
     "metadata": {},
     "output_type": "execute_result"
    }
   ],
   "source": [
    "Counter([text10[i+1]- text10[i] for i in range(len(text10)-1)])"
   ]
  },
  {
   "cell_type": "code",
   "execution_count": 128,
   "metadata": {},
   "outputs": [
    {
     "data": {
      "text/plain": [
       "2263"
      ]
     },
     "execution_count": 128,
     "metadata": {},
     "output_type": "execute_result"
    }
   ],
   "source": [
    "# 72+1 (for 0- 1) * 30+1 (for last to last +3)\n",
    "\n",
    "73*31"
   ]
  },
  {
   "cell_type": "code",
   "execution_count": null,
   "metadata": {},
   "outputs": [],
   "source": []
  },
  {
   "cell_type": "markdown",
   "metadata": {},
   "source": [
    "### Day 10 - part 2"
   ]
  },
  {
   "cell_type": "code",
   "execution_count": 129,
   "metadata": {},
   "outputs": [],
   "source": [
    "test = [16,10,15,5,1,11,7,19,6,12,4]\n",
    "test.sort()"
   ]
  },
  {
   "cell_type": "code",
   "execution_count": 130,
   "metadata": {},
   "outputs": [
    {
     "data": {
      "text/plain": [
       "[1, 4, 5, 6, 7, 10, 11, 12, 15, 16, 19]"
      ]
     },
     "execution_count": 130,
     "metadata": {},
     "output_type": "execute_result"
    }
   ],
   "source": [
    "test"
   ]
  },
  {
   "cell_type": "code",
   "execution_count": 131,
   "metadata": {},
   "outputs": [],
   "source": [
    "import itertools"
   ]
  },
  {
   "cell_type": "code",
   "execution_count": 132,
   "metadata": {},
   "outputs": [
    {
     "data": {
      "text/plain": [
       "6"
      ]
     },
     "execution_count": 132,
     "metadata": {},
     "output_type": "execute_result"
    }
   ],
   "source": [
    "# min length is final/3 so 7 \n",
    "max(test)//3"
   ]
  },
  {
   "cell_type": "code",
   "execution_count": 133,
   "metadata": {},
   "outputs": [
    {
     "name": "stdout",
     "output_type": "stream",
     "text": [
      "(1, 4, 7, 10, 12, 15, 16, 19)\n",
      "(1, 4, 5, 7, 10, 12, 15, 16, 19)\n",
      "(1, 4, 6, 7, 10, 12, 15, 16, 19)\n",
      "(1, 4, 7, 10, 11, 12, 15, 16, 19)\n",
      "(1, 4, 5, 6, 7, 10, 12, 15, 16, 19)\n",
      "(1, 4, 5, 7, 10, 11, 12, 15, 16, 19)\n",
      "(1, 4, 6, 7, 10, 11, 12, 15, 16, 19)\n",
      "(1, 4, 5, 6, 7, 10, 11, 12, 15, 16, 19)\n"
     ]
    }
   ],
   "source": [
    "counter = 0\n",
    "set_lst = []\n",
    "for i in range(max(test)//3 + 1, len(test)+1):\n",
    "    set_lst.extend(set(itertools.combinations(test, i)))\n",
    "\n",
    "for st in set_lst:\n",
    "    if st[0] == 1 and st[-1] == 19:\n",
    "        if all(1 <= x <= 3 for x in [st[i+1]- st[i] for i in range(len(st)-1)]):\n",
    "            print(st)\n",
    "            counter += 1"
   ]
  },
  {
   "cell_type": "code",
   "execution_count": 134,
   "metadata": {},
   "outputs": [
    {
     "data": {
      "text/plain": [
       "8"
      ]
     },
     "execution_count": 134,
     "metadata": {},
     "output_type": "execute_result"
    }
   ],
   "source": [
    "counter"
   ]
  },
  {
   "cell_type": "code",
   "execution_count": null,
   "metadata": {},
   "outputs": [],
   "source": []
  },
  {
   "cell_type": "code",
   "execution_count": 135,
   "metadata": {},
   "outputs": [
    {
     "data": {
      "text/plain": [
       "[3, 1, 1, 1, 3, 1, 1, 3, 1, 3]"
      ]
     },
     "execution_count": 135,
     "metadata": {},
     "output_type": "execute_result"
    }
   ],
   "source": [
    "test_diff = [test[i+1]- test[i] for i in range(len(test)-1)]\n",
    "test_diff"
   ]
  },
  {
   "cell_type": "code",
   "execution_count": 136,
   "metadata": {},
   "outputs": [
    {
     "data": {
      "text/plain": [
       "[3, 1, 3, 1, 3, 1, 3]"
      ]
     },
     "execution_count": 136,
     "metadata": {},
     "output_type": "execute_result"
    }
   ],
   "source": [
    "[x[0] for x in itertools.groupby(test_diff)]"
   ]
  },
  {
   "cell_type": "code",
   "execution_count": 137,
   "metadata": {},
   "outputs": [
    {
     "data": {
      "text/plain": [
       "[(1, 3), (1, 2)]"
      ]
     },
     "execution_count": 137,
     "metadata": {},
     "output_type": "execute_result"
    }
   ],
   "source": [
    "count_dups = [(_, sum(1 for _ in group)) for _, group in itertools.groupby(test_diff)]\n",
    "[x for x in count_dups if (x[0] == 1) and (x[1] != 1)]"
   ]
  },
  {
   "cell_type": "code",
   "execution_count": 138,
   "metadata": {},
   "outputs": [],
   "source": [
    "# 11 is 2 perms 11, 2\n",
    "# 111 is 4 111, 12, 21, 3\n",
    "# 1111 is 7 1111, 13, 31, 112, 121, 211, 22, \n",
    "# 2*4 = 8"
   ]
  },
  {
   "cell_type": "code",
   "execution_count": 139,
   "metadata": {},
   "outputs": [],
   "source": [
    "text10\n",
    "text_diff = [1] + [text10[i+1]- text10[i] for i in range(len(text10)-1)]\n",
    "count_dups = [(_, sum(1 for _ in group)) for _, group in itertools.groupby(text_diff)]\n",
    "\n",
    "ones = [x for x in count_dups if (x[0] == 1) and (x[1] != 1)]"
   ]
  },
  {
   "cell_type": "code",
   "execution_count": 140,
   "metadata": {},
   "outputs": [],
   "source": [
    "prod = 1"
   ]
  },
  {
   "cell_type": "code",
   "execution_count": 141,
   "metadata": {},
   "outputs": [],
   "source": [
    "for pair in ones:\n",
    "    if pair[1] == 2:\n",
    "        prod *= 2\n",
    "    if pair[1] == 3:\n",
    "        prod *= 4\n",
    "    if pair[1] == 4:\n",
    "        prod *= 7\n",
    "        "
   ]
  },
  {
   "cell_type": "code",
   "execution_count": 142,
   "metadata": {},
   "outputs": [
    {
     "data": {
      "text/plain": [
       "396857386627072"
      ]
     },
     "execution_count": 142,
     "metadata": {},
     "output_type": "execute_result"
    }
   ],
   "source": [
    "prod"
   ]
  },
  {
   "cell_type": "code",
   "execution_count": null,
   "metadata": {},
   "outputs": [],
   "source": []
  },
  {
   "cell_type": "code",
   "execution_count": null,
   "metadata": {},
   "outputs": [],
   "source": []
  },
  {
   "cell_type": "markdown",
   "metadata": {},
   "source": [
    "### Day 11 - part 1"
   ]
  },
  {
   "cell_type": "code",
   "execution_count": 143,
   "metadata": {},
   "outputs": [],
   "source": [
    "text11 = []\n",
    "with open('data/day_11.txt', 'r') as file:\n",
    "    for x in file.readlines():\n",
    "        text11.append(x.split('\\n')[0])\n"
   ]
  },
  {
   "cell_type": "code",
   "execution_count": 144,
   "metadata": {},
   "outputs": [
    {
     "data": {
      "text/plain": [
       "'LLLLL.LLLLLL.LLLLLLLLLLLLLLL.LLLLL.LLLLLLLLLLL.LLLLLLLLLLLLL.LLLLLLLLLLLL.L.L..LLLLLLLLLLLLLLLL'"
      ]
     },
     "execution_count": 144,
     "metadata": {},
     "output_type": "execute_result"
    }
   ],
   "source": [
    "text11[-1]"
   ]
  },
  {
   "cell_type": "markdown",
   "metadata": {},
   "source": [
    "set up arrary of num of neighbours\n",
    "update seats wrt to array\n",
    "create new neighbours arrary, stop if new equals old\n"
   ]
  },
  {
   "cell_type": "code",
   "execution_count": 145,
   "metadata": {},
   "outputs": [],
   "source": [
    "test_seats = [\"L.LL.LL.LL\",\n",
    "              \"LLLLLLL.LL\",\n",
    "              \"L.L.L..L..\",\n",
    "              \"LLLL.LL.LL\",\n",
    "              \"L.LL.LL.LL\",\n",
    "              \"L.LLLLL.LL\",\n",
    "              \"..L.L.....\",\n",
    "              \"LLLLLLLLLL\",\n",
    "              \"L.LLLLLL.L\",\n",
    "              \"L.LLLLL.LL\"]"
   ]
  },
  {
   "cell_type": "markdown",
   "metadata": {},
   "source": [
    "create edge cases\n",
    "\n",
    "i = 0 top row only count below\n",
    "corners become occupied then never change, can always assume the adjacent count = 0 (even though it's 3 max)\n",
    "\n",
    "(Implemented with proper boundary conditions in part 2!)"
   ]
  },
  {
   "cell_type": "code",
   "execution_count": 146,
   "metadata": {},
   "outputs": [],
   "source": [
    "# Middle count\n",
    "neig_grid = []\n",
    "\n",
    "for i in range(1,len(test_seats)-1):\n",
    "    neigh_row = []\n",
    "    for j in range(1,len(test_seats[0])-1):\n",
    "        neighbours = sum([1 for h in range(-1,2) for w in range(-1,2) if \n",
    "                          (not(h==0 and w==0) and test_seats[i+h][j+w] == 'L')])\n",
    "        neigh_row.append(neighbours)\n",
    "    neig_grid.append(neigh_row)\n",
    "\n",
    "\n",
    "# left side\n",
    "\n",
    "for i in range(1, len(test_seats[0])-1): \n",
    "    \n",
    "    neighbours = sum([1 for h in range(-1,2) for w in range(0,2) if (not(h==0 and w==0) and test_seats[i+h][w] == 'L')])\n",
    "    \n",
    "    neig_grid[i-1] = [neighbours] + neig_grid[i-1]\n",
    "    \n",
    "# right side\n",
    "\n",
    "for i in range(1, len(test_seats[0])-1): \n",
    "    \n",
    "    neighbours = sum([1 for h in range(-1,2) for w in range(-2,0) if (not(h==0 and w==-1) and test_seats[i+h][w] == 'L')])\n",
    "    \n",
    "    neig_grid[i-1] = neig_grid[i-1] + [neighbours]\n",
    "\n",
    "\n",
    "# top row\n",
    "\n",
    "top_row =[]\n",
    "for j in range(1, len(test_seats[0])-1):    \n",
    "    neighbours = sum([1 for h in range(0,2) for w in range(-1,2) if (not(h==0 and w==0) and test_seats[h][j+w] == 'L')])\n",
    "    top_row.append(neighbours)\n",
    "\n",
    "\n",
    "top_row = [0] + top_row +[0]\n",
    "neig_grid = [top_row] + neig_grid\n",
    "\n",
    "# bottom row\n",
    "\n",
    "btm_row =[]\n",
    "for j in range(1, len(test_seats[0])-1): \n",
    "    \n",
    "    neighbours = sum([1 for h in range(-2,0) for w in range(-1,2) if (not(h==-1 and w==0) and test_seats[h][j+w] == 'L')])\n",
    "    btm_row.append(neighbours)\n",
    "\n",
    "\n",
    "btm_row = [0] + btm_row +[0]\n",
    "neig_grid = neig_grid + [btm_row]"
   ]
  },
  {
   "cell_type": "code",
   "execution_count": 147,
   "metadata": {},
   "outputs": [
    {
     "data": {
      "text/plain": [
       "[[0, 5, 4, 4, 5, 4, 3, 4, 3, 0],\n",
       " [3, 6, 5, 6, 5, 5, 4, 5, 4, 3],\n",
       " [4, 8, 6, 7, 5, 6, 5, 4, 5, 4],\n",
       " [3, 6, 5, 5, 5, 4, 4, 5, 4, 3],\n",
       " [3, 7, 6, 6, 7, 6, 5, 6, 5, 5],\n",
       " [1, 5, 4, 6, 5, 5, 3, 4, 3, 3],\n",
       " [3, 6, 5, 8, 6, 7, 5, 5, 5, 4],\n",
       " [2, 5, 5, 7, 6, 6, 5, 4, 4, 2],\n",
       " [3, 7, 6, 8, 8, 8, 7, 6, 7, 4],\n",
       " [0, 4, 3, 5, 5, 5, 4, 4, 3, 0]]"
      ]
     },
     "execution_count": 147,
     "metadata": {},
     "output_type": "execute_result"
    }
   ],
   "source": [
    "neig_grid"
   ]
  },
  {
   "cell_type": "code",
   "execution_count": 148,
   "metadata": {},
   "outputs": [],
   "source": [
    "def neigh_counter(seats):\n",
    "    # Middle count\n",
    "    neig_grid = []\n",
    "\n",
    "    for i in range(1,len(seats)-1):\n",
    "        neigh_row = []\n",
    "        for j in range(1,len(seats[0])-1):\n",
    "            neighbours = sum([1 for h in range(-1,2) for w in range(-1,2) if \n",
    "                              (not(h==0 and w==0) and seats[i+h][j+w] == '#')])\n",
    "            neigh_row.append(neighbours)\n",
    "        neig_grid.append(neigh_row)\n",
    "\n",
    "\n",
    "    # left side\n",
    "\n",
    "    for i in range(1, len(seats)-1): \n",
    "\n",
    "        neighbours = sum([1 for h in range(-1,2) for w in range(0,2) if (not(h==0 and w==0) and seats[i+h][w] == '#')])\n",
    "\n",
    "        neig_grid[i-1] = [neighbours] + neig_grid[i-1]\n",
    "\n",
    "    # right side\n",
    "\n",
    "    for i in range(1, len(seats)-1): \n",
    "\n",
    "        neighbours = sum([1 for h in range(-1,2) for w in range(-2,0) if (not(h==0 and w==-1) and seats[i+h][w] == '#')])\n",
    "\n",
    "        neig_grid[i-1] = neig_grid[i-1] + [neighbours]\n",
    "\n",
    "\n",
    "    # top row\n",
    "\n",
    "    top_row =[]\n",
    "    for j in range(1, len(seats[0])-1):    \n",
    "        neighbours = sum([1 for h in range(0,2) for w in range(-1,2) if (not(h==0 and w==0) and seats[h][j+w] == '#')])\n",
    "        top_row.append(neighbours)\n",
    "\n",
    "\n",
    "    top_row = [0] + top_row +[0]\n",
    "    neig_grid = [top_row] + neig_grid\n",
    "\n",
    "    # bottom row\n",
    "\n",
    "    btm_row =[]\n",
    "    for j in range(1, len(seats[0])-1): \n",
    "\n",
    "        neighbours = sum([1 for h in range(-2,0) for w in range(-1,2) if (not(h==-1 and w==0) and seats[h][j+w] == '#')])\n",
    "        btm_row.append(neighbours)\n",
    "\n",
    "\n",
    "    btm_row = [0] + btm_row +[0]\n",
    "    neig_grid = neig_grid + [btm_row]\n",
    "    \n",
    "    return neig_grid"
   ]
  },
  {
   "cell_type": "code",
   "execution_count": 149,
   "metadata": {},
   "outputs": [],
   "source": [
    "neigh_counter(text11);"
   ]
  },
  {
   "cell_type": "code",
   "execution_count": null,
   "metadata": {},
   "outputs": [],
   "source": []
  },
  {
   "cell_type": "code",
   "execution_count": 150,
   "metadata": {},
   "outputs": [
    {
     "data": {
      "text/plain": [
       "[[0, 0, 0, 0, 0, 0, 0, 0, 0, 0],\n",
       " [0, 0, 0, 0, 0, 0, 0, 0, 0, 0],\n",
       " [0, 0, 0, 0, 0, 0, 0, 0, 0, 0],\n",
       " [0, 0, 0, 0, 0, 0, 0, 0, 0, 0],\n",
       " [0, 0, 0, 0, 0, 0, 0, 0, 0, 0],\n",
       " [0, 0, 0, 0, 0, 0, 0, 0, 0, 0],\n",
       " [0, 0, 0, 0, 0, 0, 0, 0, 0, 0],\n",
       " [0, 0, 0, 0, 0, 0, 0, 0, 0, 0],\n",
       " [0, 0, 0, 0, 0, 0, 0, 0, 0, 0],\n",
       " [0, 0, 0, 0, 0, 0, 0, 0, 0, 0]]"
      ]
     },
     "execution_count": 150,
     "metadata": {},
     "output_type": "execute_result"
    }
   ],
   "source": [
    "neigh_counter(test_seats)"
   ]
  },
  {
   "cell_type": "code",
   "execution_count": 151,
   "metadata": {},
   "outputs": [
    {
     "data": {
      "text/plain": [
       "[['#', '.', '#', '#', '.', '#', '#', '.', '#', '#'],\n",
       " ['#', '#', '#', '#', '#', '#', '#', '.', '#', '#'],\n",
       " ['#', '.', '#', '.', '#', '.', '.', '#', '.', '.'],\n",
       " ['#', '#', '#', '#', '.', '#', '#', '.', '#', '#'],\n",
       " ['#', '.', '#', '#', '.', '#', '#', '.', '#', '#'],\n",
       " ['#', '.', '#', '#', '#', '#', '#', '.', '#', '#'],\n",
       " ['.', '.', '#', '.', '#', '.', '.', '.', '.', '.'],\n",
       " ['#', '#', '#', '#', '#', '#', '#', '#', '#', '#'],\n",
       " ['#', '.', '#', '#', '#', '#', '#', '#', '.', '#'],\n",
       " ['#', '.', '#', '#', '#', '#', '#', '.', '#', '#']]"
      ]
     },
     "execution_count": 151,
     "metadata": {},
     "output_type": "execute_result"
    }
   ],
   "source": [
    "new_seating = []\n",
    "occount = neigh_counter(test_seats)\n",
    "\n",
    "for i in range(len(test_seats)):\n",
    "    new_row = []\n",
    "    for j in range(len(test_seats[0])):\n",
    "        if test_seats[i][j] == 'L':\n",
    "            if occount[i][j] == 0:\n",
    "                new_row.append('#')\n",
    "        \n",
    "        if test_seats[i][j] == '#':\n",
    "            if occount[i][j] >3:\n",
    "                new_row.append('L')\n",
    "                \n",
    "        if test_seats[i][j] == '.':\n",
    "            new_row.append('.')\n",
    "    \n",
    "    new_seating.append(new_row)\n",
    "\n",
    "new_seating"
   ]
  },
  {
   "cell_type": "code",
   "execution_count": 152,
   "metadata": {},
   "outputs": [],
   "source": [
    "def update(seats):\n",
    "    new_seating = []\n",
    "    occount = neigh_counter(seats)\n",
    "\n",
    "    for i in range(len(seats)):\n",
    "        new_row = []\n",
    "        for j in range(len(seats[0])):\n",
    "            if seats[i][j] == 'L':\n",
    "                if occount[i][j] == 0:\n",
    "                    new_row.append('#')\n",
    "                else:\n",
    "                    new_row.append('L')\n",
    "\n",
    "            if seats[i][j] == '#':\n",
    "                if occount[i][j] >3:\n",
    "                    new_row.append('L')\n",
    "                else:\n",
    "                    new_row.append('#')\n",
    "\n",
    "            if seats[i][j] == '.':\n",
    "                new_row.append('.')\n",
    "\n",
    "        new_seating.append(new_row)\n",
    "\n",
    "    return new_seating"
   ]
  },
  {
   "cell_type": "code",
   "execution_count": 153,
   "metadata": {},
   "outputs": [],
   "source": [
    "gen1 = update(test_seats)\n",
    "gen2 = update(gen1)\n",
    "\n",
    "while gen1 != gen2:\n",
    "    gen1 = gen2\n",
    "    gen2 = update(gen1)\n"
   ]
  },
  {
   "cell_type": "code",
   "execution_count": 154,
   "metadata": {},
   "outputs": [
    {
     "data": {
      "text/plain": [
       "37"
      ]
     },
     "execution_count": 154,
     "metadata": {},
     "output_type": "execute_result"
    }
   ],
   "source": [
    "[l for s in gen2 for l in s].count('#')"
   ]
  },
  {
   "cell_type": "code",
   "execution_count": 155,
   "metadata": {},
   "outputs": [
    {
     "data": {
      "text/plain": [
       "2277"
      ]
     },
     "execution_count": 155,
     "metadata": {},
     "output_type": "execute_result"
    }
   ],
   "source": [
    "gen1 = update(text11)\n",
    "gen2 = update(gen1)\n",
    "\n",
    "while gen1 != gen2:\n",
    "    gen1 = gen2\n",
    "    gen2 = update(gen1)\n",
    "[l for s in gen2 for l in s].count('#')"
   ]
  },
  {
   "cell_type": "markdown",
   "metadata": {},
   "source": [
    "### Day 11 - part 2"
   ]
  },
  {
   "cell_type": "code",
   "execution_count": 156,
   "metadata": {},
   "outputs": [],
   "source": [
    "test_seats2 = update(update(test_seats))"
   ]
  },
  {
   "cell_type": "code",
   "execution_count": 157,
   "metadata": {},
   "outputs": [],
   "source": [
    "def num_adj(x, y, seats):\n",
    "    num = 0\n",
    "    dim_x , dim_y = len(seats[0]), len(seats)\n",
    "    \n",
    "    for drct in [(s,t) for s in range(-1,2) for t in range(-1,2)]:\n",
    "        \n",
    "        if drct == (0,0):\n",
    "            continue\n",
    "        \n",
    "        multi = 1\n",
    "        \n",
    "        while (0 <= x + multi*drct[0] <dim_x) and (0 <= y + multi*drct[1] < dim_y):\n",
    "            el = seats[y + multi*drct[1]][x + multi*drct[0]]\n",
    "            if el != '.':\n",
    "                if el == '#':\n",
    "                    num +=1\n",
    "                break\n",
    "            multi += 1\n",
    "        \n",
    "    return num\n",
    "            "
   ]
  },
  {
   "cell_type": "code",
   "execution_count": 158,
   "metadata": {},
   "outputs": [
    {
     "data": {
      "text/plain": [
       "[['#', '.', 'L', 'L', '.', 'L', '#', '.', '#', '#'],\n",
       " ['#', 'L', 'L', 'L', 'L', 'L', 'L', '.', 'L', '#'],\n",
       " ['L', '.', 'L', '.', 'L', '.', '.', 'L', '.', '.'],\n",
       " ['#', 'L', 'L', 'L', '.', 'L', 'L', '.', 'L', '#'],\n",
       " ['#', '.', 'L', 'L', '.', 'L', 'L', '.', 'L', 'L'],\n",
       " ['#', '.', 'L', 'L', 'L', 'L', '#', '.', '#', '#'],\n",
       " ['.', '.', 'L', '.', 'L', '.', '.', '.', '.', '.'],\n",
       " ['#', 'L', 'L', 'L', 'L', 'L', 'L', 'L', 'L', '#'],\n",
       " ['#', '.', 'L', 'L', 'L', 'L', 'L', 'L', '.', 'L'],\n",
       " ['#', '.', '#', 'L', 'L', 'L', 'L', '.', '#', '#']]"
      ]
     },
     "execution_count": 158,
     "metadata": {},
     "output_type": "execute_result"
    }
   ],
   "source": [
    "test_seats2"
   ]
  },
  {
   "cell_type": "code",
   "execution_count": 159,
   "metadata": {},
   "outputs": [
    {
     "data": {
      "text/plain": [
       "[[0, 0, 0, 0, 0, 0, 0, 0, 0, 0],\n",
       " [0, 0, 0, 0, 0, 0, 0, 0, 0, 0],\n",
       " [0, 0, 0, 0, 0, 0, 0, 0, 0, 0],\n",
       " [0, 0, 0, 0, 0, 0, 0, 0, 0, 0],\n",
       " [0, 0, 0, 0, 0, 0, 0, 0, 0, 0],\n",
       " [0, 0, 0, 0, 0, 0, 0, 0, 0, 0],\n",
       " [0, 0, 0, 0, 0, 0, 0, 0, 0, 0],\n",
       " [0, 0, 0, 0, 0, 0, 0, 0, 0, 0],\n",
       " [0, 0, 0, 0, 0, 0, 0, 0, 0, 0],\n",
       " [0, 0, 0, 0, 0, 0, 0, 0, 0, 0]]"
      ]
     },
     "execution_count": 159,
     "metadata": {},
     "output_type": "execute_result"
    }
   ],
   "source": [
    "[[num_adj(i, j, test_seats) for i in range(len(test_seats[0]))] for j in range(len(test_seats))]"
   ]
  },
  {
   "cell_type": "code",
   "execution_count": 160,
   "metadata": {},
   "outputs": [],
   "source": [
    "def update_two(seats):\n",
    "    new_seating = []\n",
    "    occount = [[num_adj(i, j, seats) for i in range(len(seats[0]))] for j in range(len(seats))]\n",
    "\n",
    "    for i in range(len(seats)):\n",
    "        new_row = []\n",
    "        for j in range(len(seats[0])):\n",
    "            if seats[i][j] == 'L':\n",
    "                if occount[i][j] == 0:\n",
    "                    new_row.append('#')\n",
    "                else:\n",
    "                    new_row.append('L')\n",
    "\n",
    "            if seats[i][j] == '#':\n",
    "                if occount[i][j] >4:\n",
    "                    new_row.append('L')\n",
    "                else:\n",
    "                    new_row.append('#')\n",
    "\n",
    "            if seats[i][j] == '.':\n",
    "                new_row.append('.')\n",
    "\n",
    "        new_seating.append(new_row)\n",
    "\n",
    "    return new_seating"
   ]
  },
  {
   "cell_type": "code",
   "execution_count": 161,
   "metadata": {},
   "outputs": [
    {
     "data": {
      "text/plain": [
       "[['#', '.', 'L', '#', '.', '#', '#', '.', 'L', '#'],\n",
       " ['#', 'L', '#', '#', '#', '#', '#', '.', 'L', 'L'],\n",
       " ['L', '.', '#', '.', '#', '.', '.', '#', '.', '.'],\n",
       " ['#', '#', 'L', '#', '.', '#', '#', '.', '#', '#'],\n",
       " ['#', '.', '#', '#', '.', '#', 'L', '.', '#', '#'],\n",
       " ['#', '.', '#', '#', '#', '#', '#', '.', '#', 'L'],\n",
       " ['.', '.', '#', '.', '#', '.', '.', '.', '.', '.'],\n",
       " ['L', 'L', 'L', '#', '#', '#', '#', 'L', 'L', '#'],\n",
       " ['#', '.', 'L', '#', '#', '#', '#', '#', '.', 'L'],\n",
       " ['#', '.', 'L', '#', '#', '#', '#', '.', 'L', '#']]"
      ]
     },
     "execution_count": 161,
     "metadata": {},
     "output_type": "execute_result"
    }
   ],
   "source": [
    "update_two(update_two(update_two(test_seats)))"
   ]
  },
  {
   "cell_type": "code",
   "execution_count": 162,
   "metadata": {},
   "outputs": [
    {
     "data": {
      "text/plain": [
       "26"
      ]
     },
     "execution_count": 162,
     "metadata": {},
     "output_type": "execute_result"
    }
   ],
   "source": [
    "gen1 = update_two(test_seats)\n",
    "gen2 = update_two(gen1)\n",
    "\n",
    "while gen1 != gen2:\n",
    "    gen1 = gen2\n",
    "    gen2 = update_two(gen1)\n",
    "[l for s in gen2 for l in s].count('#')"
   ]
  },
  {
   "cell_type": "code",
   "execution_count": 163,
   "metadata": {},
   "outputs": [
    {
     "data": {
      "text/plain": [
       "2066"
      ]
     },
     "execution_count": 163,
     "metadata": {},
     "output_type": "execute_result"
    }
   ],
   "source": [
    "gen1 = update_two(text11)\n",
    "gen2 = update_two(gen1)\n",
    "\n",
    "while gen1 != gen2:\n",
    "    gen1 = gen2\n",
    "    gen2 = update_two(gen1)\n",
    "[l for s in gen2 for l in s].count('#')"
   ]
  },
  {
   "cell_type": "markdown",
   "metadata": {},
   "source": [
    "### Day 12 - part 1"
   ]
  },
  {
   "cell_type": "code",
   "execution_count": null,
   "metadata": {},
   "outputs": [],
   "source": []
  },
  {
   "cell_type": "code",
   "execution_count": null,
   "metadata": {},
   "outputs": [],
   "source": []
  },
  {
   "cell_type": "code",
   "execution_count": null,
   "metadata": {},
   "outputs": [],
   "source": []
  },
  {
   "cell_type": "code",
   "execution_count": null,
   "metadata": {},
   "outputs": [],
   "source": []
  },
  {
   "cell_type": "markdown",
   "metadata": {},
   "source": [
    "### Day 14 - part 1"
   ]
  },
  {
   "cell_type": "code",
   "execution_count": 164,
   "metadata": {},
   "outputs": [],
   "source": [
    "text14 = []\n",
    "with open('data/day_14.txt', 'r') as file:\n",
    "    for x in file.readlines():\n",
    "        text14.append(x.split('\\n')[0])"
   ]
  },
  {
   "cell_type": "code",
   "execution_count": 165,
   "metadata": {},
   "outputs": [
    {
     "data": {
      "text/plain": [
       "579"
      ]
     },
     "execution_count": 165,
     "metadata": {},
     "output_type": "execute_result"
    }
   ],
   "source": [
    "text14.index('mask = 01000X1XX101001111X00000101X110X0X00') +3"
   ]
  },
  {
   "cell_type": "code",
   "execution_count": 166,
   "metadata": {},
   "outputs": [
    {
     "data": {
      "text/plain": [
       "580"
      ]
     },
     "execution_count": 166,
     "metadata": {},
     "output_type": "execute_result"
    }
   ],
   "source": [
    "len(text14)"
   ]
  },
  {
   "cell_type": "code",
   "execution_count": 167,
   "metadata": {},
   "outputs": [],
   "source": [
    "split_rules = []\n",
    "for rule in text14:\n",
    "    if rule[:4] == 'mask':\n",
    "        sub_lst = [rule]\n",
    "        i=1\n",
    "        while text14.index(rule) + i < len(text14):\n",
    "            next_rule = text14[text14.index(rule) + i]\n",
    "            if next_rule[:4] != 'mask':\n",
    "                sub_lst.append(next_rule)\n",
    "                \n",
    "            if next_rule[:4] == 'mask':\n",
    "                break\n",
    "            i +=1\n",
    "        \n",
    "        \n",
    "        split_rules.append(sub_lst)\n",
    "        \n",
    "        "
   ]
  },
  {
   "cell_type": "code",
   "execution_count": 168,
   "metadata": {},
   "outputs": [
    {
     "data": {
      "text/plain": [
       "['mask = 01000X1XX101001111X00000101X110X0X00',\n",
       " 'mem[884] = 1258',\n",
       " 'mem[12502] = 150248279',\n",
       " 'mem[63] = 1403008']"
      ]
     },
     "execution_count": 168,
     "metadata": {},
     "output_type": "execute_result"
    }
   ],
   "source": [
    "split_rules[-1]"
   ]
  },
  {
   "cell_type": "code",
   "execution_count": 169,
   "metadata": {},
   "outputs": [],
   "source": [
    "address_list = []\n",
    "for group in split_rules:\n",
    "    for mem in group[1:]:\n",
    "        address_list.append(int(mem.split('[')[1].split(']')[0]))"
   ]
  },
  {
   "cell_type": "code",
   "execution_count": 170,
   "metadata": {},
   "outputs": [
    {
     "data": {
      "text/plain": [
       "65528"
      ]
     },
     "execution_count": 170,
     "metadata": {},
     "output_type": "execute_result"
    }
   ],
   "source": [
    "max(address_list)"
   ]
  },
  {
   "cell_type": "code",
   "execution_count": 171,
   "metadata": {},
   "outputs": [],
   "source": [
    "memory = [0 for i in range(max(address_list) +1)]"
   ]
  },
  {
   "cell_type": "code",
   "execution_count": 172,
   "metadata": {},
   "outputs": [],
   "source": [
    "test_memory = [0 for i in range(9)]"
   ]
  },
  {
   "cell_type": "code",
   "execution_count": 173,
   "metadata": {},
   "outputs": [
    {
     "data": {
      "text/plain": [
       "[0, 0, 0, 0, 0, 0, 0, 0, 0]"
      ]
     },
     "execution_count": 173,
     "metadata": {},
     "output_type": "execute_result"
    }
   ],
   "source": [
    "test_memory"
   ]
  },
  {
   "cell_type": "code",
   "execution_count": 174,
   "metadata": {},
   "outputs": [],
   "source": [
    "test_14 = [\"mask = XXXXXXXXXXXXXXXXXXXXXXXXXXXXX1XXXX0X\", \n",
    "           \"mem[8] = 11\", \"mem[7] = 101\", \"mem[8] = 0\"]"
   ]
  },
  {
   "cell_type": "code",
   "execution_count": 175,
   "metadata": {},
   "outputs": [],
   "source": [
    "def bit_shift(bit_form):\n",
    "    out = 0\n",
    "    bitlist = [int(x) for x in str(bit_form)]\n",
    "    for bit in bitlist:\n",
    "        out = (out << 1) | bit\n",
    "    return out"
   ]
  },
  {
   "cell_type": "code",
   "execution_count": 176,
   "metadata": {},
   "outputs": [],
   "source": [
    "def overwritter(rule_group, memory_list):\n",
    "    for mem in rule_group[1:]:\n",
    "        mask = rule_group[0].split('= ')[1]\n",
    "        index  = int(mem.split('[')[1].split(']')[0])\n",
    "        value = int(mem.split('= ')[1])\n",
    "        bin_val = f\"{str('{0:0b}'.format(value)):0>36}\"\n",
    "\n",
    "        for i in range(len(mask)):\n",
    "\n",
    "            if mask[i] == '1':\n",
    "                bin_val = bin_val[:i] + '1' + bin_val[i + 1:]\n",
    "\n",
    "            elif mask[i] == '0':\n",
    "                bin_val = bin_val[:i] + '0' + bin_val[i + 1:] \n",
    "\n",
    "\n",
    "        memory_list[index] = bit_shift(bin_val)\n",
    "    return memory_list"
   ]
  },
  {
   "cell_type": "code",
   "execution_count": 177,
   "metadata": {},
   "outputs": [
    {
     "data": {
      "text/plain": [
       "[0, 0, 0, 0, 0, 0, 0, 101, 64]"
      ]
     },
     "execution_count": 177,
     "metadata": {},
     "output_type": "execute_result"
    }
   ],
   "source": [
    "overwritter(test_14, test_memory)"
   ]
  },
  {
   "cell_type": "code",
   "execution_count": 178,
   "metadata": {},
   "outputs": [],
   "source": [
    "for group in split_rules:\n",
    "    overwritter(group, memory)"
   ]
  },
  {
   "cell_type": "code",
   "execution_count": 179,
   "metadata": {},
   "outputs": [
    {
     "data": {
      "text/plain": [
       "13865835758282"
      ]
     },
     "execution_count": 179,
     "metadata": {},
     "output_type": "execute_result"
    }
   ],
   "source": [
    "sum(memory)"
   ]
  },
  {
   "cell_type": "markdown",
   "metadata": {},
   "source": [
    "### Day 14 - part 2"
   ]
  },
  {
   "cell_type": "code",
   "execution_count": 180,
   "metadata": {},
   "outputs": [],
   "source": [
    "def x_swapper(string_lst):\n",
    "    swapped_lst = []\n",
    "    for string in string_lst:\n",
    "        for i in range(len(string)):\n",
    "            if string[i] == 'X':\n",
    "                swapped_lst.append(string[:i] + '1' + string[i + 1:])\n",
    "                swapped_lst.append(string[:i] + '0' + string[i + 1:])\n",
    "    return swapped_lst"
   ]
  },
  {
   "cell_type": "code",
   "execution_count": 181,
   "metadata": {},
   "outputs": [],
   "source": [
    "test_mask = \"00000000000000000000000000000001X0XX\""
   ]
  },
  {
   "cell_type": "code",
   "execution_count": 182,
   "metadata": {},
   "outputs": [
    {
     "data": {
      "text/plain": [
       "[27, 24, 18, 26, 16, 17, 25, 19]"
      ]
     },
     "execution_count": 182,
     "metadata": {},
     "output_type": "execute_result"
    }
   ],
   "source": [
    "inpt = [test_mask]\n",
    "for i in range(test_mask.count('X')):\n",
    "    inpt= x_swapper(inpt)\n",
    "[bit_shift(x) for x in set(inpt)]"
   ]
  },
  {
   "cell_type": "code",
   "execution_count": 183,
   "metadata": {},
   "outputs": [],
   "source": [
    "def overwritter_two(rule_group, memory_list =[]):\n",
    "\n",
    "    for mem in rule_group[1:]:\n",
    "        mask = rule_group[0].split('= ')[1]\n",
    "        \n",
    "        loc  = int(mem.split('[')[1].split(']')[0])\n",
    "        \n",
    "        value = int(mem.split('= ')[1])\n",
    "        \n",
    "        bin_add = f\"{str('{0:0b}'.format(loc)):0>36}\"\n",
    "        \n",
    "\n",
    "        for i in range(len(mask)):\n",
    "\n",
    "            \n",
    "            if mask[i] == '1':\n",
    "                bin_add = bin_add[:i] + '1' + bin_add[i + 1:]\n",
    "\n",
    "\n",
    "            elif mask[i] == 'X':\n",
    "                bin_add = bin_add[:i] + 'X' + bin_add[i + 1:]\n",
    "\n",
    "\n",
    "\n",
    "        inpt = [bin_add]\n",
    "        for i in range(bin_add.count('X')):\n",
    "            inpt= x_swapper(inpt)\n",
    "        \n",
    "        loc_lst = [bit_shift(x) for x in set(inpt)]\n",
    "        \n",
    "        for place in loc_lst:\n",
    "            memory_list.append((place, value))\n",
    "            \n",
    "\n",
    "    return memory_list"
   ]
  },
  {
   "cell_type": "code",
   "execution_count": 184,
   "metadata": {},
   "outputs": [],
   "source": [
    "test_14_2 = [[\"mask = 000000000000000000000000000000X1001X\",\n",
    "\"mem[42] = 100\"]\n",
    ",[\"mask = 00000000000000000000000000000000X0XX\",\n",
    "\"mem[26] = 1\"]]"
   ]
  },
  {
   "cell_type": "code",
   "execution_count": 185,
   "metadata": {},
   "outputs": [],
   "source": [
    "mem_lst = []\n",
    "for grp in test_14_2:\n",
    "    overwritter_two(grp, mem_lst)"
   ]
  },
  {
   "cell_type": "code",
   "execution_count": 186,
   "metadata": {},
   "outputs": [
    {
     "data": {
      "text/plain": [
       "[(27, 100),\n",
       " (59, 100),\n",
       " (58, 100),\n",
       " (26, 100),\n",
       " (27, 1),\n",
       " (24, 1),\n",
       " (18, 1),\n",
       " (26, 1),\n",
       " (16, 1),\n",
       " (17, 1),\n",
       " (25, 1),\n",
       " (19, 1)]"
      ]
     },
     "execution_count": 186,
     "metadata": {},
     "output_type": "execute_result"
    }
   ],
   "source": [
    "mem_lst"
   ]
  },
  {
   "cell_type": "code",
   "execution_count": null,
   "metadata": {},
   "outputs": [],
   "source": []
  },
  {
   "cell_type": "code",
   "execution_count": 187,
   "metadata": {},
   "outputs": [],
   "source": [
    "# max size is 2**36 ~< 10^11\n",
    "# memory = [0 for i in range(int(10e11))]"
   ]
  },
  {
   "cell_type": "code",
   "execution_count": 188,
   "metadata": {
    "collapsed": true,
    "jupyter": {
     "outputs_hidden": true
    }
   },
   "outputs": [
    {
     "data": {
      "text/plain": [
       "[(34707270456, 3787163),\n",
       " (35797643068, 3787163),\n",
       " (52994305848, 3787163),\n",
       " (34740825916, 3787163),\n",
       " (35814566712, 3787163),\n",
       " (51937472312, 3787163),\n",
       " (34757602108, 3787163),\n",
       " (34723900220, 3787163),\n",
       " (35831328572, 3787163),\n",
       " (51920547640, 3787163),\n",
       " (35831344952, 3787163),\n",
       " (51903901500, 3787163),\n",
       " (35797790520, 3787163),\n",
       " (52994289464, 3787163),\n",
       " (53011196732, 3787163),\n",
       " (52994420540, 3787163),\n",
       " (35814435644, 3787163),\n",
       " (35780864828, 3787163),\n",
       " (34757455672, 3787163),\n",
       " (51920564028, 3787163),\n",
       " (35780865852, 3787163),\n",
       " (52960865084, 3787163),\n",
       " (34723900216, 3787163),\n",
       " (51937323832, 3787163),\n",
       " (34723917624, 3787163),\n",
       " (51920694076, 3787163),\n",
       " (51887008568, 3787163),\n",
       " (34740677436, 3787163),\n",
       " (52960865080, 3787163),\n",
       " (52960882492, 3787163),\n",
       " (51937340220, 3787163),\n",
       " (34757472060, 3787163),\n",
       " (52977528636, 3787163),\n",
       " (52977659704, 3787163),\n",
       " (34740808508, 3787163),\n",
       " (34723916600, 3787163),\n",
       " (52977658684, 3787163),\n",
       " (51937324856, 3787163),\n",
       " (52994435900, 3787163),\n",
       " (34724032312, 3787163),\n",
       " (52977512248, 3787163),\n",
       " (51903785784, 3787163),\n",
       " (34724048696, 3787163),\n",
       " (51903770428, 3787163),\n",
       " (35814550328, 3787163),\n",
       " (35831327548, 3787163),\n",
       " (51920694072, 3787163),\n",
       " (51920677692, 3787163),\n",
       " (51903786812, 3787163),\n",
       " (35831212860, 3787163),\n",
       " (34757585720, 3787163),\n",
       " (53011196728, 3787163),\n",
       " (52994419512, 3787163),\n",
       " (51887139644, 3787163),\n",
       " (34757471036, 3787163),\n",
       " (51937454908, 3787163),\n",
       " (51920695096, 3787163),\n",
       " (51886992184, 3787163),\n",
       " (35797774136, 3787163),\n",
       " (35780995900, 3787163),\n",
       " (35780996924, 3787163),\n",
       " (51937323836, 3787163),\n",
       " (34757603128, 3787163),\n",
       " (35797642040, 3787163),\n",
       " (34707255100, 3787163),\n",
       " (35797773112, 3787163),\n",
       " (35814436664, 3787163),\n",
       " (51903901496, 3787163),\n",
       " (52994305852, 3787163),\n",
       " (52994304824, 3787163),\n",
       " (51937471288, 3787163),\n",
       " (35797774140, 3787163),\n",
       " (53011197752, 3787163),\n",
       " (34723901240, 3787163),\n",
       " (52994289468, 3787163),\n",
       " (52994288444, 3787163),\n",
       " (35797658424, 3787163),\n",
       " (51903769404, 3787163),\n",
       " (51886993208, 3787163),\n",
       " (34740693816, 3787163),\n",
       " (34740809532, 3787163),\n",
       " (53011214140, 3787163),\n",
       " (52994436924, 3787163),\n",
       " (34740693820, 3787163),\n",
       " (34757586748, 3787163),\n",
       " (34724032316, 3787163),\n",
       " (52977527608, 3787163),\n",
       " (52960735036, 3787163),\n",
       " (51920677688, 3787163),\n",
       " (51920564024, 3787163),\n",
       " (53011213112, 3787163),\n",
       " (35814436668, 3787163),\n",
       " (34740678456, 3787163),\n",
       " (51937454904, 3787163),\n",
       " (35831196472, 3787163),\n",
       " (35780882232, 3787163),\n",
       " (35781013304, 3787163),\n",
       " (34707123000, 3787163),\n",
       " (53011066684, 3787163),\n",
       " (53011065660, 3787163),\n",
       " (52960866104, 3787163),\n",
       " (51903770424, 3787163),\n",
       " (53011214136, 3787163),\n",
       " (51920678716, 3787163),\n",
       " (35831212856, 3787163),\n",
       " (51937324860, 3787163),\n",
       " (34724048700, 3787163),\n",
       " (34723901244, 3787163),\n",
       " (52994288440, 3787163),\n",
       " (52977511224, 3787163),\n",
       " (34707255096, 3787163),\n",
       " (51903917880, 3787163),\n",
       " (35797659452, 3787163),\n",
       " (51937455932, 3787163),\n",
       " (52977511228, 3787163),\n",
       " (51937341244, 3787163),\n",
       " (34757455676, 3787163),\n",
       " (34740694844, 3787163),\n",
       " (35780996920, 3787163),\n",
       " (35780882236, 3787163),\n",
       " (52960881464, 3787163),\n",
       " (52960734008, 3787163),\n",
       " (51937472316, 3787163),\n",
       " (35781013308, 3787163),\n",
       " (51920546620, 3787163),\n",
       " (35780864824, 3787163),\n",
       " (51937340216, 3787163),\n",
       " (51887140668, 3787163),\n",
       " (34724047676, 3787163),\n",
       " (34724047672, 3787163),\n",
       " (51937341240, 3787163),\n",
       " (35797659448, 3787163),\n",
       " (34707271484, 3787163),\n",
       " (35780865848, 3787163),\n",
       " (52960866108, 3787163),\n",
       " (34707124028, 3787163),\n",
       " (35780881208, 3787163),\n",
       " (52994435896, 3787163),\n",
       " (35814567740, 3787163),\n",
       " (51886993212, 3787163),\n",
       " (34740825912, 3787163),\n",
       " (52977527612, 3787163),\n",
       " (34707123004, 3787163),\n",
       " (34707139384, 3787163),\n",
       " (51887123260, 3787163),\n",
       " (35831343928, 3787163),\n",
       " (34757585724, 3787163),\n",
       " (35814551352, 3787163),\n",
       " (51886992188, 3787163),\n",
       " (35781012284, 3787163),\n",
       " (53011065656, 3787163),\n",
       " (51887009592, 3787163),\n",
       " (35814567736, 3787163),\n",
       " (52977658680, 3787163),\n",
       " (35780881212, 3787163),\n",
       " (34723916604, 3787163),\n",
       " (35814420280, 3787163),\n",
       " (51887123256, 3787163),\n",
       " (53011213116, 3787163),\n",
       " (35797789496, 3787163),\n",
       " (34740824892, 3787163),\n",
       " (52994419516, 3787163),\n",
       " (51887009596, 3787163),\n",
       " (35797773116, 3787163),\n",
       " (35797642044, 3787163),\n",
       " (53011083068, 3787163),\n",
       " (51937471292, 3787163),\n",
       " (34724031288, 3787163),\n",
       " (51920547644, 3787163),\n",
       " (51887008572, 3787163),\n",
       " (34707254072, 3787163),\n",
       " (35831344956, 3787163),\n",
       " (52994436920, 3787163),\n",
       " (52960751420, 3787163),\n",
       " (51887139640, 3787163),\n",
       " (53011082044, 3787163),\n",
       " (34740808504, 3787163),\n",
       " (53011083064, 3787163),\n",
       " (51903900476, 3787163),\n",
       " (51920563004, 3787163),\n",
       " (52994304828, 3787163),\n",
       " (51920546616, 3787163),\n",
       " (34723917628, 3787163),\n",
       " (35831197496, 3787163),\n",
       " (53011066680, 3787163),\n",
       " (34757454648, 3787163),\n",
       " (52977642296, 3787163),\n",
       " (52994420536, 3787163),\n",
       " (51903916856, 3787163),\n",
       " (51903916860, 3787163),\n",
       " (35814435640, 3787163),\n",
       " (52977512252, 3787163),\n",
       " (52960751416, 3787163),\n",
       " (53011082040, 3787163),\n",
       " (51920695100, 3787163),\n",
       " (51903917884, 3787163),\n",
       " (34757603132, 3787163),\n",
       " (51920678712, 3787163),\n",
       " (53011197756, 3787163),\n",
       " (52977528632, 3787163),\n",
       " (35814551356, 3787163),\n",
       " (35781012280, 3787163),\n",
       " (34757471032, 3787163),\n",
       " (34757454652, 3787163),\n",
       " (34740824888, 3787163),\n",
       " (34707254076, 3787163),\n",
       " (52977643324, 3787163),\n",
       " (34740677432, 3787163),\n",
       " (35797643064, 3787163),\n",
       " (34707139388, 3787163),\n",
       " (35831327544, 3787163),\n",
       " (51903900472, 3787163),\n",
       " (35831328568, 3787163),\n",
       " (34707140408, 3787163),\n",
       " (51903786808, 3787163),\n",
       " (35814419260, 3787163),\n",
       " (35831213884, 3787163),\n",
       " (52977643320, 3787163),\n",
       " (34757472056, 3787163),\n",
       " (34740809528, 3787163),\n",
       " (34707270460, 3787163),\n",
       " (51887140664, 3787163),\n",
       " (34707140412, 3787163),\n",
       " (35797658428, 3787163),\n",
       " (52977642300, 3787163),\n",
       " (51920563000, 3787163),\n",
       " (34707271480, 3787163),\n",
       " (51887124284, 3787163),\n",
       " (35814419256, 3787163),\n",
       " (34757586744, 3787163),\n",
       " (35831196476, 3787163),\n",
       " (51887124280, 3787163),\n",
       " (52977659708, 3787163),\n",
       " (52960882488, 3787163),\n",
       " (51903785788, 3787163),\n",
       " (35814566716, 3787163),\n",
       " (52960750396, 3787163),\n",
       " (35814420284, 3787163),\n",
       " (34757602104, 3787163),\n",
       " (52960734012, 3787163),\n",
       " (51903769400, 3787163),\n",
       " (35831197500, 3787163),\n",
       " (35797789500, 3787163),\n",
       " (52960735032, 3787163),\n",
       " (35814550332, 3787163),\n",
       " (34740678460, 3787163),\n",
       " (35797790524, 3787163),\n",
       " (35831343932, 3787163),\n",
       " (35831213880, 3787163),\n",
       " (52960750392, 3787163),\n",
       " (35780995896, 3787163),\n",
       " (34724031292, 3787163),\n",
       " (34707124024, 3787163),\n",
       " (34740694840, 3787163),\n",
       " (51937455928, 3787163),\n",
       " (52960881468, 3787163),\n",
       " (34724032442, 665403),\n",
       " (35780864954, 665403),\n",
       " (51920677818, 665403),\n",
       " (51920695230, 665403),\n",
       " (51903900602, 665403),\n",
       " (34707123130, 665403),\n",
       " (35831214014, 665403),\n",
       " (52977511354, 665403),\n",
       " (51886993342, 665403),\n",
       " (35781012414, 665403),\n",
       " (51887139774, 665403),\n",
       " (51903918014, 665403),\n",
       " (52977659834, 665403),\n",
       " (52994420666, 665403),\n",
       " (35814566842, 665403),\n",
       " (51903901630, 665403),\n",
       " (34723917754, 665403),\n",
       " (34707123134, 665403),\n",
       " (34757586878, 665403),\n",
       " (35780865982, 665403),\n",
       " (51887124410, 665403),\n",
       " (52994304954, 665403),\n",
       " (35814566846, 665403),\n",
       " (35814551482, 665403),\n",
       " (34740677562, 665403),\n",
       " (34740826042, 665403),\n",
       " (52977658814, 665403),\n",
       " (35797790654, 665403),\n",
       " (53011213246, 665403),\n",
       " (35831345082, 665403),\n",
       " (35831196602, 665403),\n",
       " (34707255226, 665403),\n",
       " (34740809662, 665403),\n",
       " (51903918010, 665403),\n",
       " (51937455038, 665403),\n",
       " (35797642174, 665403),\n",
       " (52960881594, 665403),\n",
       " (51937455034, 665403),\n",
       " (34707254202, 665403),\n",
       " (53011082170, 665403),\n",
       " (35780997054, 665403),\n",
       " (51886993338, 665403),\n",
       " (35797789630, 665403),\n",
       " (34757602234, 665403),\n",
       " (51903770554, 665403),\n",
       " (34707270586, 665403),\n",
       " (51937324986, 665403),\n",
       " (51903916990, 665403),\n",
       " (34757471166, 665403),\n",
       " (35780881338, 665403),\n",
       " (53011214270, 665403),\n",
       " (35797659578, 665403),\n",
       " (51887139770, 665403),\n",
       " (34740693946, 665403),\n",
       " (51937472442, 665403),\n",
       " (34740825022, 665403),\n",
       " (52960882622, 665403),\n",
       " (34724031422, 665403),\n",
       " (34707271610, 665403),\n",
       " (35831327678, 665403),\n",
       " (51937471422, 665403),\n",
       " (34707255230, 665403),\n",
       " (53011214266, 665403),\n",
       " (34740678586, 665403),\n",
       " (35831328698, 665403),\n",
       " (53011065790, 665403),\n",
       " (34707140538, 665403),\n",
       " (34740808634, 665403),\n",
       " (51903900606, 665403),\n",
       " (35780997050, 665403),\n",
       " (35831197630, 665403),\n",
       " (35797658558, 665403),\n",
       " (52977527742, 665403),\n",
       " (52977512378, 665403),\n",
       " (52994419642, 665403),\n",
       " (35797774266, 665403),\n",
       " (52994289598, 665403),\n",
       " (35831344058, 665403),\n",
       " (35797643198, 665403),\n",
       " (51937341374, 665403),\n",
       " (51886992314, 665403),\n",
       " (51887009726, 665403),\n",
       " (34740825018, 665403),\n",
       " (51903901626, 665403),\n",
       " (51903786942, 665403),\n",
       " (35814436798, 665403),\n",
       " (34740826046, 665403),\n",
       " (34740677566, 665403),\n",
       " (53011066810, 665403),\n",
       " (51920563130, 665403),\n",
       " (35780882362, 665403),\n",
       " (53011197882, 665403),\n",
       " (52960865210, 665403),\n",
       " (34757454778, 665403),\n",
       " (34723916730, 665403),\n",
       " (35797773246, 665403),\n",
       " (34723900346, 665403),\n",
       " (52994419646, 665403),\n",
       " (34757586874, 665403),\n",
       " (53011082174, 665403),\n",
       " (35814567870, 665403),\n",
       " (34757602238, 665403),\n",
       " (34724048830, 665403),\n",
       " (52994288574, 665403),\n",
       " (53011196858, 665403),\n",
       " (52960735162, 665403),\n",
       " (51937456058, 665403),\n",
       " (53011065786, 665403),\n",
       " (52960750526, 665403),\n",
       " (51920564154, 665403),\n",
       " (51903785918, 665403),\n",
       " (51886992318, 665403),\n",
       " (52960751546, 665403),\n",
       " (35814419386, 665403),\n",
       " (34724048826, 665403),\n",
       " (34723901374, 665403),\n",
       " (51920694202, 665403),\n",
       " (52960865214, 665403),\n",
       " (52977643454, 665403),\n",
       " (35831344062, 665403),\n",
       " (52977527738, 665403),\n",
       " (51920694206, 665403),\n",
       " (51920546750, 665403),\n",
       " (52994437054, 665403),\n",
       " (35780881342, 665403),\n",
       " (34723916734, 665403),\n",
       " (51887123386, 665403),\n",
       " (52977658810, 665403),\n",
       " (34724047806, 665403),\n",
       " (51903786938, 665403),\n",
       " (34757603262, 665403),\n",
       " (51887124414, 665403),\n",
       " (53011197886, 665403),\n",
       " (35814435770, 665403),\n",
       " (52960882618, 665403),\n",
       " (35797659582, 665403),\n",
       " (51937323962, 665403),\n",
       " (51920546746, 665403),\n",
       " (35831327674, 665403),\n",
       " (35781013434, 665403),\n",
       " (51937472446, 665403),\n",
       " (35780865978, 665403),\n",
       " (52977528762, 665403),\n",
       " (34757585854, 665403),\n",
       " (35831214010, 665403),\n",
       " (35814435774, 665403),\n",
       " (53011213242, 665403),\n",
       " (34707139518, 665403),\n",
       " (51903769530, 665403),\n",
       " (51937341370, 665403),\n",
       " (35781013438, 665403),\n",
       " (35814550462, 665403),\n",
       " (52977642430, 665403),\n",
       " (35814550458, 665403),\n",
       " (52960734142, 665403),\n",
       " (35780996030, 665403),\n",
       " (34757472186, 665403),\n",
       " (35831197626, 665403),\n",
       " (52960866238, 665403),\n",
       " (51920678842, 665403),\n",
       " (52977528766, 665403),\n",
       " (52960750522, 665403),\n",
       " (53011083194, 665403),\n",
       " (51937471418, 665403),\n",
       " (51920547774, 665403),\n",
       " (35797642170, 665403),\n",
       " (51903769534, 665403),\n",
       " (35831196606, 665403),\n",
       " (34723901370, 665403),\n",
       " (51887008702, 665403),\n",
       " (52994289594, 665403),\n",
       " (52960866234, 665403),\n",
       " (35780996026, 665403),\n",
       " (34740693950, 665403),\n",
       " (52994305978, 665403),\n",
       " (35814420410, 665403),\n",
       " (51920564158, 665403),\n",
       " (35797790650, 665403),\n",
       " (34724047802, 665403),\n",
       " (34707140542, 665403),\n",
       " (52994305982, 665403),\n",
       " (52977643450, 665403),\n",
       " (52994420670, 665403),\n",
       " (34757454782, 665403),\n",
       " (34723900350, 665403),\n",
       " (34707270590, 665403),\n",
       " (34707271614, 665403),\n",
       " (52977511358, 665403),\n",
       " (34757455802, 665403),\n",
       " (52994304958, 665403),\n",
       " (51887008698, 665403),\n",
       " (52977659838, 665403),\n",
       " (34740694974, 665403),\n",
       " (34707254206, 665403),\n",
       " (35831212990, 665403),\n",
       " (34757603258, 665403),\n",
       " (35814419390, 665403),\n",
       " (53011066814, 665403),\n",
       " (52960735166, 665403),\n",
       " (35797658554, 665403),\n",
       " (34740809658, 665403),\n",
       " (52994436026, 665403),\n",
       " (34757471162, 665403),\n",
       " (51903770558, 665403),\n",
       " (35831212986, 665403),\n",
       " (35780882366, 665403),\n",
       " (52994436030, 665403),\n",
       " (53011196862, 665403),\n",
       " (52960751550, 665403),\n",
       " (34707139514, 665403),\n",
       " (34757585850, 665403),\n",
       " (34707124154, 665403),\n",
       " (51920563134, 665403),\n",
       " (51920695226, 665403),\n",
       " (51887009722, 665403),\n",
       " (34724032446, 665403),\n",
       " (34757455806, 665403),\n",
       " (34724031418, 665403),\n",
       " (51920677822, 665403),\n",
       " (51937456062, 665403),\n",
       " (35797773242, 665403),\n",
       " (35814567866, 665403),\n",
       " (35781012410, 665403),\n",
       " (52960734138, 665403),\n",
       " (52994437050, 665403),\n",
       " (51937340350, 665403),\n",
       " (52977642426, 665403),\n",
       " (35814551486, 665403),\n",
       " (35831328702, 665403),\n",
       " (35780864958, 665403),\n",
       " (35797643194, 665403),\n",
       " (52994288570, 665403),\n",
       " (51937324990, 665403),\n",
       " (51937323966, 665403),\n",
       " (51920678846, 665403),\n",
       " (53011083198, 665403),\n",
       " (35814436794, 665403),\n",
       " (51937340346, 665403),\n",
       " (34740694970, 665403),\n",
       " (51903785914, 665403),\n",
       " (35814420414, 665403),\n",
       " (34757472190, 665403),\n",
       " (34723917758, 665403),\n",
       " (34740678590, 665403),\n",
       " (52960881598, 665403),\n",
       " (51887140798, 665403),\n",
       " (51887140794, 665403),\n",
       " (34707124158, 665403),\n",
       " (35831345086, 665403),\n",
       " (51887123390, 665403),\n",
       " (51903916986, 665403),\n",
       " (35797774270, 665403),\n",
       " (35797789626, 665403),\n",
       " (51920547770, 665403),\n",
       " (52977512382, 665403),\n",
       " (34740808638, 665403),\n",
       " (51937328830, 175657346),\n",
       " (35831347902, 175657346),\n",
       " (51937327802, 175657346),\n",
       " (51887144634, 175657346),\n",
       " (52977662654, 175657346),\n",
       " (34707258046, 175657346),\n",
       " (34740698814, 175657346),\n",
       " (34723920574, 175657346),\n",
       " (52977532602, 175657346),\n",
       " (52994292410, 175657346),\n",
       " (35814439610, 175657346),\n",
       " (51937459902, 175657346),\n",
       " (34724052666, 175657346),\n",
       " (52960885434, 175657346),\n",
       " (35831216826, 175657346),\n",
       " (52960870074, 175657346),\n",
       " (51937476286, 175657346),\n",
       " (35780999866, 175657346),\n",
       " (34757458618, 175657346),\n",
       " (34740681402, 175657346),\n",
       " (53011217082, 175657346),\n",
       " (52960886462, 175657346),\n",
       " (35780886202, 175657346),\n",
       " (53011087034, 175657346),\n",
       " (34757475006, 175657346),\n",
       " (35781016254, 175657346),\n",
       " (51886996154, 175657346),\n",
       " (35814555326, 175657346),\n",
       " (52977531582, 175657346),\n",
       " (35780868798, 175657346),\n",
       " (53011086014, 175657346),\n",
       " (51903789754, 175657346),\n",
       " (51903773374, 175657346),\n",
       " (34740813502, 175657346),\n",
       " (34707143358, 175657346),\n",
       " (51920698046, 175657346),\n",
       " (53011086010, 175657346),\n",
       " (53011070654, 175657346),\n",
       " (51903905466, 175657346),\n",
       " (34740813498, 175657346),\n",
       " (51903921850, 175657346),\n",
       " (35814571706, 175657346),\n",
       " (34740828862, 175657346),\n",
       " (35814440634, 175657346),\n",
       " (34757589690, 175657346),\n",
       " (51903920830, 175657346),\n",
       " (34707275450, 175657346),\n",
       " (51903790778, 175657346),\n",
       " (35781000894, 175657346),\n",
       " (34724036282, 175657346),\n",
       " (52977647294, 175657346),\n",
       " (51903904442, 175657346),\n",
       " (51903773370, 175657346),\n",
       " (35831217854, 175657346),\n",
       " (34723905210, 175657346),\n",
       " (52994439866, 175657346),\n",
       " (35780885178, 175657346),\n",
       " (52960869050, 175657346),\n",
       " (52960754362, 175657346),\n",
       " (34757606074, 175657346),\n",
       " (52977647290, 175657346),\n",
       " (35814424254, 175657346),\n",
       " (51920567998, 175657346),\n",
       " (51903774398, 175657346),\n",
       " (34723904190, 175657346),\n",
       " (52994308798, 175657346),\n",
       " (35797663422, 175657346),\n",
       " (52960739002, 175657346),\n",
       " (35814439614, 175657346),\n",
       " (51887143610, 175657346),\n",
       " (35797778106, 175657346),\n",
       " (35797662394, 175657346),\n",
       " (51887144638, 175657346),\n",
       " (35797794494, 175657346),\n",
       " (53011201722, 175657346),\n",
       " (34724051642, 175657346),\n",
       " (51937475262, 175657346),\n",
       " (51920682682, 175657346),\n",
       " (35781017278, 175657346),\n",
       " (52960755386, 175657346),\n",
       " (34740828858, 175657346),\n",
       " (51937476282, 175657346),\n",
       " (53011200702, 175657346),\n",
       " (51937328826, 175657346),\n",
       " (51937459898, 175657346),\n",
       " (51903905470, 175657346),\n",
       " (35780869818, 175657346),\n",
       " (35814554298, 175657346),\n",
       " (34740697790, 175657346),\n",
       " (52960885438, 175657346),\n",
       " (35831348922, 175657346),\n",
       " (52994309822, 175657346),\n",
       " (51920699066, 175657346),\n",
       " (35781000890, 175657346),\n",
       " (34740698810, 175657346),\n",
       " (52977663678, 175657346),\n",
       " (34740829886, 175657346),\n",
       " (34724051646, 175657346),\n",
       " (34723921598, 175657346),\n",
       " (35814571710, 175657346),\n",
       " (52977662650, 175657346),\n",
       " (34740812478, 175657346),\n",
       " (51920699070, 175657346),\n",
       " (35797647038, 175657346),\n",
       " (34724052670, 175657346),\n",
       " (34707259066, 175657346),\n",
       " (35797646014, 175657346),\n",
       " (35814570682, 175657346),\n",
       " (52960739006, 175657346),\n",
       " (35781016250, 175657346),\n",
       " (35831200446, 175657346),\n",
       " (34724035258, 175657346),\n",
       " (51903904446, 175657346),\n",
       " (35831332542, 175657346),\n",
       " (35831332538, 175657346),\n",
       " (35831331514, 175657346),\n",
       " (52960737978, 175657346),\n",
       " (35831201470, 175657346),\n",
       " (35781017274, 175657346),\n",
       " (35780886206, 175657346),\n",
       " (53011069626, 175657346),\n",
       " (52994423486, 175657346),\n",
       " (35797646010, 175657346),\n",
       " (53011217086, 175657346),\n",
       " (35814440638, 175657346),\n",
       " (34707275454, 175657346),\n",
       " (52960869054, 175657346),\n",
       " (51887013562, 175657346),\n",
       " (35797663418, 175657346),\n",
       " (51887143614, 175657346),\n",
       " (51886997178, 175657346),\n",
       " (51887127226, 175657346),\n",
       " (52977516218, 175657346),\n",
       " (51887128250, 175657346),\n",
       " (51920567994, 175657346),\n",
       " (34757607098, 175657346),\n",
       " (34757607102, 175657346),\n",
       " (51903921854, 175657346),\n",
       " (51920550590, 175657346),\n",
       " (34707274430, 175657346),\n",
       " (34724035262, 175657346),\n",
       " (51903774394, 175657346),\n",
       " (51887012538, 175657346),\n",
       " (51887128254, 175657346),\n",
       " (35814423226, 175657346),\n",
       " (34757476026, 175657346),\n",
       " (35814424250, 175657346),\n",
       " (51903920826, 175657346),\n",
       " (35797778110, 175657346),\n",
       " (35797793470, 175657346),\n",
       " (34740812474, 175657346),\n",
       " (34707144378, 175657346),\n",
       " (52994308794, 175657346),\n",
       " (51903790782, 175657346),\n",
       " (51937345214, 175657346),\n",
       " (35780999870, 175657346),\n",
       " (34723921594, 175657346),\n",
       " (34707259070, 175657346),\n",
       " (34740682430, 175657346),\n",
       " (51920681658, 175657346),\n",
       " (34757590718, 175657346),\n",
       " (52994440894, 175657346),\n",
       " (51937475258, 175657346),\n",
       " (51887012542, 175657346),\n",
       " (35814570686, 175657346),\n",
       " (53011087038, 175657346),\n",
       " (52994293438, 175657346),\n",
       " (52960754366, 175657346),\n",
       " (34757458622, 175657346),\n",
       " (35814423230, 175657346),\n",
       " (52977646266, 175657346),\n",
       " (34757476030, 175657346),\n",
       " (51937458878, 175657346),\n",
       " (51937344186, 175657346),\n",
       " (34740681406, 175657346),\n",
       " (35797794490, 175657346),\n",
       " (52977516222, 175657346),\n",
       " (51887013566, 175657346),\n",
       " (35780885182, 175657346),\n",
       " (53011201726, 175657346),\n",
       " (52994309818, 175657346),\n",
       " (34757459646, 175657346),\n",
       " (52977531578, 175657346),\n",
       " (51937458874, 175657346),\n",
       " (35831348926, 175657346),\n",
       " (35780868794, 175657346),\n",
       " (51937345210, 175657346),\n",
       " (35831200442, 175657346),\n",
       " (51886997182, 175657346),\n",
       " (35797793466, 175657346),\n",
       " (35831347898, 175657346),\n",
       " (52994293434, 175657346),\n",
       " (52977663674, 175657346),\n",
       " (35814555322, 175657346),\n",
       " (35797647034, 175657346),\n",
       " (34740697786, 175657346),\n",
       " (34724036286, 175657346),\n",
       " (34707126970, 175657346),\n",
       " (51886996158, 175657346),\n",
       " (34707126974, 175657346),\n",
       " (52994292414, 175657346),\n",
       " (51920566974, 175657346),\n",
       " (51920550586, 175657346),\n",
       " (51903789758, 175657346),\n",
       " (35797662398, 175657346),\n",
       " (34707258042, 175657346),\n",
       " (51920551610, 175657346),\n",
       " (51920681662, 175657346),\n",
       " (34757459642, 175657346),\n",
       " (35831331518, 175657346),\n",
       " (34757590714, 175657346),\n",
       " (52977646270, 175657346),\n",
       " (34723920570, 175657346),\n",
       " (52977515194, 175657346),\n",
       " (35831201466, 175657346),\n",
       " (53011218106, 175657346),\n",
       " (52977532606, 175657346),\n",
       " (34740829882, 175657346),\n",
       " (51937344190, 175657346),\n",
       " (34707127994, 175657346),\n",
       " (53011070650, 175657346),\n",
       " (34740682426, 175657346),\n",
       " (34757589694, 175657346),\n",
       " (34707144382, 175657346),\n",
       " (34707143354, 175657346),\n",
       " (52994424506, 175657346),\n",
       " (51920551614, 175657346),\n",
       " (52994424510, 175657346),\n",
       " (34723905214, 175657346),\n",
       " (52977515198, 175657346),\n",
       " (35814554302, 175657346),\n",
       " (52994440890, 175657346),\n",
       " (52994423482, 175657346),\n",
       " (51920682686, 175657346),\n",
       " (52960737982, 175657346),\n",
       " (51887127230, 175657346),\n",
       " (53011218110, 175657346),\n",
       " (53011200698, 175657346),\n",
       " (35797777086, 175657346),\n",
       " (35797777082, 175657346),\n",
       " (35831217850, 175657346),\n",
       " (52960886458, 175657346),\n",
       " (34707274426, 175657346),\n",
       " (35780869822, 175657346),\n",
       " (52960870078, 175657346),\n",
       " (51920698042, 175657346),\n",
       " (34757606078, 175657346),\n",
       " (35831216830, 175657346),\n",
       " (34723904186, 175657346),\n",
       " (52994439870, 175657346),\n",
       " (34757475002, 175657346),\n",
       " (51920566970, 175657346),\n",
       " (34707127998, 175657346),\n",
       " (51937327806, 175657346),\n",
       " (52960755390, 175657346),\n",
       " (53011069630, 175657346),\n",
       " (34724036476, 99681152),\n",
       " (34707258236, 99681152),\n",
       " (52977516408, 99681152),\n",
       " (51937460088, 99681152),\n",
       " (34757590904, 99681152),\n",
       " (35814439800, 99681152),\n",
       " (34740813688, 99681152),\n",
       " (52994310012, 99681152),\n",
       " (51920699260, 99681152),\n",
       " (51937344380, 99681152),\n",
       " (35797794680, 99681152),\n",
       " (34757475196, 99681152),\n",
       " (51920551800, 99681152),\n",
       " (35814570876, 99681152),\n",
       " (51887144824, 99681152),\n",
       " (51937345400, 99681152),\n",
       " (51887143800, 99681152),\n",
       " (35797777272, 99681152),\n",
       " (51887012732, 99681152),\n",
       " (34740830076, 99681152),\n",
       " (35797794684, 99681152),\n",
       " (51903774588, 99681152),\n",
       " (35780886396, 99681152),\n",
       " (35814424440, 99681152),\n",
       " (53011070844, 99681152),\n",
       " (51937476476, 99681152),\n",
       " (52960869240, 99681152),\n",
       " (34757589880, 99681152),\n",
       " (34740699004, 99681152),\n",
       " (51920550780, 99681152),\n",
       " (34707144572, 99681152),\n",
       " (35781000056, 99681152),\n",
       " (52977647480, 99681152),\n",
       " (52960885624, 99681152),\n",
       " (52994423672, 99681152),\n",
       " (35797778296, 99681152),\n",
       " (52960754556, 99681152),\n",
       " (52977531768, 99681152),\n",
       " (51920551804, 99681152),\n",
       " (51920550776, 99681152),\n",
       " (35831218040, 99681152),\n",
       " (51903905656, 99681152),\n",
       " (35780868988, 99681152),\n",
       " (53011087224, 99681152),\n",
       " (52977647484, 99681152),\n",
       " (34757458812, 99681152),\n",
       " (35831332732, 99681152),\n",
       " (52960739196, 99681152),\n",
       " (51903790972, 99681152),\n",
       " (34724052860, 99681152),\n",
       " (51887143804, 99681152),\n",
       " (52960755580, 99681152),\n",
       " (53011201916, 99681152),\n",
       " (34723921788, 99681152),\n",
       " (51887127420, 99681152),\n",
       " (35797646200, 99681152),\n",
       " (35831349116, 99681152),\n",
       " (52994424696, 99681152),\n",
       " (51920682872, 99681152),\n",
       " (35797647228, 99681152),\n",
       " (34757606264, 99681152),\n",
       " (34707275644, 99681152),\n",
       " (35797793660, 99681152),\n",
       " (52994441080, 99681152),\n",
       " (35831201656, 99681152),\n",
       " (53011086204, 99681152),\n",
       " (51920681852, 99681152),\n",
       " (52977516412, 99681152),\n",
       " (34757476220, 99681152),\n",
       " (34723905404, 99681152),\n",
       " (51903773564, 99681152),\n",
       " (34724036472, 99681152),\n",
       " (34740830072, 99681152),\n",
       " (51920568184, 99681152),\n",
       " (51920567164, 99681152),\n",
       " (35797778300, 99681152),\n",
       " (52994308984, 99681152),\n",
       " (34757607288, 99681152),\n",
       " (34723920760, 99681152),\n",
       " (51903789948, 99681152),\n",
       " (34757459836, 99681152),\n",
       " (51920682876, 99681152),\n",
       " (51903921016, 99681152),\n",
       " (34723904376, 99681152),\n",
       " (35814423420, 99681152),\n",
       " (53011087228, 99681152),\n",
       " (52960886648, 99681152),\n",
       " (51937476472, 99681152),\n",
       " (34723904380, 99681152),\n",
       " (35814571896, 99681152),\n",
       " (52960738172, 99681152),\n",
       " (35831218044, 99681152),\n",
       " (35814571900, 99681152),\n",
       " (34757589884, 99681152),\n",
       " (34723921784, 99681152),\n",
       " (34707144568, 99681152),\n",
       " (34757475192, 99681152),\n",
       " (52977646456, 99681152),\n",
       " (52977646460, 99681152),\n",
       " (51903774584, 99681152),\n",
       " (35780868984, 99681152),\n",
       " (51903922044, 99681152),\n",
       " (51886997372, 99681152),\n",
       " (35831348088, 99681152),\n",
       " (52994440056, 99681152),\n",
       " (34707143548, 99681152),\n",
       " (53011070840, 99681152),\n",
       " (35814570872, 99681152),\n",
       " (51887144828, 99681152),\n",
       " (52994440060, 99681152),\n",
       " (34707127160, 99681152),\n",
       " (35780870008, 99681152),\n",
       " (34724052856, 99681152),\n",
       " (51937459064, 99681152),\n",
       " (35831217016, 99681152),\n",
       " (35814440828, 99681152),\n",
       " (35781016440, 99681152),\n",
       " (52960869244, 99681152),\n",
       " (35831201660, 99681152),\n",
       " (34724051836, 99681152),\n",
       " (35814554492, 99681152),\n",
       " (34740813692, 99681152),\n",
       " (51887012728, 99681152),\n",
       " (34757607292, 99681152),\n",
       " (35831200632, 99681152),\n",
       " (52977663868, 99681152),\n",
       " (51886996344, 99681152),\n",
       " (35797646204, 99681152),\n",
       " (34740829048, 99681152),\n",
       " (53011200892, 99681152),\n",
       " (52977532796, 99681152),\n",
       " (51937329016, 99681152),\n",
       " (51920698236, 99681152),\n",
       " (35831217020, 99681152),\n",
       " (34740812664, 99681152),\n",
       " (51887013756, 99681152),\n",
       " (51887128440, 99681152),\n",
       " (34707128188, 99681152),\n",
       " (35781001084, 99681152),\n",
       " (52994293628, 99681152),\n",
       " (34707274620, 99681152),\n",
       " (34707259256, 99681152),\n",
       " (35831332728, 99681152),\n",
       " (34707275640, 99681152),\n",
       " (51887127416, 99681152),\n",
       " (53011218296, 99681152),\n",
       " (35797647224, 99681152),\n",
       " (35814439804, 99681152),\n",
       " (51920568188, 99681152),\n",
       " (53011218300, 99681152),\n",
       " (35814555516, 99681152),\n",
       " (52960886652, 99681152),\n",
       " (53011086200, 99681152),\n",
       " (51937345404, 99681152),\n",
       " (51903773560, 99681152),\n",
       " (34757459832, 99681152),\n",
       " (35831349112, 99681152),\n",
       " (51887013752, 99681152),\n",
       " (34740681592, 99681152),\n",
       " (34707274616, 99681152),\n",
       " (35781017468, 99681152),\n",
       " (52994292600, 99681152),\n",
       " (52960754552, 99681152),\n",
       " (35780886392, 99681152),\n",
       " (35781000060, 99681152),\n",
       " (34740697980, 99681152),\n",
       " (35831331708, 99681152),\n",
       " (53011217276, 99681152),\n",
       " (53011200888, 99681152),\n",
       " (51903922040, 99681152),\n",
       " (52994308988, 99681152),\n",
       " (35814555512, 99681152),\n",
       " (35797662588, 99681152),\n",
       " (51937475452, 99681152),\n",
       " (52960870268, 99681152),\n",
       " (51937327996, 99681152),\n",
       " (52977531772, 99681152),\n",
       " (34740697976, 99681152),\n",
       " (52994423676, 99681152),\n",
       " (34740699000, 99681152),\n",
       " (51937329020, 99681152),\n",
       " (52994441084, 99681152),\n",
       " (51937475448, 99681152),\n",
       " (34740829052, 99681152),\n",
       " (51920681848, 99681152),\n",
       " (35781001080, 99681152),\n",
       " (34724051832, 99681152),\n",
       " (35780885368, 99681152),\n",
       " (51903904636, 99681152),\n",
       " (35814424444, 99681152),\n",
       " (52960870264, 99681152),\n",
       " (53011069816, 99681152),\n",
       " (52977515388, 99681152),\n",
       " (51903905660, 99681152),\n",
       " (53011217272, 99681152),\n",
       " (51920698232, 99681152),\n",
       " (35814440824, 99681152),\n",
       " (35814423416, 99681152),\n",
       " (34757458808, 99681152),\n",
       " (51903904632, 99681152),\n",
       " (52960738168, 99681152),\n",
       " (52977662840, 99681152),\n",
       " (52994310008, 99681152),\n",
       " (51920567160, 99681152),\n",
       " (51903789944, 99681152),\n",
       " (35797793656, 99681152),\n",
       " (34724035452, 99681152),\n",
       " (34740681596, 99681152),\n",
       " (34723905400, 99681152),\n",
       " (51886997368, 99681152),\n",
       " (34707143544, 99681152),\n",
       " (52960885628, 99681152),\n",
       " (51937459068, 99681152),\n",
       " (35831200636, 99681152),\n",
       " (35797777276, 99681152),\n",
       " (35780870012, 99681152),\n",
       " (51920699256, 99681152),\n",
       " (52994293624, 99681152),\n",
       " (51937327992, 99681152),\n",
       " (52994424700, 99681152),\n",
       " (51937460092, 99681152),\n",
       " (34707128184, 99681152),\n",
       " (34757590908, 99681152),\n",
       " (51886996348, 99681152),\n",
       " (35814554488, 99681152),\n",
       " (51903921020, 99681152),\n",
       " (53011201912, 99681152),\n",
       " (34740812668, 99681152),\n",
       " (35781017464, 99681152),\n",
       " (34724035448, 99681152),\n",
       " (51903790968, 99681152),\n",
       " (52960755576, 99681152),\n",
       " ...]"
      ]
     },
     "execution_count": 188,
     "metadata": {},
     "output_type": "execute_result"
    }
   ],
   "source": [
    "# Takes too long to run...\n",
    "\n",
    "# memory = []\n",
    "# for group in split_rules[:2]:\n",
    "#     overwritter_two(group, memory)"
   ]
  },
  {
   "cell_type": "code",
   "execution_count": null,
   "metadata": {},
   "outputs": [],
   "source": []
  }
 ],
 "metadata": {
  "kernelspec": {
   "display_name": "Python 3",
   "language": "python",
   "name": "python3"
  },
  "language_info": {
   "codemirror_mode": {
    "name": "ipython",
    "version": 3
   },
   "file_extension": ".py",
   "mimetype": "text/x-python",
   "name": "python",
   "nbconvert_exporter": "python",
   "pygments_lexer": "ipython3",
   "version": "3.7.6"
  }
 },
 "nbformat": 4,
 "nbformat_minor": 4
}
