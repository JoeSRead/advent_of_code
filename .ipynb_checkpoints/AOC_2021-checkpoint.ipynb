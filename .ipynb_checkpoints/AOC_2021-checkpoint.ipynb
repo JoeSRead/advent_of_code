{
 "cells": [
  {
   "cell_type": "code",
   "execution_count": 1,
   "metadata": {},
   "outputs": [],
   "source": [
    "import numpy as np\n",
    "import timeit"
   ]
  },
  {
   "cell_type": "markdown",
   "metadata": {},
   "source": [
    "# Day 1"
   ]
  },
  {
   "cell_type": "code",
   "execution_count": 2,
   "metadata": {},
   "outputs": [
    {
     "name": "stdout",
     "output_type": "stream",
     "text": [
      "Star 1 :1709\n",
      "Star 1 :1761\n",
      "CPU times: user 4.05 ms, sys: 1.79 ms, total: 5.84 ms\n",
      "Wall time: 5.62 ms\n"
     ]
    }
   ],
   "source": [
    "%%time\n",
    "with open('data/2021/d1.txt') as f:\n",
    "    td = list(map(int, f.readlines()))\n",
    "\n",
    "print(f\"Star 1 :{sum([1 for i in range(len(td) -1) if td[i] < td[i+1]])}\")\n",
    "\n",
    "print(f\"Star 1 :{sum([1 for i in range(len(td) -3) if (td[i] + td[i+1] + td[i+2]) < (td[i+1] + td[i+2] + td[i+3])])}\")\n"
   ]
  },
  {
   "cell_type": "code",
   "execution_count": 3,
   "metadata": {},
   "outputs": [
    {
     "data": {
      "text/plain": [
       "0.0023115211999999996"
      ]
     },
     "execution_count": 3,
     "metadata": {},
     "output_type": "execute_result"
    }
   ],
   "source": [
    "reps = 100\n",
    "\n",
    "timeit.timeit(\"\"\"\n",
    "with open('data/2021/d1.txt') as f:\n",
    "    td = list(map(int, f.readlines()))\n",
    "    \n",
    "sum([1 for i in range(len(td) -1) if td[i] < td[i+1]])\n",
    "\n",
    "sum([1 for i in range(len(td) -3) if (td[i] + td[i+1] + td[i+2]) < (td[i+1] + td[i+2] + td[i+3])])\n",
    "\"\"\", number=reps)/reps"
   ]
  },
  {
   "cell_type": "markdown",
   "metadata": {},
   "source": [
    "# Day 2"
   ]
  },
  {
   "cell_type": "code",
   "execution_count": 4,
   "metadata": {},
   "outputs": [],
   "source": [
    "with open('data/2021/d2.txt') as f:\n",
    "    course = list(f.read().split('\\n'))\n",
    "    "
   ]
  },
  {
   "cell_type": "code",
   "execution_count": 5,
   "metadata": {},
   "outputs": [
    {
     "name": "stdout",
     "output_type": "stream",
     "text": [
      "7\n"
     ]
    }
   ],
   "source": [
    "if 'down' in course[1]:\n",
    "    print(int(course[1].split(' ')[1]))"
   ]
  },
  {
   "cell_type": "code",
   "execution_count": 6,
   "metadata": {},
   "outputs": [
    {
     "name": "stdout",
     "output_type": "stream",
     "text": [
      "CPU times: user 1.11 ms, sys: 33 µs, total: 1.14 ms\n",
      "Wall time: 1.67 ms\n"
     ]
    },
    {
     "data": {
      "text/plain": [
       "1561344"
      ]
     },
     "execution_count": 6,
     "metadata": {},
     "output_type": "execute_result"
    }
   ],
   "source": [
    "%%time\n",
    "depth = 0\n",
    "frwd = 0\n",
    "\n",
    "for line in course:\n",
    "    if 'down' in line:\n",
    "        depth += int(line.split(' ')[1])\n",
    "    if 'up' in line:\n",
    "        depth -= int(line.split(' ')[1])\n",
    "    if 'forward' in line:\n",
    "        frwd += int(line.split(' ')[1])\n",
    "depth*frwd        "
   ]
  },
  {
   "cell_type": "code",
   "execution_count": 7,
   "metadata": {},
   "outputs": [
    {
     "name": "stdout",
     "output_type": "stream",
     "text": [
      "CPU times: user 986 µs, sys: 1e+03 ns, total: 987 µs\n",
      "Wall time: 997 µs\n"
     ]
    },
    {
     "data": {
      "text/plain": [
       "1848454425"
      ]
     },
     "execution_count": 7,
     "metadata": {},
     "output_type": "execute_result"
    }
   ],
   "source": [
    "%%time\n",
    "depth = 0\n",
    "frwd = 0\n",
    "aim = 0\n",
    "\n",
    "for line in course:\n",
    "    if 'down' in line:\n",
    "        aim += int(line.split(' ')[1])\n",
    "    if 'up' in line:\n",
    "        aim -= int(line.split(' ')[1])\n",
    "    if 'forward' in line:\n",
    "        frwd += int(line.split(' ')[1])\n",
    "        depth += aim*int(line.split(' ')[1])\n",
    "frwd*depth"
   ]
  },
  {
   "cell_type": "markdown",
   "metadata": {},
   "source": [
    "# Day 3"
   ]
  },
  {
   "cell_type": "code",
   "execution_count": 8,
   "metadata": {},
   "outputs": [],
   "source": [
    "with open('data/2021/d3.txt') as f:\n",
    "    diag = list(f.read().split('\\n'))"
   ]
  },
  {
   "cell_type": "code",
   "execution_count": 9,
   "metadata": {},
   "outputs": [
    {
     "data": {
      "text/plain": [
       "12"
      ]
     },
     "execution_count": 9,
     "metadata": {},
     "output_type": "execute_result"
    }
   ],
   "source": [
    "len(diag[0])"
   ]
  },
  {
   "cell_type": "code",
   "execution_count": 10,
   "metadata": {},
   "outputs": [],
   "source": [
    "diag = diag[:-1]"
   ]
  },
  {
   "cell_type": "code",
   "execution_count": 11,
   "metadata": {},
   "outputs": [
    {
     "data": {
      "text/plain": [
       "'100010001111'"
      ]
     },
     "execution_count": 11,
     "metadata": {},
     "output_type": "execute_result"
    }
   ],
   "source": [
    "diag[-1]"
   ]
  },
  {
   "cell_type": "code",
   "execution_count": 12,
   "metadata": {},
   "outputs": [
    {
     "data": {
      "text/plain": [
       "1000"
      ]
     },
     "execution_count": 12,
     "metadata": {},
     "output_type": "execute_result"
    }
   ],
   "source": [
    "len(diag)"
   ]
  },
  {
   "cell_type": "code",
   "execution_count": 13,
   "metadata": {},
   "outputs": [
    {
     "data": {
      "text/plain": [
       "'1'"
      ]
     },
     "execution_count": 13,
     "metadata": {},
     "output_type": "execute_result"
    }
   ],
   "source": [
    "diag[999][11]"
   ]
  },
  {
   "cell_type": "code",
   "execution_count": 14,
   "metadata": {},
   "outputs": [],
   "source": [
    "diag_t = []\n",
    "for i in range(len(diag[0])):\n",
    "    r = ''\n",
    "    for j in range(len(diag)):\n",
    "        r += diag[j][i]\n",
    "    diag_t.append(r)\n",
    "diag_t;"
   ]
  },
  {
   "cell_type": "code",
   "execution_count": 15,
   "metadata": {},
   "outputs": [
    {
     "name": "stdout",
     "output_type": "stream",
     "text": [
      "CPU times: user 3 µs, sys: 0 ns, total: 3 µs\n",
      "Wall time: 5.96 µs\n"
     ]
    },
    {
     "data": {
      "text/plain": [
       "4139586"
      ]
     },
     "execution_count": 15,
     "metadata": {},
     "output_type": "execute_result"
    }
   ],
   "source": [
    "%time\n",
    "gam = ''\n",
    "ep = ''\n",
    "for col in diag_t:\n",
    "    if col.count('1') > 500:\n",
    "        gam += '1'\n",
    "        ep += '0'\n",
    "    else:\n",
    "        gam += '0'\n",
    "        ep += '1'\n",
    "int(gam, 2)*int(ep,2)"
   ]
  },
  {
   "cell_type": "code",
   "execution_count": 16,
   "metadata": {},
   "outputs": [
    {
     "name": "stdout",
     "output_type": "stream",
     "text": [
      "2277 1818\n"
     ]
    }
   ],
   "source": [
    "print(int(gam, 2), int(ep,2))"
   ]
  },
  {
   "cell_type": "code",
   "execution_count": 17,
   "metadata": {},
   "outputs": [
    {
     "data": {
      "text/plain": [
       "4139586"
      ]
     },
     "execution_count": 17,
     "metadata": {},
     "output_type": "execute_result"
    }
   ],
   "source": [
    "int(gam, 2)*int(ep,2)"
   ]
  },
  {
   "cell_type": "code",
   "execution_count": 18,
   "metadata": {},
   "outputs": [
    {
     "data": {
      "text/plain": [
       "2277"
      ]
     },
     "execution_count": 18,
     "metadata": {},
     "output_type": "execute_result"
    }
   ],
   "source": [
    "int(''.join([str(sum([int(diag[j][i]) for j in range(len(diag))])//(int(len(diag)/2))) for i in range(len(diag[0]))]), 2)"
   ]
  },
  {
   "cell_type": "code",
   "execution_count": 19,
   "metadata": {},
   "outputs": [
    {
     "data": {
      "text/plain": [
       "'011100011010'"
      ]
     },
     "execution_count": 19,
     "metadata": {},
     "output_type": "execute_result"
    }
   ],
   "source": [
    "ep"
   ]
  },
  {
   "cell_type": "code",
   "execution_count": 20,
   "metadata": {},
   "outputs": [
    {
     "data": {
      "text/plain": [
       "1818"
      ]
     },
     "execution_count": 20,
     "metadata": {},
     "output_type": "execute_result"
    }
   ],
   "source": [
    "int(''.join(['0' if str(sum([int(diag[j][i]) for j in range(len(diag))])//(int(len(diag)/2))) == '1' else '1' for i in range(len(diag[0]))]), 2)"
   ]
  },
  {
   "cell_type": "code",
   "execution_count": 21,
   "metadata": {},
   "outputs": [
    {
     "name": "stdout",
     "output_type": "stream",
     "text": [
      "CPU times: user 2 µs, sys: 1e+03 ns, total: 3 µs\n",
      "Wall time: 6.2 µs\n"
     ]
    },
    {
     "data": {
      "text/plain": [
       "4139586"
      ]
     },
     "execution_count": 21,
     "metadata": {},
     "output_type": "execute_result"
    }
   ],
   "source": [
    "%time\n",
    "\n",
    "int(''.join(['0' if str(sum([int(diag[j][i]) for j in range(len(diag))])//(int(len(diag)/2))) == '1' else '1' for i in range(len(diag[0]))]), 2)*int(''.join([str(sum([int(diag[j][i]) for j in range(len(diag))])//(int(len(diag)/2))) for i in range(len(diag[0]))]), 2)"
   ]
  },
  {
   "cell_type": "markdown",
   "metadata": {},
   "source": [
    "work out most common in i\n",
    "go through and drop element without most common in i"
   ]
  },
  {
   "cell_type": "code",
   "execution_count": 22,
   "metadata": {},
   "outputs": [
    {
     "data": {
      "text/plain": [
       "1"
      ]
     },
     "execution_count": 22,
     "metadata": {},
     "output_type": "execute_result"
    }
   ],
   "source": [
    "sum([int(diag[i][0]) for i in range(len(diag))])//(int(len(diag)/2))"
   ]
  },
  {
   "cell_type": "code",
   "execution_count": 23,
   "metadata": {},
   "outputs": [
    {
     "data": {
      "text/plain": [
       "'100011100101'"
      ]
     },
     "execution_count": 23,
     "metadata": {},
     "output_type": "execute_result"
    }
   ],
   "source": [
    "gam"
   ]
  },
  {
   "cell_type": "code",
   "execution_count": 24,
   "metadata": {},
   "outputs": [
    {
     "data": {
      "text/plain": [
       "2539"
      ]
     },
     "execution_count": 24,
     "metadata": {},
     "output_type": "execute_result"
    }
   ],
   "source": [
    "width = len(diag[0])\n",
    "\n",
    "diag_ogr = diag\n",
    "\n",
    "for index in range(width):\n",
    "    if len(diag_ogr) == 1:\n",
    "        break\n",
    "    most_common = int(sum([int(diag_ogr[i][index]) for i in range(len(diag_ogr))])//(len(diag_ogr)/2))\n",
    "    sub_lst = []\n",
    "    for row in diag_ogr:\n",
    "        if int(row[index]) == most_common:\n",
    "            sub_lst.append(row)\n",
    "    diag_ogr = sub_lst   \n",
    "int(diag_ogr[0], 2)"
   ]
  },
  {
   "cell_type": "code",
   "execution_count": 25,
   "metadata": {},
   "outputs": [
    {
     "data": {
      "text/plain": [
       "709"
      ]
     },
     "execution_count": 25,
     "metadata": {},
     "output_type": "execute_result"
    }
   ],
   "source": [
    "width = len(diag[0])\n",
    "\n",
    "diag_csr = diag\n",
    "\n",
    "for index in range(width):\n",
    "    if len(diag_csr) == 1:\n",
    "        break\n",
    "    most_common = int(sum([int(diag_csr[i][index]) for i in range(len(diag_csr))])//(len(diag_csr)/2))\n",
    "    sub_lst = []\n",
    "    for row in diag_csr:\n",
    "        if int(row[index]) != most_common:\n",
    "            sub_lst.append(row)\n",
    "    diag_csr = sub_lst   \n",
    "\n",
    "int(diag_csr[0], 2)"
   ]
  },
  {
   "cell_type": "code",
   "execution_count": 26,
   "metadata": {},
   "outputs": [
    {
     "data": {
      "text/plain": [
       "1800151"
      ]
     },
     "execution_count": 26,
     "metadata": {},
     "output_type": "execute_result"
    }
   ],
   "source": [
    "int(diag_ogr[0], 2)*int(diag_csr[0],2)"
   ]
  },
  {
   "cell_type": "code",
   "execution_count": null,
   "metadata": {},
   "outputs": [],
   "source": []
  },
  {
   "cell_type": "code",
   "execution_count": 65,
   "metadata": {},
   "outputs": [
    {
     "name": "stdout",
     "output_type": "stream",
     "text": [
      "CPU times: user 4 µs, sys: 1 µs, total: 5 µs\n",
      "Wall time: 8.11 µs\n"
     ]
    },
    {
     "data": {
      "text/plain": [
       "4139586"
      ]
     },
     "execution_count": 65,
     "metadata": {},
     "output_type": "execute_result"
    }
   ],
   "source": [
    "%time\n",
    "with open('data/2021/d3.txt') as f:\n",
    "    tt = f.read().replace('\\n', '')\n",
    "    \n",
    "a = int(''.join([str(tt[i::12].count('1')//int(len(tt[::12])/2)) for i in range(12)]), 2)\n",
    "b = int(''.join([str(tt[i::12].count('0')//int(len(tt[::12])/2)) for i in range(12)]), 2)\n",
    "a*b"
   ]
  },
  {
   "cell_type": "code",
   "execution_count": 64,
   "metadata": {},
   "outputs": [
    {
     "name": "stdout",
     "output_type": "stream",
     "text": [
      "CPU times: user 3 µs, sys: 1e+03 ns, total: 4 µs\n",
      "Wall time: 7.39 µs\n"
     ]
    },
    {
     "data": {
      "text/plain": [
       "4139586"
      ]
     },
     "execution_count": 64,
     "metadata": {},
     "output_type": "execute_result"
    }
   ],
   "source": [
    "%time\n",
    "int(''.join([str(tt[i::12].count('1')//int(len(tt[::12])/2)) for i in range(12)]), 2)\n",
    "int(''.join([str(tt[i::12].count('0')//int(len(tt[::12])/2)) for i in range(12)]), 2)"
   ]
  },
  {
   "cell_type": "code",
   "execution_count": null,
   "metadata": {},
   "outputs": [],
   "source": []
  },
  {
   "cell_type": "markdown",
   "metadata": {},
   "source": [
    "# Day 4"
   ]
  },
  {
   "cell_type": "code",
   "execution_count": 28,
   "metadata": {},
   "outputs": [],
   "source": [
    "# with open('data/2021/d4.txt') as f:\n",
    "    "
   ]
  },
  {
   "cell_type": "markdown",
   "metadata": {},
   "source": [
    "# Day 5"
   ]
  },
  {
   "cell_type": "code",
   "execution_count": 28,
   "metadata": {},
   "outputs": [],
   "source": [
    "# with open('data/2021/d5.txt') as f:\n",
    "    "
   ]
  },
  {
   "cell_type": "markdown",
   "metadata": {},
   "source": [
    "# Day 6"
   ]
  },
  {
   "cell_type": "code",
   "execution_count": 28,
   "metadata": {},
   "outputs": [],
   "source": [
    "# with open('data/2021/d6.txt') as f:\n",
    "    "
   ]
  }
 ],
 "metadata": {
  "kernelspec": {
   "display_name": "Python 3 (ipykernel)",
   "language": "python",
   "name": "python3"
  },
  "language_info": {
   "codemirror_mode": {
    "name": "ipython",
    "version": 3
   },
   "file_extension": ".py",
   "mimetype": "text/x-python",
   "name": "python",
   "nbconvert_exporter": "python",
   "pygments_lexer": "ipython3",
   "version": "3.9.12"
  }
 },
 "nbformat": 4,
 "nbformat_minor": 4
}
