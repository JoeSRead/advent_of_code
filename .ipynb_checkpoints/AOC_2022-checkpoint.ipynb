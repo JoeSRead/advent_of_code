{
 "cells": [
  {
   "cell_type": "code",
   "execution_count": 1,
   "id": "08331657-2020-4e6b-9c27-bd4b862a2ae4",
   "metadata": {},
   "outputs": [],
   "source": [
    "import numpy as np\n",
    "import timeit"
   ]
  },
  {
   "cell_type": "markdown",
   "id": "cf64577c-6884-41a4-8c30-b82136701c73",
   "metadata": {},
   "source": [
    "# Day 1"
   ]
  },
  {
   "cell_type": "code",
   "execution_count": 2,
   "id": "a046aa67-f2b7-4db7-9893-ccf9679f9063",
   "metadata": {
    "tags": []
   },
   "outputs": [
    {
     "data": {
      "text/plain": [
       "['62797', '', '1137', '6086', '6104', '1895', '7909', '1651', '4973', '6964']"
      ]
     },
     "execution_count": 2,
     "metadata": {},
     "output_type": "execute_result"
    }
   ],
   "source": [
    "with open('data/2022/d1.txt') as f:\n",
    "    lines = list(f.read().split('\\n'))\n",
    "lines[:10]"
   ]
  },
  {
   "cell_type": "code",
   "execution_count": 3,
   "id": "569f9703-cf57-474e-8438-953835e0af60",
   "metadata": {},
   "outputs": [
    {
     "name": "stdout",
     "output_type": "stream",
     "text": [
      "Star 1: 68442 and Star 2: 204837\n",
      "CPU times: user 1.48 ms, sys: 276 µs, total: 1.76 ms\n",
      "Wall time: 1.89 ms\n"
     ]
    }
   ],
   "source": [
    "%%time\n",
    "\n",
    "lofl = []\n",
    "sblst = []\n",
    "for elm in lines:\n",
    "    if elm != '':\n",
    "        sblst.append(int(elm))\n",
    "    elif elm == '':\n",
    "        lofl.append(sblst)\n",
    "        sblst = []\n",
    "    else:\n",
    "        lofl.append(sblst)\n",
    "        \n",
    "print(f\"Star 1: {max([sum(sb) for sb in lofl])} and Star 2: {sum(sorted([sum(sb) for sb in lofl])[-3:])}\")"
   ]
  },
  {
   "cell_type": "code",
   "execution_count": 4,
   "id": "a8eb9b96-fa7e-45cc-99a5-6dac2176e580",
   "metadata": {},
   "outputs": [
    {
     "name": "stdout",
     "output_type": "stream",
     "text": [
      "Star 1: 68442 and Star 2: 204837\n",
      "CPU times: user 625 µs, sys: 11 µs, total: 636 µs\n",
      "Wall time: 647 µs\n"
     ]
    }
   ],
   "source": [
    "%%time\n",
    "# Refactored but slower or equiv?\n",
    "\n",
    "lofl = []\n",
    "sm = []\n",
    "\n",
    "for elm in lines:\n",
    "    \n",
    "    if elm != '':\n",
    "        sm.append(int(elm))\n",
    "        \n",
    "    elif elm == '':\n",
    "        lofl.append(sum(sm))\n",
    "        sm = []\n",
    "        \n",
    "    else:\n",
    "        lofl.append(sblst)\n",
    "        \n",
    "lofl = sorted(lofl)\n",
    "        \n",
    "print(f\"Star 1: {max(lofl)} and Star 2: {sum(lofl[-3:])}\")"
   ]
  },
  {
   "cell_type": "code",
   "execution_count": null,
   "id": "2f3cc1ee-2c65-4ddf-af81-973d40de9d84",
   "metadata": {},
   "outputs": [],
   "source": []
  },
  {
   "cell_type": "markdown",
   "id": "2cf64fce-6f4c-4857-8138-1ce5a37ca5f7",
   "metadata": {},
   "source": [
    "# Day 2"
   ]
  },
  {
   "cell_type": "code",
   "execution_count": 5,
   "id": "a365907c-7a78-464b-8df0-62a9a1866af8",
   "metadata": {},
   "outputs": [
    {
     "data": {
      "text/plain": [
       "['B Y', 'A X', 'B Y', 'A Y', 'A Z', 'B Y', 'B Z', 'C Y', 'A X', 'C X']"
      ]
     },
     "execution_count": 5,
     "metadata": {},
     "output_type": "execute_result"
    }
   ],
   "source": [
    "with open('data/2022/d2.txt') as f:\n",
    "    lines = list(f.read().split('\\n'))\n",
    "lines[:10]"
   ]
  },
  {
   "cell_type": "markdown",
   "id": "0d2468d4-e483-4dee-b266-c38fc160f651",
   "metadata": {},
   "source": [
    "A for Rock, B for Paper, and C for Scissors. The second column--\" Suddenly, the Elf is called away to help with someone's tent.\n",
    "\n",
    "The second column, you reason, must be what you should play in response: X for Rock, Y for Paper, and Z for Scissors. Winning every time would be suspicious, so the responses must have been carefully chosen.\n",
    "\n",
    "The winner of the whole tournament is the player with the highest score. Your total score is the sum of your scores for each round. The score for a single round is the score for the shape you selected (1 for Rock, 2 for Paper, and 3 for Scissors) plus the score for the outcome of the round (0 if you lost, 3 if the round was a draw, and 6 if you won)."
   ]
  },
  {
   "cell_type": "code",
   "execution_count": 6,
   "id": "62908052-a2ac-474f-a1d1-bc7718e75534",
   "metadata": {},
   "outputs": [],
   "source": [
    "scores = {'A Z': 0, 'A X':3, 'A Y': 6, 'B X':0, 'B Y':3, 'B Z':6, 'C X':6, 'C Y':0, 'C Z':3, 'X':1, 'Y':2, 'Z':3}"
   ]
  },
  {
   "cell_type": "code",
   "execution_count": 7,
   "id": "659ff198-21e8-4cdd-b30d-9c3cdd3bb62d",
   "metadata": {},
   "outputs": [],
   "source": [
    "tst = ['A Y', 'B X', 'C Z']"
   ]
  },
  {
   "cell_type": "code",
   "execution_count": 8,
   "id": "e83ac869-9c1d-4f15-b515-2e6112341321",
   "metadata": {},
   "outputs": [
    {
     "name": "stdout",
     "output_type": "stream",
     "text": [
      "8\n",
      "9\n",
      "15\n"
     ]
    },
    {
     "data": {
      "text/plain": [
       "15"
      ]
     },
     "execution_count": 8,
     "metadata": {},
     "output_type": "execute_result"
    }
   ],
   "source": [
    "score = 0\n",
    "for pair in tst:\n",
    "    score += scores[pair]\n",
    "    score += scores[pair[-1]]\n",
    "    print(score)\n",
    "score"
   ]
  },
  {
   "cell_type": "code",
   "execution_count": 9,
   "id": "2d06244f-79b7-4909-aec5-c40beaaf34fc",
   "metadata": {},
   "outputs": [
    {
     "name": "stdout",
     "output_type": "stream",
     "text": [
      "CPU times: user 543 µs, sys: 9 µs, total: 552 µs\n",
      "Wall time: 553 µs\n"
     ]
    },
    {
     "data": {
      "text/plain": [
       "12740"
      ]
     },
     "execution_count": 9,
     "metadata": {},
     "output_type": "execute_result"
    }
   ],
   "source": [
    "%%time\n",
    "\n",
    "score = 0\n",
    "for pair in lines[:-1]:\n",
    "    score += scores[pair]\n",
    "    score += scores[pair[-1]]\n",
    "score"
   ]
  },
  {
   "cell_type": "markdown",
   "id": "a9d98abc-be13-4157-9ed3-1957cf41798c",
   "metadata": {},
   "source": [
    "X means you need to lose, Y means you need to end the round in a draw, and Z means you need to win.\n",
    "\n",
    "Elf: A for Rock, B for Paper, and C for Scissors.\n",
    "\n",
    "Me: X for Rock, Y for Paper, and Z for Scissors."
   ]
  },
  {
   "cell_type": "code",
   "execution_count": 10,
   "id": "1c053d66-261a-4dc6-8f5f-53cc31c2e2ae",
   "metadata": {},
   "outputs": [],
   "source": [
    "choice = {'A X':'Z', 'A Y':'X', 'A Z':'Y', \n",
    "          'B X':'X', 'B Y':'Y', 'B Z':'Z',\n",
    "          'C X':'Y', 'C Y':'Z', 'C Z':'X'}"
   ]
  },
  {
   "cell_type": "code",
   "execution_count": 11,
   "id": "c8912455-d1c4-41e2-abd5-5c40e22cb914",
   "metadata": {},
   "outputs": [
    {
     "data": {
      "text/plain": [
       "12"
      ]
     },
     "execution_count": 11,
     "metadata": {},
     "output_type": "execute_result"
    }
   ],
   "source": [
    "score = 0\n",
    "for pair in tst:\n",
    "    new_choice = choice[pair]\n",
    "    \n",
    "    new_pair = pair[0:2] + new_choice\n",
    "    score += scores[new_pair]\n",
    "    score += scores[new_choice]\n",
    "score"
   ]
  },
  {
   "cell_type": "code",
   "execution_count": 12,
   "id": "42e03b00-b625-42fd-a3f6-ecc1781c2736",
   "metadata": {},
   "outputs": [
    {
     "name": "stdout",
     "output_type": "stream",
     "text": [
      "CPU times: user 944 µs, sys: 18 µs, total: 962 µs\n",
      "Wall time: 965 µs\n"
     ]
    },
    {
     "data": {
      "text/plain": [
       "11980"
      ]
     },
     "execution_count": 12,
     "metadata": {},
     "output_type": "execute_result"
    }
   ],
   "source": [
    "%%time\n",
    "\n",
    "score = 0\n",
    "for pair in lines[:-1]:\n",
    "    new_choice = choice[pair]\n",
    "    \n",
    "    new_pair = pair[0:2] + new_choice\n",
    "    score += scores[new_pair]\n",
    "    score += scores[new_choice]\n",
    "score"
   ]
  },
  {
   "cell_type": "code",
   "execution_count": null,
   "id": "ac31d308-abce-449f-ab48-89a7fdaad08c",
   "metadata": {},
   "outputs": [],
   "source": []
  },
  {
   "cell_type": "markdown",
   "id": "9c2506df-fbc5-40fa-a2ee-a655159c03b0",
   "metadata": {},
   "source": [
    "# Day 3"
   ]
  },
  {
   "cell_type": "code",
   "execution_count": 13,
   "id": "36c5a3b8-6f3e-4a00-8d38-61cab6e47305",
   "metadata": {},
   "outputs": [
    {
     "data": {
      "text/plain": [
       "['tdltdtmhlRNCBcwmHr',\n",
       " 'WDzDPnvvGnsWLWpGJJHRzCCRZNBRrRwMNwHH',\n",
       " 'DsDsQnJDnWsJnJvrQDPJddgShFQhjljqhggbdbbt',\n",
       " 'LqvbLLTdvlfdqTLtbvDSRHPhHmRSnndHnHRM',\n",
       " 'jswsGgzwsNgNWNwGJzVrgSHnhHHDmShmmGShnMDPRn']"
      ]
     },
     "execution_count": 13,
     "metadata": {},
     "output_type": "execute_result"
    }
   ],
   "source": [
    "with open('data/2022/d3.txt') as f:\n",
    "    lines = list(f.read().split('\\n'))\n",
    "lines[:5]"
   ]
  },
  {
   "cell_type": "markdown",
   "id": "733fd26b-73c1-41b1-8ee4-98741524a216",
   "metadata": {},
   "source": [
    "Lowercase item types a through z have priorities 1 through 26.\n",
    "\n",
    "Uppercase item types A through Z have priorities 27 through 52."
   ]
  },
  {
   "cell_type": "code",
   "execution_count": 14,
   "id": "86984377-a776-4004-b751-4e1d34a538cf",
   "metadata": {},
   "outputs": [
    {
     "name": "stdout",
     "output_type": "stream",
     "text": [
      "1 26\n"
     ]
    }
   ],
   "source": [
    "print(ord('a')-96, ord('z')-96)"
   ]
  },
  {
   "cell_type": "code",
   "execution_count": 15,
   "id": "1ac857ae-e791-43b4-9c54-2a9f92784c46",
   "metadata": {},
   "outputs": [
    {
     "name": "stdout",
     "output_type": "stream",
     "text": [
      "27 52\n"
     ]
    }
   ],
   "source": [
    "print(ord('A')-38, ord('Z')-38)"
   ]
  },
  {
   "cell_type": "code",
   "execution_count": 16,
   "id": "5920b674-c465-4ae0-ae50-625f65be1202",
   "metadata": {},
   "outputs": [],
   "source": [
    "def priority(st):\n",
    "    if st.isupper():\n",
    "        return ord(st) - 38\n",
    "    else:\n",
    "        return ord(st) - 96"
   ]
  },
  {
   "cell_type": "code",
   "execution_count": 17,
   "id": "4b50c421-5ce7-4d6d-aafe-1bdb18de8719",
   "metadata": {},
   "outputs": [
    {
     "data": {
      "text/plain": [
       "52"
      ]
     },
     "execution_count": 17,
     "metadata": {},
     "output_type": "execute_result"
    }
   ],
   "source": [
    "priority('Z')"
   ]
  },
  {
   "cell_type": "code",
   "execution_count": 18,
   "id": "491b7031-333f-479b-9b6b-b2137b60058e",
   "metadata": {},
   "outputs": [],
   "source": [
    "tst = [\"vJrwpWtwJgWrhcsFMMfFFhFp\",\n",
    "       \"jqHRNqRjqzjGDLGLrsFMfFZSrLrFZsSL\",\n",
    "       'PmmdzqPrVvPwwTWBwg',\n",
    "       \"wMqvLMZHhHMvwLHjbvcjnnSBnvTQFn\",\n",
    "       \"ttgJtRGJQctTZtZT\",\n",
    "       \"CrZsJsPPZsGzwwsLwLmpwMDw\"]"
   ]
  },
  {
   "cell_type": "code",
   "execution_count": 19,
   "id": "322216d5-ae2b-43cb-babe-974f6024cc8b",
   "metadata": {},
   "outputs": [
    {
     "name": "stdout",
     "output_type": "stream",
     "text": [
      "p 16\n",
      "L 38\n",
      "P 42\n",
      "v 22\n",
      "t 20\n",
      "s 19\n"
     ]
    },
    {
     "data": {
      "text/plain": [
       "157"
      ]
     },
     "execution_count": 19,
     "metadata": {},
     "output_type": "execute_result"
    }
   ],
   "source": [
    "total = 0\n",
    "for elm in tst:\n",
    "    ln = len(elm)\n",
    "    first, second = elm[:int(ln/2)], elm[int(ln/2):]\n",
    "    for item in first:\n",
    "        if item in second:\n",
    "            print(item, priority(item))\n",
    "            total += priority(item)\n",
    "            break\n",
    "total"
   ]
  },
  {
   "cell_type": "code",
   "execution_count": 20,
   "id": "ad963855-903c-4d95-af76-8c4457b68899",
   "metadata": {},
   "outputs": [
    {
     "name": "stdout",
     "output_type": "stream",
     "text": [
      "CPU times: user 360 µs, sys: 1e+03 ns, total: 361 µs\n",
      "Wall time: 363 µs\n"
     ]
    },
    {
     "data": {
      "text/plain": [
       "7872"
      ]
     },
     "execution_count": 20,
     "metadata": {},
     "output_type": "execute_result"
    }
   ],
   "source": [
    "%%time\n",
    "\n",
    "total = 0\n",
    "for elm in lines:\n",
    "    ln = len(elm)\n",
    "    first, second = elm[:int(ln/2)], elm[int(ln/2):]\n",
    "    for item in first:\n",
    "        if item in second:\n",
    "            total += priority(item)\n",
    "            break\n",
    "total"
   ]
  },
  {
   "cell_type": "code",
   "execution_count": 21,
   "id": "b4bc94a3-5ac8-4019-bf56-4ed5340205d3",
   "metadata": {},
   "outputs": [],
   "source": [
    "def find_shortest(lst_of_lst):\n",
    "\n",
    "    lns = [len(lst) for lst in lst_of_lst]\n",
    "    \n",
    "    return lst_of_lst[lns.index(min(lns))]\n"
   ]
  },
  {
   "cell_type": "code",
   "execution_count": 22,
   "id": "8f676936-1acc-4dda-a17d-b59c655e5b25",
   "metadata": {},
   "outputs": [
    {
     "data": {
      "text/plain": [
       "'a'"
      ]
     },
     "execution_count": 22,
     "metadata": {},
     "output_type": "execute_result"
    }
   ],
   "source": [
    "find_shortest(['a', 'ahah', 'ajs'])"
   ]
  },
  {
   "cell_type": "code",
   "execution_count": 23,
   "id": "3fde95a4-374f-44b9-8b61-221bdb00a591",
   "metadata": {},
   "outputs": [
    {
     "data": {
      "text/plain": [
       "['vJrwpWtwJgWrhcsFMMfFFhFp',\n",
       " 'jqHRNqRjqzjGDLGLrsFMfFZSrLrFZsSL',\n",
       " 'PmmdzqPrVvPwwTWBwg',\n",
       " 'wMqvLMZHhHMvwLHjbvcjnnSBnvTQFn',\n",
       " 'ttgJtRGJQctTZtZT',\n",
       " 'CrZsJsPPZsGzwwsLwLmpwMDw']"
      ]
     },
     "execution_count": 23,
     "metadata": {},
     "output_type": "execute_result"
    }
   ],
   "source": [
    "tst"
   ]
  },
  {
   "cell_type": "code",
   "execution_count": 24,
   "id": "873bb062-807f-4bd7-9909-06c4ef79009c",
   "metadata": {},
   "outputs": [],
   "source": [
    "['vJrwpWtwJgWrhcsFMMfFFhFp',\n",
    " 'jqHRNqRjqzjGDLGLrsFMfFZSrLrFZsSL',\n",
    " 'PmmdzqPrVvPwwTWBwg'].remove('PmmdzqPrVvPwwTWBwg')"
   ]
  },
  {
   "cell_type": "code",
   "execution_count": 25,
   "id": "5c479ce4-3cfb-4140-89c9-f1c9104fc096",
   "metadata": {},
   "outputs": [
    {
     "data": {
      "text/plain": [
       "70"
      ]
     },
     "execution_count": 25,
     "metadata": {},
     "output_type": "execute_result"
    }
   ],
   "source": [
    "total = 0\n",
    "\n",
    "for i in range(0,len(tst), 3):\n",
    "    group = [tst[i], tst[i+1], tst[i+2]]\n",
    "    shortest = find_shortest(group)\n",
    "    group.remove(shortest)\n",
    "\n",
    "    cmn_set = list(set(group[0]).intersection(set(group[1])))\n",
    "    \n",
    "    for elm in shortest:\n",
    "        if elm in cmn_set:\n",
    "            total += priority(elm)\n",
    "            break\n",
    "total"
   ]
  },
  {
   "cell_type": "code",
   "execution_count": 26,
   "id": "f64ad05d-b57a-4822-bfa0-2bb1572e2121",
   "metadata": {},
   "outputs": [
    {
     "name": "stdout",
     "output_type": "stream",
     "text": [
      "CPU times: user 703 µs, sys: 12 µs, total: 715 µs\n",
      "Wall time: 745 µs\n"
     ]
    },
    {
     "data": {
      "text/plain": [
       "2497"
      ]
     },
     "execution_count": 26,
     "metadata": {},
     "output_type": "execute_result"
    }
   ],
   "source": [
    "%%time\n",
    "\n",
    "total = 0\n",
    "\n",
    "for i in range(0,len(lines[:-1]), 3):\n",
    "    group = [lines[i], lines[i+1], lines[i+2]]\n",
    "    shortest = find_shortest(group)\n",
    "    group.remove(shortest)\n",
    "\n",
    "    cmn_set = list(set(group[0]).intersection(set(group[1])))\n",
    "    \n",
    "    for elm in shortest:\n",
    "        if elm in cmn_set:\n",
    "            total += priority(elm)\n",
    "            break\n",
    "total"
   ]
  },
  {
   "cell_type": "code",
   "execution_count": null,
   "id": "095800f2-b29f-4d62-9b65-6a326a7009f5",
   "metadata": {},
   "outputs": [],
   "source": []
  },
  {
   "cell_type": "markdown",
   "id": "46c475da-bc92-4bb3-9e60-1dc270f494ed",
   "metadata": {},
   "source": [
    "# Day 4"
   ]
  },
  {
   "cell_type": "code",
   "execution_count": 27,
   "id": "15b0884c-4b33-42c5-ba89-326f00847242",
   "metadata": {},
   "outputs": [
    {
     "data": {
      "text/plain": [
       "['82-82,8-83', '6-98,6-93', '56-77,55-82', '51-68,51-61', '4-90,3-67']"
      ]
     },
     "execution_count": 27,
     "metadata": {},
     "output_type": "execute_result"
    }
   ],
   "source": [
    "with open('data/2022/d4.txt') as f:\n",
    "    lines = list(f.read().split('\\n'))\n",
    "\n",
    "lines = lines[:-1]    \n",
    "tst = lines[:5]\n",
    "tst"
   ]
  },
  {
   "cell_type": "code",
   "execution_count": 28,
   "id": "3e598c2f-cfc7-41d0-86a0-9a6eef5fbbb4",
   "metadata": {},
   "outputs": [
    {
     "data": {
      "text/plain": [
       "498"
      ]
     },
     "execution_count": 28,
     "metadata": {},
     "output_type": "execute_result"
    }
   ],
   "source": [
    "\n",
    "\n",
    "count = 0\n",
    "\n",
    "for elm in lines:\n",
    "    f, s = elm.split(',')\n",
    "    \n",
    "    f1,f2 = map(int,f.split('-'))\n",
    "    s1,s2 = map(int,s.split('-'))\n",
    "    \n",
    "    if f1 <= s1 and f2 >= s2:\n",
    "        count +=1\n",
    "    elif f1 >= s1 and f2 <= s2:\n",
    "        count +=1\n",
    "\n",
    "count"
   ]
  },
  {
   "cell_type": "code",
   "execution_count": 29,
   "id": "e3da50c3-c316-45d7-a357-36ce0292c151",
   "metadata": {},
   "outputs": [
    {
     "name": "stdout",
     "output_type": "stream",
     "text": [
      "Star 1: 498 and Star 2: 859\n",
      "CPU times: user 1.9 ms, sys: 33 µs, total: 1.93 ms\n",
      "Wall time: 1.91 ms\n"
     ]
    }
   ],
   "source": [
    "%%time\n",
    "\n",
    "star1 = 0\n",
    "star2 = 0\n",
    "\n",
    "for elm in lines:\n",
    "    f, s = elm.split(',')\n",
    "    \n",
    "    f1,f2 = map(int,f.split('-'))\n",
    "    s1,s2 = map(int,s.split('-'))\n",
    "    \n",
    "    f_range = range(f1,f2+1)\n",
    "    s_range = range(s1,s2+1)\n",
    "    \n",
    "    if f1 <= s1 and f2 >= s2:\n",
    "        star1 +=1\n",
    "    elif f1 >= s1 and f2 <= s2:\n",
    "        star1 +=1\n",
    "\n",
    "    if s1 in f_range or s2 in f_range:\n",
    "        star2 +=1\n",
    "    elif f1 in s_range or f2 in s_range:\n",
    "        star2 +=1\n",
    "        \n",
    "print(f\"Star 1: {star1} and Star 2: {star2}\")"
   ]
  },
  {
   "cell_type": "code",
   "execution_count": null,
   "id": "a5a14ac9-1347-4a1f-a7c5-8e560874369d",
   "metadata": {},
   "outputs": [],
   "source": []
  },
  {
   "cell_type": "markdown",
   "id": "b47224cd-3197-4f86-a60a-4fb70deab93e",
   "metadata": {},
   "source": [
    "# Day 5"
   ]
  },
  {
   "cell_type": "code",
   "execution_count": 30,
   "id": "e21613b5-9df4-40d4-99e3-900032d1925a",
   "metadata": {},
   "outputs": [
    {
     "data": {
      "text/plain": [
       "['                [M]     [W] [M]    ',\n",
       " '            [L] [Q] [S] [C] [R]    ',\n",
       " '            [Q] [F] [F] [T] [N] [S]',\n",
       " '    [N]     [V] [V] [H] [L] [J] [D]',\n",
       " '    [D] [D] [W] [P] [G] [R] [D] [F]',\n",
       " '[T] [T] [M] [G] [G] [Q] [N] [W] [L]',\n",
       " '[Z] [H] [F] [J] [D] [Z] [S] [H] [Q]',\n",
       " '[B] [V] [B] [T] [W] [V] [Z] [Z] [M]',\n",
       " ' 1   2   3   4   5   6   7   8   9 ']"
      ]
     },
     "execution_count": 30,
     "metadata": {},
     "output_type": "execute_result"
    }
   ],
   "source": [
    "with open('data/2022/d5.txt') as f:\n",
    "    lines = list(f.read().split('\\n\\n'))\n",
    "\n",
    "# lines = lines[:-1]    \n",
    "crate = lines[0].split('\\n')\n",
    "rules = lines[1].split('\\n')[:-1]\n",
    "crate"
   ]
  },
  {
   "cell_type": "code",
   "execution_count": 31,
   "id": "f8028ca7-3843-4807-a746-17681994a37c",
   "metadata": {},
   "outputs": [
    {
     "data": {
      "text/plain": [
       "['BZT',\n",
       " 'VHTDN',\n",
       " 'BFMD',\n",
       " 'TJGWVQL',\n",
       " 'WDGPVFQM',\n",
       " 'VZQGHFS',\n",
       " 'ZSNRLTCW',\n",
       " 'ZHWDJNRM',\n",
       " 'MQLFDS']"
      ]
     },
     "execution_count": 31,
     "metadata": {},
     "output_type": "execute_result"
    }
   ],
   "source": [
    "crate_rows = [''.join(s).strip() for s in zip(*crate[:-1][::-1])][1::4]\n",
    "crate_rows"
   ]
  },
  {
   "cell_type": "code",
   "execution_count": 32,
   "id": "78d36f9e-4d1a-4243-b2de-e4cf3699469d",
   "metadata": {},
   "outputs": [
    {
     "name": "stdout",
     "output_type": "stream",
     "text": [
      "BZ T\n"
     ]
    }
   ],
   "source": [
    "tst = 'BZT'\n",
    "move = tst[-1]\n",
    "tst = tst[:-1]\n",
    "\n",
    "print(tst, move)"
   ]
  },
  {
   "cell_type": "code",
   "execution_count": 33,
   "id": "ff06ed46-bb3c-4918-9238-832c6843b779",
   "metadata": {},
   "outputs": [
    {
     "data": {
      "text/plain": [
       "['move 1 from 7 to 4', 'move 1 from 6 to 2']"
      ]
     },
     "execution_count": 33,
     "metadata": {},
     "output_type": "execute_result"
    }
   ],
   "source": [
    "rules[:2]"
   ]
  },
  {
   "cell_type": "code",
   "execution_count": 34,
   "id": "2dc06d8d-b690-4ced-a7a2-7025bd5eedda",
   "metadata": {},
   "outputs": [
    {
     "name": "stdout",
     "output_type": "stream",
     "text": [
      "1 7 4\n"
     ]
    }
   ],
   "source": [
    "tst_rule = rules[0]\n",
    "amount, frm, to = map(int, tst_rule.split(' ')[1::2])\n",
    "\n",
    "print(amount, frm, to)"
   ]
  },
  {
   "cell_type": "code",
   "execution_count": 35,
   "id": "168e1141-63a5-478b-b9fa-6a872494b36e",
   "metadata": {},
   "outputs": [
    {
     "data": {
      "text/plain": [
       "['BZT',\n",
       " 'VHTDN',\n",
       " 'BFMD',\n",
       " 'TJGWVQL',\n",
       " 'WDGPVFQM',\n",
       " 'VZQGHFS',\n",
       " 'ZSNRLTCW',\n",
       " 'ZHWDJNRM',\n",
       " 'MQLFDS']"
      ]
     },
     "execution_count": 35,
     "metadata": {},
     "output_type": "execute_result"
    }
   ],
   "source": [
    "crate_rows = [''.join(s).strip() for s in zip(*crate[:-1][::-1])][1::4]\n",
    "crate_rows"
   ]
  },
  {
   "cell_type": "code",
   "execution_count": 36,
   "id": "fc7d2c29-bdd9-4b9d-a34d-2ecbe0d8bf2f",
   "metadata": {},
   "outputs": [
    {
     "data": {
      "text/plain": [
       "'NTWZZWHFV'"
      ]
     },
     "execution_count": 36,
     "metadata": {},
     "output_type": "execute_result"
    }
   ],
   "source": [
    "crate_rows = [''.join(s).strip() for s in zip(*crate[:-1][::-1])][1::4]\n",
    "\n",
    "for rule in rules:\n",
    "    amount, frm, to = map(int, rule.split(' ')[1::2])\n",
    "\n",
    "    for i in range(amount):\n",
    "        move = crate_rows[frm-1][-1]\n",
    "        \n",
    "        crate_rows[frm-1] = crate_rows[frm-1][:-1]\n",
    "        \n",
    "        crate_rows[to -1] += move\n",
    "        \n",
    "    \n",
    "message = ''\n",
    "\n",
    "for row in crate_rows:\n",
    "    message += row[-1]\n",
    "message"
   ]
  },
  {
   "cell_type": "code",
   "execution_count": 37,
   "id": "db14f64b-4af4-497d-8a47-9477f66d8dff",
   "metadata": {},
   "outputs": [
    {
     "name": "stdout",
     "output_type": "stream",
     "text": [
      "move 1 from 5 to 8\n",
      "we move W, amount 1\n",
      "row before reduction ZSNRLTCW\n",
      "reduced row ZSNRLTC\n"
     ]
    }
   ],
   "source": [
    "tst_rule = rules[0]\n",
    "crate_rows = [''.join(s).strip() for s in zip(*crate[:-1][::-1])][1::4]\n",
    "\n",
    "print(rule)\n",
    "amount, frm, to = map(int, tst_rule.split(' ')[1::2])\n",
    "\n",
    "move = crate_rows[frm-1][-amount:]\n",
    "print(f\"we move {move}, amount {amount}\")\n",
    "    \n",
    "print(f\"row before reduction {crate_rows[frm-1]}\")\n",
    "crate_rows[frm-1] = crate_rows[frm-1][:-amount]\n",
    "        \n",
    "print(f\"reduced row {crate_rows[frm-1]}\")"
   ]
  },
  {
   "cell_type": "code",
   "execution_count": 38,
   "id": "d2035789-6e79-410b-be5e-ffb55454036c",
   "metadata": {},
   "outputs": [
    {
     "data": {
      "text/plain": [
       "'BRZGFVBTJ'"
      ]
     },
     "execution_count": 38,
     "metadata": {},
     "output_type": "execute_result"
    }
   ],
   "source": [
    "crate_rows = [''.join(s).strip() for s in zip(*crate[:-1][::-1])][1::4]\n",
    "\n",
    "for rule in rules:\n",
    "    amount, frm, to = map(int, rule.split(' ')[1::2])\n",
    "\n",
    "    move = crate_rows[frm-1][-amount:]\n",
    "\n",
    "    crate_rows[frm-1] = crate_rows[frm-1][:-amount]\n",
    "        \n",
    "    crate_rows[to -1] += move\n",
    "        \n",
    "message = ''\n",
    "\n",
    "for row in crate_rows:\n",
    "    message += row[-1]\n",
    "message"
   ]
  },
  {
   "cell_type": "code",
   "execution_count": null,
   "id": "df8c10e2-4d36-4e55-879a-6c4091257eae",
   "metadata": {},
   "outputs": [],
   "source": []
  },
  {
   "cell_type": "code",
   "execution_count": null,
   "id": "65f7e22e-c013-49ce-8a94-64c94b8c8734",
   "metadata": {},
   "outputs": [],
   "source": []
  },
  {
   "cell_type": "markdown",
   "id": "ecea2a6c-f2b5-4487-83a1-d093ac2eaa92",
   "metadata": {},
   "source": [
    "# Day 6"
   ]
  },
  {
   "cell_type": "code",
   "execution_count": 39,
   "id": "1bd15919-01d9-463a-8f2f-278de0639669",
   "metadata": {},
   "outputs": [],
   "source": [
    "# with open('data/2022/d6.txt') as f:\n",
    "#     lines = list(f.read().split('\\n\\n'))\n",
    "\n",
    "# lines = lines[:-1]    "
   ]
  },
  {
   "cell_type": "code",
   "execution_count": null,
   "id": "c136fcdd-f359-4da2-8678-bad6cfd18e26",
   "metadata": {},
   "outputs": [],
   "source": []
  }
 ],
 "metadata": {
  "kernelspec": {
   "display_name": "Python 3 (ipykernel)",
   "language": "python",
   "name": "python3"
  },
  "language_info": {
   "codemirror_mode": {
    "name": "ipython",
    "version": 3
   },
   "file_extension": ".py",
   "mimetype": "text/x-python",
   "name": "python",
   "nbconvert_exporter": "python",
   "pygments_lexer": "ipython3",
   "version": "3.9.12"
  }
 },
 "nbformat": 4,
 "nbformat_minor": 5
}
