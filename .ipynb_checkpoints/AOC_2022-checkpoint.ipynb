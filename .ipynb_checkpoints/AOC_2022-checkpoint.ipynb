{
 "cells": [
  {
   "cell_type": "code",
   "execution_count": 1,
   "id": "08331657-2020-4e6b-9c27-bd4b862a2ae4",
   "metadata": {},
   "outputs": [],
   "source": [
    "import numpy as np\n",
    "import timeit"
   ]
  },
  {
   "cell_type": "markdown",
   "id": "cf64577c-6884-41a4-8c30-b82136701c73",
   "metadata": {},
   "source": [
    "# Day 1"
   ]
  },
  {
   "cell_type": "code",
   "execution_count": 17,
   "id": "a046aa67-f2b7-4db7-9893-ccf9679f9063",
   "metadata": {
    "tags": []
   },
   "outputs": [
    {
     "data": {
      "text/plain": [
       "['62797', '', '1137', '6086', '6104', '1895', '7909', '1651', '4973', '6964']"
      ]
     },
     "execution_count": 17,
     "metadata": {},
     "output_type": "execute_result"
    }
   ],
   "source": [
    "with open('data/2022/d1.txt') as f:\n",
    "    lines = list(f.read().split('\\n'))\n",
    "lines[:10]"
   ]
  },
  {
   "cell_type": "code",
   "execution_count": 55,
   "id": "569f9703-cf57-474e-8438-953835e0af60",
   "metadata": {},
   "outputs": [
    {
     "name": "stdout",
     "output_type": "stream",
     "text": [
      "Star 1: 68442 and Star 2: 204837\n",
      "CPU times: user 2.09 ms, sys: 958 µs, total: 3.05 ms\n",
      "Wall time: 3.27 ms\n"
     ]
    }
   ],
   "source": [
    "%%time\n",
    "\n",
    "lofl = []\n",
    "sblst = []\n",
    "for elm in lines:\n",
    "    if elm != '':\n",
    "        sblst.append(int(elm))\n",
    "    elif elm == '':\n",
    "        lofl.append(sblst)\n",
    "        sblst = []\n",
    "    else:\n",
    "        lofl.append(sblst)\n",
    "        \n",
    "print(f\"Star 1: {max([sum(sb) for sb in lofl])} and Star 2: {sum(sorted([sum(sb) for sb in lofl])[-3:])}\")"
   ]
  },
  {
   "cell_type": "code",
   "execution_count": 57,
   "id": "a8eb9b96-fa7e-45cc-99a5-6dac2176e580",
   "metadata": {},
   "outputs": [
    {
     "name": "stdout",
     "output_type": "stream",
     "text": [
      "Star 1: 68442 and Star 2: 204837\n",
      "CPU times: user 2.16 ms, sys: 286 µs, total: 2.44 ms\n",
      "Wall time: 2.39 ms\n"
     ]
    }
   ],
   "source": [
    "%%time\n",
    "# Refactored but slower or equiv?\n",
    "\n",
    "lofl = []\n",
    "sm = []\n",
    "\n",
    "for elm in lines:\n",
    "    \n",
    "    if elm != '':\n",
    "        sm.append(int(elm))\n",
    "        \n",
    "    elif elm == '':\n",
    "        lofl.append(sum(sm))\n",
    "        sm = []\n",
    "        \n",
    "    else:\n",
    "        lofl.append(sblst)\n",
    "        \n",
    "lofl = sorted(lofl)\n",
    "        \n",
    "print(f\"Star 1: {max(lofl)} and Star 2: {sum(lofl[-3:])}\")"
   ]
  },
  {
   "cell_type": "code",
   "execution_count": null,
   "id": "2f3cc1ee-2c65-4ddf-af81-973d40de9d84",
   "metadata": {},
   "outputs": [],
   "source": []
  },
  {
   "cell_type": "markdown",
   "id": "2cf64fce-6f4c-4857-8138-1ce5a37ca5f7",
   "metadata": {},
   "source": [
    "# Day 2"
   ]
  },
  {
   "cell_type": "code",
   "execution_count": 4,
   "id": "a365907c-7a78-464b-8df0-62a9a1866af8",
   "metadata": {},
   "outputs": [
    {
     "data": {
      "text/plain": [
       "['B Y', 'A X', 'B Y', 'A Y', 'A Z', 'B Y', 'B Z', 'C Y', 'A X', 'C X']"
      ]
     },
     "execution_count": 4,
     "metadata": {},
     "output_type": "execute_result"
    }
   ],
   "source": [
    "with open('data/2022/d2.txt') as f:\n",
    "    lines = list(f.read().split('\\n'))\n",
    "lines[:10]"
   ]
  },
  {
   "cell_type": "markdown",
   "id": "0d2468d4-e483-4dee-b266-c38fc160f651",
   "metadata": {},
   "source": [
    "A for Rock, B for Paper, and C for Scissors. The second column--\" Suddenly, the Elf is called away to help with someone's tent.\n",
    "\n",
    "The second column, you reason, must be what you should play in response: X for Rock, Y for Paper, and Z for Scissors. Winning every time would be suspicious, so the responses must have been carefully chosen.\n",
    "\n",
    "The winner of the whole tournament is the player with the highest score. Your total score is the sum of your scores for each round. The score for a single round is the score for the shape you selected (1 for Rock, 2 for Paper, and 3 for Scissors) plus the score for the outcome of the round (0 if you lost, 3 if the round was a draw, and 6 if you won)."
   ]
  },
  {
   "cell_type": "code",
   "execution_count": 5,
   "id": "62908052-a2ac-474f-a1d1-bc7718e75534",
   "metadata": {},
   "outputs": [],
   "source": [
    "scores = {'A Z': 0, 'A X':3, 'A Y': 6, 'B X':0, 'B Y':3, 'B Z':6, 'C X':6, 'C Y':0, 'C Z':3, 'X':1, 'Y':2, 'Z':3}"
   ]
  },
  {
   "cell_type": "code",
   "execution_count": 6,
   "id": "659ff198-21e8-4cdd-b30d-9c3cdd3bb62d",
   "metadata": {},
   "outputs": [],
   "source": [
    "tst = ['A Y', 'B X', 'C Z']"
   ]
  },
  {
   "cell_type": "code",
   "execution_count": 10,
   "id": "e83ac869-9c1d-4f15-b515-2e6112341321",
   "metadata": {},
   "outputs": [
    {
     "name": "stdout",
     "output_type": "stream",
     "text": [
      "8\n",
      "9\n",
      "15\n"
     ]
    },
    {
     "data": {
      "text/plain": [
       "15"
      ]
     },
     "execution_count": 10,
     "metadata": {},
     "output_type": "execute_result"
    }
   ],
   "source": [
    "score = 0\n",
    "for pair in tst:\n",
    "    score += scores[pair]\n",
    "    score += scores[pair[-1]]\n",
    "    print(score)\n",
    "score"
   ]
  },
  {
   "cell_type": "code",
   "execution_count": 13,
   "id": "2d06244f-79b7-4909-aec5-c40beaaf34fc",
   "metadata": {},
   "outputs": [
    {
     "data": {
      "text/plain": [
       "12740"
      ]
     },
     "execution_count": 13,
     "metadata": {},
     "output_type": "execute_result"
    }
   ],
   "source": [
    "score = 0\n",
    "for pair in lines[:-1]:\n",
    "    score += scores[pair]\n",
    "    score += scores[pair[-1]]\n",
    "score"
   ]
  },
  {
   "cell_type": "markdown",
   "id": "a9d98abc-be13-4157-9ed3-1957cf41798c",
   "metadata": {},
   "source": [
    "X means you need to lose, Y means you need to end the round in a draw, and Z means you need to win.\n",
    "\n",
    "Elf: A for Rock, B for Paper, and C for Scissors.\n",
    "\n",
    "Me: X for Rock, Y for Paper, and Z for Scissors."
   ]
  },
  {
   "cell_type": "code",
   "execution_count": 14,
   "id": "1c053d66-261a-4dc6-8f5f-53cc31c2e2ae",
   "metadata": {},
   "outputs": [],
   "source": [
    "choice = {'A X':'Z', 'A Y':'X', 'A Z':'Y', \n",
    "          'B X':'X', 'B Y':'Y', 'B Z':'Z',\n",
    "          'C X':'Y', 'C Y':'Z', 'C Z':'X'}"
   ]
  },
  {
   "cell_type": "code",
   "execution_count": 20,
   "id": "c8912455-d1c4-41e2-abd5-5c40e22cb914",
   "metadata": {},
   "outputs": [
    {
     "data": {
      "text/plain": [
       "12"
      ]
     },
     "execution_count": 20,
     "metadata": {},
     "output_type": "execute_result"
    }
   ],
   "source": [
    "score = 0\n",
    "for pair in tst:\n",
    "    new_choice = choice[pair]\n",
    "    \n",
    "    new_pair = pair[0:2] + new_choice\n",
    "    score += scores[new_pair]\n",
    "    score += scores[new_choice]\n",
    "score"
   ]
  },
  {
   "cell_type": "code",
   "execution_count": 22,
   "id": "42e03b00-b625-42fd-a3f6-ecc1781c2736",
   "metadata": {},
   "outputs": [
    {
     "data": {
      "text/plain": [
       "11980"
      ]
     },
     "execution_count": 22,
     "metadata": {},
     "output_type": "execute_result"
    }
   ],
   "source": [
    "score = 0\n",
    "for pair in lines[:-1]:\n",
    "    new_choice = choice[pair]\n",
    "    \n",
    "    new_pair = pair[0:2] + new_choice\n",
    "    score += scores[new_pair]\n",
    "    score += scores[new_choice]\n",
    "score"
   ]
  },
  {
   "cell_type": "code",
   "execution_count": null,
   "id": "ac31d308-abce-449f-ab48-89a7fdaad08c",
   "metadata": {},
   "outputs": [],
   "source": []
  }
 ],
 "metadata": {
  "kernelspec": {
   "display_name": "Python 3 (ipykernel)",
   "language": "python",
   "name": "python3"
  },
  "language_info": {
   "codemirror_mode": {
    "name": "ipython",
    "version": 3
   },
   "file_extension": ".py",
   "mimetype": "text/x-python",
   "name": "python",
   "nbconvert_exporter": "python",
   "pygments_lexer": "ipython3",
   "version": "3.9.12"
  }
 },
 "nbformat": 4,
 "nbformat_minor": 5
}
